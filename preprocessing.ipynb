{
 "cells": [
  {
   "cell_type": "code",
   "execution_count": 387,
   "id": "28d20967",
   "metadata": {
    "ExecuteTime": {
     "end_time": "2023-04-05T06:14:16.326300Z",
     "start_time": "2023-04-05T06:14:10.304460Z"
    }
   },
   "outputs": [
    {
     "name": "stdout",
     "output_type": "stream",
     "text": [
      "Requirement already satisfied: imblearn in /opt/anaconda3/lib/python3.9/site-packages (0.0)\n",
      "Requirement already satisfied: imbalanced-learn in /opt/anaconda3/lib/python3.9/site-packages (from imblearn) (0.9.0)\n",
      "Requirement already satisfied: scikit-learn>=1.0.1 in /opt/anaconda3/lib/python3.9/site-packages (from imbalanced-learn->imblearn) (1.1.1)\n",
      "Requirement already satisfied: threadpoolctl>=2.0.0 in /opt/anaconda3/lib/python3.9/site-packages (from imbalanced-learn->imblearn) (2.2.0)\n",
      "Requirement already satisfied: numpy>=1.14.6 in /opt/anaconda3/lib/python3.9/site-packages (from imbalanced-learn->imblearn) (1.20.3)\n",
      "Requirement already satisfied: scipy>=1.1.0 in /opt/anaconda3/lib/python3.9/site-packages (from imbalanced-learn->imblearn) (1.9.0)\n",
      "Requirement already satisfied: joblib>=0.11 in /opt/anaconda3/lib/python3.9/site-packages (from imbalanced-learn->imblearn) (1.1.0)\n"
     ]
    }
   ],
   "source": [
    "!pip install imblearn"
   ]
  },
  {
   "cell_type": "code",
   "execution_count": 37,
   "id": "c9cee10b",
   "metadata": {
    "ExecuteTime": {
     "end_time": "2023-04-09T06:18:29.994424Z",
     "start_time": "2023-04-09T06:18:29.980864Z"
    }
   },
   "outputs": [],
   "source": [
    "import pandas as pd\n",
    "import seaborn as sns\n",
    "import matplotlib.pyplot as plt\n",
    "import numpy as np\n",
    "import tqdm\n",
    "from sklearn.model_selection import train_test_split\n",
    "# data dumb store\n",
    "import joblib\n",
    "# to locate yaml file\n",
    "import yaml\n",
    "# to locate directore\n",
    "import os\n",
    "from imblearn.under_sampling import RandomUnderSampler\n",
    "from imblearn.over_sampling import RandomOverSampler, SMOTE\n",
    "from sklearn.preprocessing import LabelEncoder\n",
    "from sklearn.preprocessing import OneHotEncoder\n",
    "from sklearn.impute import SimpleImputer"
   ]
  },
  {
   "cell_type": "code",
   "execution_count": 56,
   "id": "5a15af5a",
   "metadata": {
    "ExecuteTime": {
     "end_time": "2023-04-09T06:19:48.862418Z",
     "start_time": "2023-04-09T06:19:48.857067Z"
    }
   },
   "outputs": [],
   "source": [
    "params_dir = \"config/params.yaml\""
   ]
  },
  {
   "cell_type": "code",
   "execution_count": 57,
   "id": "858de887",
   "metadata": {
    "ExecuteTime": {
     "end_time": "2023-04-09T06:19:49.334224Z",
     "start_time": "2023-04-09T06:19:49.325638Z"
    }
   },
   "outputs": [],
   "source": [
    "def load_params(param_dir):\n",
    "    with open(param_dir, 'r') as file:\n",
    "        params = yaml.safe_load(file)\n",
    "        \n",
    "    return params"
   ]
  },
  {
   "cell_type": "code",
   "execution_count": 58,
   "id": "2e0f1e78",
   "metadata": {
    "ExecuteTime": {
     "end_time": "2023-04-09T06:19:49.788087Z",
     "start_time": "2023-04-09T06:19:49.766393Z"
    }
   },
   "outputs": [],
   "source": [
    "params = load_params(params_dir)"
   ]
  },
  {
   "cell_type": "code",
   "execution_count": 59,
   "id": "e79460df",
   "metadata": {
    "ExecuteTime": {
     "end_time": "2023-04-09T06:19:50.192075Z",
     "start_time": "2023-04-09T06:19:50.181935Z"
    }
   },
   "outputs": [
    {
     "data": {
      "text/plain": [
       "{'dataset_dir': 'data/awal/',\n",
       " 'int32_columns': ['age',\n",
       "  'balance',\n",
       "  'day',\n",
       "  'duration',\n",
       "  'campaign',\n",
       "  'pdays',\n",
       "  'previous'],\n",
       " 'label': 'deposit',\n",
       " 'label_deposit': ['no', 'yes'],\n",
       " 'label_deposit_new': ['no', 'yes'],\n",
       " 'missing_value_pdays': 0,\n",
       " 'missing_value_balance': 630,\n",
       " 'object_columns': ['job',\n",
       "  'marital',\n",
       "  'education',\n",
       "  'default',\n",
       "  'housing',\n",
       "  'loan',\n",
       "  'contact',\n",
       "  'month',\n",
       "  'poutcome',\n",
       "  'deposit'],\n",
       " 'predictors': ['age',\n",
       "  'job',\n",
       "  'marital',\n",
       "  'education',\n",
       "  'default',\n",
       "  'balance',\n",
       "  'housing',\n",
       "  'loan',\n",
       "  'contact',\n",
       "  'day',\n",
       "  'month',\n",
       "  'duration',\n",
       "  'campaign',\n",
       "  'pdays',\n",
       "  'previous',\n",
       "  'poutcome'],\n",
       " 'range_age': [18, 95],\n",
       " 'range_balance': [-1, 81204],\n",
       " 'range_day': [1, 31],\n",
       " 'range_duration': [2, 3881],\n",
       " 'range_campaign': [1, 63],\n",
       " 'range_pdays': [-1, 854],\n",
       " 'range_previous': [0, 58],\n",
       " 'range_job': ['admin.',\n",
       "  'technician',\n",
       "  'services',\n",
       "  'management',\n",
       "  'retired',\n",
       "  'blue-collar',\n",
       "  'unemployed',\n",
       "  'entrepreneur',\n",
       "  'housemaid',\n",
       "  'unknown',\n",
       "  'self-employed',\n",
       "  'student'],\n",
       " 'range_marital': ['married', 'single', 'divorced'],\n",
       " 'range_education': ['secondary', 'tertiary', 'primary', 'unknown'],\n",
       " 'range_default': ['no', 'yes'],\n",
       " 'range_housing': ['no', 'yes'],\n",
       " 'range_loan': ['no', 'yes'],\n",
       " 'range_contact': ['unknown', 'cellular', 'telephone'],\n",
       " 'range_month': ['jan',\n",
       "  'feb',\n",
       "  'mar',\n",
       "  'apr',\n",
       "  'may',\n",
       "  'jun',\n",
       "  'jul',\n",
       "  'aug',\n",
       "  'sep',\n",
       "  'oct',\n",
       "  'nov',\n",
       "  'dec'],\n",
       " 'range_poutcome': ['unknown', 'other', 'failure', 'success'],\n",
       " 'range_deposit': ['yes', 'no']}"
      ]
     },
     "execution_count": 59,
     "metadata": {},
     "output_type": "execute_result"
    }
   ],
   "source": [
    "params"
   ]
  },
  {
   "cell_type": "markdown",
   "id": "553e6971",
   "metadata": {},
   "source": [
    "# Kesimpulan"
   ]
  },
  {
   "cell_type": "markdown",
   "id": "a0b3eb6f",
   "metadata": {
    "ExecuteTime": {
     "end_time": "2023-04-04T17:28:32.649589Z",
     "start_time": "2023-04-04T17:28:32.601004Z"
    }
   },
   "source": [
    "- Outlier Removal (we'll try in the other trial)\n",
    "- missing value `balance` diimputasi dgn median masing2 kelas\n",
    "- missing value `pdays` di imputasi dgn 0"
   ]
  },
  {
   "cell_type": "markdown",
   "id": "df469602",
   "metadata": {},
   "source": [
    "# Case"
   ]
  },
  {
   "cell_type": "markdown",
   "id": "1fff4286",
   "metadata": {
    "ExecuteTime": {
     "end_time": "2023-04-04T08:41:05.833832Z",
     "start_time": "2023-04-04T08:41:05.823734Z"
    }
   },
   "source": [
    "- Objective: Bank wants to increase the number of deposite by optimizing data-driven marketing strategy\n",
    "- Concern: Short term revenue growth --> ML performance"
   ]
  },
  {
   "cell_type": "markdown",
   "id": "f520f0b1",
   "metadata": {},
   "source": [
    "# Load Dataset"
   ]
  },
  {
   "cell_type": "code",
   "execution_count": 2,
   "id": "84606090",
   "metadata": {
    "ExecuteTime": {
     "end_time": "2023-04-09T06:16:21.903136Z",
     "start_time": "2023-04-09T06:16:21.863919Z"
    }
   },
   "outputs": [],
   "source": [
    "x_train = joblib.load(\"data/raw/x_train.pkl\")\n",
    "y_train = joblib.load(\"data/raw/y_train.pkl\")\n",
    "\n",
    "x_valid = joblib.load(\"data/raw/x_valid.pkl\")\n",
    "y_valid = joblib.load(\"data/raw/y_valid.pkl\")\n",
    "\n",
    "x_test = joblib.load(\"data/raw/x_test.pkl\")\n",
    "y_test = joblib.load(\"data/raw/y_test.pkl\")"
   ]
  },
  {
   "cell_type": "code",
   "execution_count": 3,
   "id": "167587a6",
   "metadata": {
    "ExecuteTime": {
     "end_time": "2023-04-09T06:16:22.292636Z",
     "start_time": "2023-04-09T06:16:22.270806Z"
    }
   },
   "outputs": [],
   "source": [
    "dataset = pd.concat([x_train, y_train], axis = 1)\n",
    "\n",
    "valid_set = pd.concat([x_valid, y_valid], axis = 1)\n",
    "\n",
    "test_set = pd.concat([x_test, y_test], axis = 1)"
   ]
  },
  {
   "cell_type": "markdown",
   "id": "ca3f1861",
   "metadata": {},
   "source": [
    "# Handling Missing Values"
   ]
  },
  {
   "cell_type": "code",
   "execution_count": 4,
   "id": "e95d27b6",
   "metadata": {
    "ExecuteTime": {
     "end_time": "2023-04-09T06:16:47.555846Z",
     "start_time": "2023-04-09T06:16:47.533761Z"
    }
   },
   "outputs": [
    {
     "data": {
      "text/plain": [
       "age          0\n",
       "job          0\n",
       "marital      0\n",
       "education    0\n",
       "default      0\n",
       "balance      0\n",
       "housing      0\n",
       "loan         0\n",
       "contact      0\n",
       "day          0\n",
       "month        0\n",
       "duration     0\n",
       "campaign     0\n",
       "pdays        0\n",
       "previous     0\n",
       "poutcome     0\n",
       "deposit      0\n",
       "dtype: int64"
      ]
     },
     "execution_count": 4,
     "metadata": {},
     "output_type": "execute_result"
    }
   ],
   "source": [
    "# dataset\n",
    "dataset.isnull().sum()"
   ]
  },
  {
   "cell_type": "code",
   "execution_count": 5,
   "id": "66b8ebeb",
   "metadata": {
    "ExecuteTime": {
     "end_time": "2023-04-09T06:16:48.220134Z",
     "start_time": "2023-04-09T06:16:48.153330Z"
    }
   },
   "outputs": [
    {
     "data": {
      "text/plain": [
       "age          0\n",
       "job          0\n",
       "marital      0\n",
       "education    0\n",
       "default      0\n",
       "balance      0\n",
       "housing      0\n",
       "loan         0\n",
       "contact      0\n",
       "day          0\n",
       "month        0\n",
       "duration     0\n",
       "campaign     0\n",
       "pdays        0\n",
       "previous     0\n",
       "poutcome     0\n",
       "deposit      0\n",
       "dtype: int64"
      ]
     },
     "execution_count": 5,
     "metadata": {},
     "output_type": "execute_result"
    }
   ],
   "source": [
    "# valid set\n",
    "valid_set.isnull().sum()"
   ]
  },
  {
   "cell_type": "code",
   "execution_count": 6,
   "id": "3c371827",
   "metadata": {
    "ExecuteTime": {
     "end_time": "2023-04-09T06:16:49.598698Z",
     "start_time": "2023-04-09T06:16:49.585883Z"
    }
   },
   "outputs": [
    {
     "data": {
      "text/plain": [
       "age          0\n",
       "job          0\n",
       "marital      0\n",
       "education    0\n",
       "default      0\n",
       "balance      0\n",
       "housing      0\n",
       "loan         0\n",
       "contact      0\n",
       "day          0\n",
       "month        0\n",
       "duration     0\n",
       "campaign     0\n",
       "pdays        0\n",
       "previous     0\n",
       "poutcome     0\n",
       "deposit      0\n",
       "dtype: int64"
      ]
     },
     "execution_count": 6,
     "metadata": {},
     "output_type": "execute_result"
    }
   ],
   "source": [
    "# test set\n",
    "test_set.isnull().sum()"
   ]
  },
  {
   "cell_type": "code",
   "execution_count": 7,
   "id": "a0e964c2",
   "metadata": {
    "ExecuteTime": {
     "end_time": "2023-04-09T06:16:52.141507Z",
     "start_time": "2023-04-09T06:16:52.135451Z"
    }
   },
   "outputs": [],
   "source": [
    "# convert negative to null\n",
    "def negative_to_null(data, col):\n",
    "    data[col] = np.where(data[col] < 0, np.nan, data[col])\n",
    "    return data[col]"
   ]
  },
  {
   "cell_type": "code",
   "execution_count": 8,
   "id": "768ebda1",
   "metadata": {
    "ExecuteTime": {
     "end_time": "2023-04-09T06:16:52.480829Z",
     "start_time": "2023-04-09T06:16:52.476703Z"
    }
   },
   "outputs": [],
   "source": [
    "# Function to check null\n",
    "def check_null_per_class(data, col):\n",
    "    # check null both of 2 classes and returning 2 values of both classes\n",
    "    result = data[data.deposit == \"yes\"][col].isnull().sum(), data[data.deposit == \"no\"][col].isnull().sum() \n",
    "    return result"
   ]
  },
  {
   "cell_type": "code",
   "execution_count": 9,
   "id": "87868198",
   "metadata": {
    "ExecuteTime": {
     "end_time": "2023-04-09T06:16:52.861428Z",
     "start_time": "2023-04-09T06:16:52.855580Z"
    }
   },
   "outputs": [],
   "source": [
    "def imputer_per_class(data, col, impute_class1, impute_class0):\n",
    "    # impute with value above\n",
    "    data.loc[data[(data.deposit == \"yes\") & (data[col].isnull() == True)].index, col] = impute_class1\n",
    "    data.loc[data[(data.deposit == \"no\") & (data[col].isnull() == True)].index, col] = impute_class0\n",
    "    \n",
    "    print('Missing values after imputation : ')\n",
    "    \n",
    "    return check_null_per_class(data, col)"
   ]
  },
  {
   "cell_type": "markdown",
   "id": "6a9ba8a1",
   "metadata": {},
   "source": [
    "## `pdays`"
   ]
  },
  {
   "cell_type": "code",
   "execution_count": 10,
   "id": "3da5bf7f",
   "metadata": {
    "ExecuteTime": {
     "end_time": "2023-04-09T06:16:54.726135Z",
     "start_time": "2023-04-09T06:16:54.721698Z"
    }
   },
   "outputs": [],
   "source": [
    "impute_pdays = int(0)"
   ]
  },
  {
   "cell_type": "code",
   "execution_count": 11,
   "id": "59f98d1c",
   "metadata": {
    "ExecuteTime": {
     "end_time": "2023-04-09T06:16:54.979820Z",
     "start_time": "2023-04-09T06:16:54.967230Z"
    }
   },
   "outputs": [
    {
     "data": {
      "text/plain": [
       "0"
      ]
     },
     "execution_count": 11,
     "metadata": {},
     "output_type": "execute_result"
    }
   ],
   "source": [
    "impute_pdays"
   ]
  },
  {
   "cell_type": "markdown",
   "id": "bf20e348",
   "metadata": {},
   "source": [
    "### Training Set"
   ]
  },
  {
   "cell_type": "code",
   "execution_count": 12,
   "id": "8c296e71",
   "metadata": {
    "ExecuteTime": {
     "end_time": "2023-04-09T06:16:58.214398Z",
     "start_time": "2023-04-09T06:16:58.208029Z"
    }
   },
   "outputs": [],
   "source": [
    "# convert negative to null\n",
    "dataset['pdays'] = negative_to_null(dataset, 'pdays')"
   ]
  },
  {
   "cell_type": "code",
   "execution_count": 13,
   "id": "7f77af25",
   "metadata": {
    "ExecuteTime": {
     "end_time": "2023-04-09T06:16:58.741424Z",
     "start_time": "2023-04-09T06:16:58.720507Z"
    }
   },
   "outputs": [
    {
     "data": {
      "text/plain": [
       "(2023, 2956)"
      ]
     },
     "execution_count": 13,
     "metadata": {},
     "output_type": "execute_result"
    }
   ],
   "source": [
    "check_null_per_class(dataset, 'pdays')"
   ]
  },
  {
   "cell_type": "code",
   "execution_count": 14,
   "id": "c3a2b618",
   "metadata": {
    "ExecuteTime": {
     "end_time": "2023-04-09T06:16:59.315120Z",
     "start_time": "2023-04-09T06:16:59.282982Z"
    }
   },
   "outputs": [
    {
     "name": "stdout",
     "output_type": "stream",
     "text": [
      "Missing values after imputation : \n"
     ]
    },
    {
     "data": {
      "text/plain": [
       "(0, 0)"
      ]
     },
     "execution_count": 14,
     "metadata": {},
     "output_type": "execute_result"
    }
   ],
   "source": [
    "imputer_per_class(dataset, 'pdays', impute_pdays, impute_pdays)"
   ]
  },
  {
   "cell_type": "markdown",
   "id": "d577f4cf",
   "metadata": {},
   "source": [
    "### Valid Set"
   ]
  },
  {
   "cell_type": "code",
   "execution_count": 15,
   "id": "820baa06",
   "metadata": {
    "ExecuteTime": {
     "end_time": "2023-04-09T06:17:00.676721Z",
     "start_time": "2023-04-09T06:17:00.669625Z"
    }
   },
   "outputs": [],
   "source": [
    "# convert negative to null\n",
    "valid_set['pdays'] = negative_to_null(valid_set, 'pdays')"
   ]
  },
  {
   "cell_type": "code",
   "execution_count": 16,
   "id": "1f248dcd",
   "metadata": {
    "ExecuteTime": {
     "end_time": "2023-04-09T06:17:00.881741Z",
     "start_time": "2023-04-09T06:17:00.868036Z"
    }
   },
   "outputs": [
    {
     "data": {
      "text/plain": [
       "(677, 1000)"
      ]
     },
     "execution_count": 16,
     "metadata": {},
     "output_type": "execute_result"
    }
   ],
   "source": [
    "check_null_per_class(valid_set, 'pdays')"
   ]
  },
  {
   "cell_type": "code",
   "execution_count": 17,
   "id": "2d4fc2ac",
   "metadata": {
    "ExecuteTime": {
     "end_time": "2023-04-09T06:17:01.680982Z",
     "start_time": "2023-04-09T06:17:01.665807Z"
    }
   },
   "outputs": [
    {
     "name": "stdout",
     "output_type": "stream",
     "text": [
      "Missing values after imputation : \n"
     ]
    },
    {
     "data": {
      "text/plain": [
       "(0, 0)"
      ]
     },
     "execution_count": 17,
     "metadata": {},
     "output_type": "execute_result"
    }
   ],
   "source": [
    "imputer_per_class(valid_set, 'pdays', impute_pdays, impute_pdays)"
   ]
  },
  {
   "cell_type": "markdown",
   "id": "ad7ab07f",
   "metadata": {},
   "source": [
    "### Test set"
   ]
  },
  {
   "cell_type": "code",
   "execution_count": 18,
   "id": "0283916c",
   "metadata": {
    "ExecuteTime": {
     "end_time": "2023-04-09T06:17:03.336258Z",
     "start_time": "2023-04-09T06:17:03.321953Z"
    }
   },
   "outputs": [],
   "source": [
    "# convert negative to null\n",
    "test_set['pdays'] = negative_to_null(test_set, 'pdays')"
   ]
  },
  {
   "cell_type": "code",
   "execution_count": 19,
   "id": "e305cbed",
   "metadata": {
    "ExecuteTime": {
     "end_time": "2023-04-09T06:17:03.561930Z",
     "start_time": "2023-04-09T06:17:03.539977Z"
    }
   },
   "outputs": [
    {
     "data": {
      "text/plain": [
       "(684, 984)"
      ]
     },
     "execution_count": 19,
     "metadata": {},
     "output_type": "execute_result"
    }
   ],
   "source": [
    "check_null_per_class(test_set, 'pdays')"
   ]
  },
  {
   "cell_type": "code",
   "execution_count": 20,
   "id": "f65424f0",
   "metadata": {
    "ExecuteTime": {
     "end_time": "2023-04-09T06:17:04.283817Z",
     "start_time": "2023-04-09T06:17:04.268467Z"
    }
   },
   "outputs": [
    {
     "name": "stdout",
     "output_type": "stream",
     "text": [
      "Missing values after imputation : \n"
     ]
    },
    {
     "data": {
      "text/plain": [
       "(0, 0)"
      ]
     },
     "execution_count": 20,
     "metadata": {},
     "output_type": "execute_result"
    }
   ],
   "source": [
    "imputer_per_class(test_set, 'pdays', impute_pdays, impute_pdays)"
   ]
  },
  {
   "cell_type": "markdown",
   "id": "27839896",
   "metadata": {
    "ExecuteTime": {
     "end_time": "2023-04-04T17:29:56.571142Z",
     "start_time": "2023-04-04T17:29:56.559472Z"
    }
   },
   "source": [
    "## `balance`"
   ]
  },
  {
   "cell_type": "code",
   "execution_count": 21,
   "id": "8883a229",
   "metadata": {
    "ExecuteTime": {
     "end_time": "2023-04-09T06:17:06.019234Z",
     "start_time": "2023-04-09T06:17:06.007455Z"
    }
   },
   "outputs": [],
   "source": [
    "impute_balance_1 = int(dataset[dataset.deposit == \"yes\"].balance.median())\n",
    "impute_balance_0 = int(dataset[dataset.deposit == \"no\"].balance.median())"
   ]
  },
  {
   "cell_type": "code",
   "execution_count": 22,
   "id": "8059e14b",
   "metadata": {
    "ExecuteTime": {
     "end_time": "2023-04-09T06:17:07.154484Z",
     "start_time": "2023-04-09T06:17:07.146185Z"
    }
   },
   "outputs": [
    {
     "data": {
      "text/plain": [
       "(747, 414)"
      ]
     },
     "execution_count": 22,
     "metadata": {},
     "output_type": "execute_result"
    }
   ],
   "source": [
    "impute_balance_1, impute_balance_0"
   ]
  },
  {
   "cell_type": "markdown",
   "id": "0404133e",
   "metadata": {},
   "source": [
    "### Training set"
   ]
  },
  {
   "cell_type": "code",
   "execution_count": 23,
   "id": "51356159",
   "metadata": {
    "ExecuteTime": {
     "end_time": "2023-04-09T06:17:08.242609Z",
     "start_time": "2023-04-09T06:17:08.230943Z"
    }
   },
   "outputs": [],
   "source": [
    "# convert negative to null\n",
    "dataset['balance'] = negative_to_null(dataset, 'balance')"
   ]
  },
  {
   "cell_type": "code",
   "execution_count": 24,
   "id": "9689c99b",
   "metadata": {
    "ExecuteTime": {
     "end_time": "2023-04-09T06:17:08.611218Z",
     "start_time": "2023-04-09T06:17:08.596364Z"
    }
   },
   "outputs": [
    {
     "data": {
      "text/plain": [
       "(118, 288)"
      ]
     },
     "execution_count": 24,
     "metadata": {},
     "output_type": "execute_result"
    }
   ],
   "source": [
    "check_null_per_class(dataset, 'balance')"
   ]
  },
  {
   "cell_type": "code",
   "execution_count": 25,
   "id": "7227ffa3",
   "metadata": {
    "ExecuteTime": {
     "end_time": "2023-04-09T06:17:10.471002Z",
     "start_time": "2023-04-09T06:17:10.445387Z"
    }
   },
   "outputs": [
    {
     "name": "stdout",
     "output_type": "stream",
     "text": [
      "Missing values after imputation : \n"
     ]
    },
    {
     "data": {
      "text/plain": [
       "(0, 0)"
      ]
     },
     "execution_count": 25,
     "metadata": {},
     "output_type": "execute_result"
    }
   ],
   "source": [
    "imputer_per_class(dataset, 'balance', impute_balance_1, impute_balance_0)"
   ]
  },
  {
   "cell_type": "markdown",
   "id": "6e374d11",
   "metadata": {},
   "source": [
    "### Valid set"
   ]
  },
  {
   "cell_type": "code",
   "execution_count": 26,
   "id": "b006e192",
   "metadata": {
    "ExecuteTime": {
     "end_time": "2023-04-09T06:17:11.341878Z",
     "start_time": "2023-04-09T06:17:11.334405Z"
    }
   },
   "outputs": [],
   "source": [
    "# convert negative to null\n",
    "valid_set['balance'] = negative_to_null(valid_set, 'balance')"
   ]
  },
  {
   "cell_type": "code",
   "execution_count": 27,
   "id": "8841e039",
   "metadata": {
    "ExecuteTime": {
     "end_time": "2023-04-09T06:17:11.693007Z",
     "start_time": "2023-04-09T06:17:11.678398Z"
    }
   },
   "outputs": [
    {
     "data": {
      "text/plain": [
       "(42, 95)"
      ]
     },
     "execution_count": 27,
     "metadata": {},
     "output_type": "execute_result"
    }
   ],
   "source": [
    "check_null_per_class(valid_set, 'balance')"
   ]
  },
  {
   "cell_type": "code",
   "execution_count": 28,
   "id": "d37130c2",
   "metadata": {
    "ExecuteTime": {
     "end_time": "2023-04-09T06:17:11.978728Z",
     "start_time": "2023-04-09T06:17:11.957550Z"
    }
   },
   "outputs": [
    {
     "name": "stdout",
     "output_type": "stream",
     "text": [
      "Missing values after imputation : \n"
     ]
    },
    {
     "data": {
      "text/plain": [
       "(0, 0)"
      ]
     },
     "execution_count": 28,
     "metadata": {},
     "output_type": "execute_result"
    }
   ],
   "source": [
    "imputer_per_class(valid_set, 'balance', impute_balance_1, impute_balance_0)"
   ]
  },
  {
   "cell_type": "markdown",
   "id": "d9a0f7d4",
   "metadata": {},
   "source": [
    "### Test set"
   ]
  },
  {
   "cell_type": "code",
   "execution_count": 29,
   "id": "ad162674",
   "metadata": {
    "ExecuteTime": {
     "end_time": "2023-04-09T06:17:13.950913Z",
     "start_time": "2023-04-09T06:17:13.943687Z"
    }
   },
   "outputs": [],
   "source": [
    "# convert negative to null\n",
    "test_set['balance'] = negative_to_null(test_set, 'balance')"
   ]
  },
  {
   "cell_type": "code",
   "execution_count": 30,
   "id": "697d438f",
   "metadata": {
    "ExecuteTime": {
     "end_time": "2023-04-09T06:17:14.484416Z",
     "start_time": "2023-04-09T06:17:14.470542Z"
    }
   },
   "outputs": [
    {
     "data": {
      "text/plain": [
       "(50, 95)"
      ]
     },
     "execution_count": 30,
     "metadata": {},
     "output_type": "execute_result"
    }
   ],
   "source": [
    "check_null_per_class(test_set, 'balance')"
   ]
  },
  {
   "cell_type": "code",
   "execution_count": 31,
   "id": "9012986c",
   "metadata": {
    "ExecuteTime": {
     "end_time": "2023-04-09T06:17:14.867345Z",
     "start_time": "2023-04-09T06:17:14.845762Z"
    }
   },
   "outputs": [
    {
     "name": "stdout",
     "output_type": "stream",
     "text": [
      "Missing values after imputation : \n"
     ]
    },
    {
     "data": {
      "text/plain": [
       "(0, 0)"
      ]
     },
     "execution_count": 31,
     "metadata": {},
     "output_type": "execute_result"
    }
   ],
   "source": [
    "imputer_per_class(test_set, 'balance', impute_balance_1, impute_balance_0)"
   ]
  },
  {
   "cell_type": "markdown",
   "id": "d3a1f3f5",
   "metadata": {},
   "source": [
    "# Drop Categorical Feature w/ High Cardinality"
   ]
  },
  {
   "cell_type": "code",
   "execution_count": 32,
   "id": "dc255ba7",
   "metadata": {
    "ExecuteTime": {
     "end_time": "2023-04-09T06:17:33.744968Z",
     "start_time": "2023-04-09T06:17:33.734604Z"
    }
   },
   "outputs": [
    {
     "data": {
      "text/plain": [
       "Index(['age', 'job', 'marital', 'education', 'default', 'balance', 'housing',\n",
       "       'loan', 'contact', 'day', 'month', 'duration', 'campaign', 'pdays',\n",
       "       'previous', 'poutcome', 'deposit'],\n",
       "      dtype='object')"
      ]
     },
     "execution_count": 32,
     "metadata": {},
     "output_type": "execute_result"
    }
   ],
   "source": [
    "dataset.columns"
   ]
  },
  {
   "cell_type": "markdown",
   "id": "6142106c",
   "metadata": {},
   "source": [
    "we will drop `day`,`month` and `job`"
   ]
  },
  {
   "cell_type": "code",
   "execution_count": 33,
   "id": "723c60f9",
   "metadata": {
    "ExecuteTime": {
     "end_time": "2023-04-09T06:17:50.027491Z",
     "start_time": "2023-04-09T06:17:50.021382Z"
    }
   },
   "outputs": [],
   "source": [
    "# drop function\n",
    "def drop_feature(data, feature):\n",
    "    new_data = data.drop(feature, axis=1)\n",
    "    return new_data"
   ]
  },
  {
   "cell_type": "code",
   "execution_count": 34,
   "id": "cc329591",
   "metadata": {
    "ExecuteTime": {
     "end_time": "2023-04-09T06:18:08.655532Z",
     "start_time": "2023-04-09T06:18:08.622331Z"
    }
   },
   "outputs": [],
   "source": [
    "dataset = drop_feature(dataset, ['day','month', 'job'])\n",
    "valid_set = drop_feature(valid_set, ['day','month', 'job'])\n",
    "test_set = drop_feature(test_set, ['day','month', 'job'])"
   ]
  },
  {
   "cell_type": "markdown",
   "id": "79e7f1c5",
   "metadata": {},
   "source": [
    "# Encoding"
   ]
  },
  {
   "cell_type": "code",
   "execution_count": 35,
   "id": "50965cea",
   "metadata": {
    "ExecuteTime": {
     "end_time": "2023-04-09T06:18:11.656981Z",
     "start_time": "2023-04-09T06:18:11.648447Z"
    }
   },
   "outputs": [],
   "source": [
    "def encoding_cat_feature(data, fit=False, encoder=None):\n",
    "    # get copy and reset_index\n",
    "    data_copy = data.copy().reset_index(drop=True)\n",
    "    target_col = data_copy['deposit']\n",
    "    data_copy = data_copy.drop('deposit', axis=1)\n",
    "    \n",
    "    # category features\n",
    "    cat_features = data_copy.select_dtypes(include='object').columns\n",
    "    \n",
    "    if fit:\n",
    "        # Ohe initialization\n",
    "        ohe = OneHotEncoder(handle_unknown='ignore', drop='first')\n",
    "        \n",
    "        # fit transform\n",
    "        ohe.fit(data_copy[cat_features])\n",
    "        encoder = ohe\n",
    "        encoded_df = pd.DataFrame(ohe.transform(data_copy[cat_features]).toarray())\n",
    "    else:\n",
    "        # use existing encoder object to transform\n",
    "        encoded_df = pd.DataFrame(encoder.transform(data_copy[cat_features]).toarray())\n",
    "\n",
    "    # rename columns\n",
    "    encoded_df.columns = encoder.get_feature_names_out(cat_features)\n",
    "    \n",
    "    # drop original cat feature\n",
    "    dropped_data = data_copy.drop(cat_features, axis=1)\n",
    "    \n",
    "    #merge one-hot encoded columns back with original DataFrame\n",
    "    final_df = dropped_data.join([encoded_df, target_col])\n",
    "    \n",
    "    return encoder, final_df"
   ]
  },
  {
   "cell_type": "markdown",
   "id": "73aeeb19",
   "metadata": {},
   "source": [
    "## Training Set"
   ]
  },
  {
   "cell_type": "code",
   "execution_count": 38,
   "id": "3fef427a",
   "metadata": {
    "ExecuteTime": {
     "end_time": "2023-04-09T06:18:35.743788Z",
     "start_time": "2023-04-09T06:18:35.695005Z"
    }
   },
   "outputs": [
    {
     "data": {
      "text/plain": [
       "((6697, 14), (6697, 20))"
      ]
     },
     "execution_count": 38,
     "metadata": {},
     "output_type": "execute_result"
    }
   ],
   "source": [
    "encoder, dataset_fin = encoding_cat_feature(data = dataset,\n",
    "                                            fit = True) \n",
    "                                   \n",
    "\n",
    "dataset.shape, dataset_fin.shape"
   ]
  },
  {
   "cell_type": "code",
   "execution_count": 39,
   "id": "f8c20fe6",
   "metadata": {
    "ExecuteTime": {
     "end_time": "2023-04-09T06:18:38.338650Z",
     "start_time": "2023-04-09T06:18:38.298729Z"
    }
   },
   "outputs": [
    {
     "data": {
      "text/html": [
       "<div>\n",
       "<style scoped>\n",
       "    .dataframe tbody tr th:only-of-type {\n",
       "        vertical-align: middle;\n",
       "    }\n",
       "\n",
       "    .dataframe tbody tr th {\n",
       "        vertical-align: top;\n",
       "    }\n",
       "\n",
       "    .dataframe thead th {\n",
       "        text-align: right;\n",
       "    }\n",
       "</style>\n",
       "<table border=\"1\" class=\"dataframe\">\n",
       "  <thead>\n",
       "    <tr style=\"text-align: right;\">\n",
       "      <th></th>\n",
       "      <th>age</th>\n",
       "      <th>balance</th>\n",
       "      <th>duration</th>\n",
       "      <th>campaign</th>\n",
       "      <th>pdays</th>\n",
       "      <th>previous</th>\n",
       "      <th>marital_married</th>\n",
       "      <th>marital_single</th>\n",
       "      <th>education_secondary</th>\n",
       "      <th>education_tertiary</th>\n",
       "      <th>education_unknown</th>\n",
       "      <th>default_yes</th>\n",
       "      <th>housing_yes</th>\n",
       "      <th>loan_yes</th>\n",
       "      <th>contact_telephone</th>\n",
       "      <th>contact_unknown</th>\n",
       "      <th>poutcome_other</th>\n",
       "      <th>poutcome_success</th>\n",
       "      <th>poutcome_unknown</th>\n",
       "      <th>deposit</th>\n",
       "    </tr>\n",
       "  </thead>\n",
       "  <tbody>\n",
       "    <tr>\n",
       "      <th>0</th>\n",
       "      <td>39</td>\n",
       "      <td>94.0</td>\n",
       "      <td>181</td>\n",
       "      <td>2</td>\n",
       "      <td>0.0</td>\n",
       "      <td>0</td>\n",
       "      <td>1.0</td>\n",
       "      <td>0.0</td>\n",
       "      <td>0.0</td>\n",
       "      <td>1.0</td>\n",
       "      <td>0.0</td>\n",
       "      <td>0.0</td>\n",
       "      <td>0.0</td>\n",
       "      <td>0.0</td>\n",
       "      <td>0.0</td>\n",
       "      <td>0.0</td>\n",
       "      <td>0.0</td>\n",
       "      <td>0.0</td>\n",
       "      <td>1.0</td>\n",
       "      <td>no</td>\n",
       "    </tr>\n",
       "    <tr>\n",
       "      <th>1</th>\n",
       "      <td>32</td>\n",
       "      <td>465.0</td>\n",
       "      <td>210</td>\n",
       "      <td>2</td>\n",
       "      <td>0.0</td>\n",
       "      <td>0</td>\n",
       "      <td>1.0</td>\n",
       "      <td>0.0</td>\n",
       "      <td>1.0</td>\n",
       "      <td>0.0</td>\n",
       "      <td>0.0</td>\n",
       "      <td>0.0</td>\n",
       "      <td>1.0</td>\n",
       "      <td>0.0</td>\n",
       "      <td>0.0</td>\n",
       "      <td>0.0</td>\n",
       "      <td>0.0</td>\n",
       "      <td>0.0</td>\n",
       "      <td>1.0</td>\n",
       "      <td>no</td>\n",
       "    </tr>\n",
       "    <tr>\n",
       "      <th>2</th>\n",
       "      <td>70</td>\n",
       "      <td>6422.0</td>\n",
       "      <td>122</td>\n",
       "      <td>1</td>\n",
       "      <td>0.0</td>\n",
       "      <td>0</td>\n",
       "      <td>1.0</td>\n",
       "      <td>0.0</td>\n",
       "      <td>1.0</td>\n",
       "      <td>0.0</td>\n",
       "      <td>0.0</td>\n",
       "      <td>0.0</td>\n",
       "      <td>0.0</td>\n",
       "      <td>0.0</td>\n",
       "      <td>0.0</td>\n",
       "      <td>0.0</td>\n",
       "      <td>0.0</td>\n",
       "      <td>0.0</td>\n",
       "      <td>1.0</td>\n",
       "      <td>yes</td>\n",
       "    </tr>\n",
       "    <tr>\n",
       "      <th>3</th>\n",
       "      <td>47</td>\n",
       "      <td>1144.0</td>\n",
       "      <td>324</td>\n",
       "      <td>1</td>\n",
       "      <td>0.0</td>\n",
       "      <td>0</td>\n",
       "      <td>1.0</td>\n",
       "      <td>0.0</td>\n",
       "      <td>1.0</td>\n",
       "      <td>0.0</td>\n",
       "      <td>0.0</td>\n",
       "      <td>0.0</td>\n",
       "      <td>0.0</td>\n",
       "      <td>1.0</td>\n",
       "      <td>0.0</td>\n",
       "      <td>0.0</td>\n",
       "      <td>0.0</td>\n",
       "      <td>0.0</td>\n",
       "      <td>1.0</td>\n",
       "      <td>no</td>\n",
       "    </tr>\n",
       "    <tr>\n",
       "      <th>4</th>\n",
       "      <td>56</td>\n",
       "      <td>665.0</td>\n",
       "      <td>109</td>\n",
       "      <td>2</td>\n",
       "      <td>0.0</td>\n",
       "      <td>0</td>\n",
       "      <td>1.0</td>\n",
       "      <td>0.0</td>\n",
       "      <td>0.0</td>\n",
       "      <td>0.0</td>\n",
       "      <td>1.0</td>\n",
       "      <td>0.0</td>\n",
       "      <td>1.0</td>\n",
       "      <td>0.0</td>\n",
       "      <td>0.0</td>\n",
       "      <td>1.0</td>\n",
       "      <td>0.0</td>\n",
       "      <td>0.0</td>\n",
       "      <td>1.0</td>\n",
       "      <td>no</td>\n",
       "    </tr>\n",
       "  </tbody>\n",
       "</table>\n",
       "</div>"
      ],
      "text/plain": [
       "   age  balance  duration  campaign  pdays  previous  marital_married  \\\n",
       "0   39     94.0       181         2    0.0         0              1.0   \n",
       "1   32    465.0       210         2    0.0         0              1.0   \n",
       "2   70   6422.0       122         1    0.0         0              1.0   \n",
       "3   47   1144.0       324         1    0.0         0              1.0   \n",
       "4   56    665.0       109         2    0.0         0              1.0   \n",
       "\n",
       "   marital_single  education_secondary  education_tertiary  education_unknown  \\\n",
       "0             0.0                  0.0                 1.0                0.0   \n",
       "1             0.0                  1.0                 0.0                0.0   \n",
       "2             0.0                  1.0                 0.0                0.0   \n",
       "3             0.0                  1.0                 0.0                0.0   \n",
       "4             0.0                  0.0                 0.0                1.0   \n",
       "\n",
       "   default_yes  housing_yes  loan_yes  contact_telephone  contact_unknown  \\\n",
       "0          0.0          0.0       0.0                0.0              0.0   \n",
       "1          0.0          1.0       0.0                0.0              0.0   \n",
       "2          0.0          0.0       0.0                0.0              0.0   \n",
       "3          0.0          0.0       1.0                0.0              0.0   \n",
       "4          0.0          1.0       0.0                0.0              1.0   \n",
       "\n",
       "   poutcome_other  poutcome_success  poutcome_unknown deposit  \n",
       "0             0.0               0.0               1.0      no  \n",
       "1             0.0               0.0               1.0      no  \n",
       "2             0.0               0.0               1.0     yes  \n",
       "3             0.0               0.0               1.0      no  \n",
       "4             0.0               0.0               1.0      no  "
      ]
     },
     "execution_count": 39,
     "metadata": {},
     "output_type": "execute_result"
    }
   ],
   "source": [
    "dataset_fin.head()"
   ]
  },
  {
   "cell_type": "markdown",
   "id": "6e32006a",
   "metadata": {},
   "source": [
    "## Valid Set"
   ]
  },
  {
   "cell_type": "code",
   "execution_count": 40,
   "id": "b3e1e6d2",
   "metadata": {
    "ExecuteTime": {
     "end_time": "2023-04-09T06:18:51.333789Z",
     "start_time": "2023-04-09T06:18:51.307327Z"
    }
   },
   "outputs": [
    {
     "data": {
      "text/plain": [
       "((2232, 14), (2232, 20))"
      ]
     },
     "execution_count": 40,
     "metadata": {},
     "output_type": "execute_result"
    }
   ],
   "source": [
    "_, valid_set_fin = encoding_cat_feature(data = valid_set,\n",
    "                                        encoder = encoder)\n",
    "\n",
    "valid_set.shape, valid_set_fin.shape"
   ]
  },
  {
   "cell_type": "code",
   "execution_count": 41,
   "id": "59f9e48d",
   "metadata": {
    "ExecuteTime": {
     "end_time": "2023-04-09T06:18:52.502027Z",
     "start_time": "2023-04-09T06:18:52.468003Z"
    }
   },
   "outputs": [
    {
     "data": {
      "text/html": [
       "<div>\n",
       "<style scoped>\n",
       "    .dataframe tbody tr th:only-of-type {\n",
       "        vertical-align: middle;\n",
       "    }\n",
       "\n",
       "    .dataframe tbody tr th {\n",
       "        vertical-align: top;\n",
       "    }\n",
       "\n",
       "    .dataframe thead th {\n",
       "        text-align: right;\n",
       "    }\n",
       "</style>\n",
       "<table border=\"1\" class=\"dataframe\">\n",
       "  <thead>\n",
       "    <tr style=\"text-align: right;\">\n",
       "      <th></th>\n",
       "      <th>age</th>\n",
       "      <th>balance</th>\n",
       "      <th>duration</th>\n",
       "      <th>campaign</th>\n",
       "      <th>pdays</th>\n",
       "      <th>previous</th>\n",
       "      <th>marital_married</th>\n",
       "      <th>marital_single</th>\n",
       "      <th>education_secondary</th>\n",
       "      <th>education_tertiary</th>\n",
       "      <th>education_unknown</th>\n",
       "      <th>default_yes</th>\n",
       "      <th>housing_yes</th>\n",
       "      <th>loan_yes</th>\n",
       "      <th>contact_telephone</th>\n",
       "      <th>contact_unknown</th>\n",
       "      <th>poutcome_other</th>\n",
       "      <th>poutcome_success</th>\n",
       "      <th>poutcome_unknown</th>\n",
       "      <th>deposit</th>\n",
       "    </tr>\n",
       "  </thead>\n",
       "  <tbody>\n",
       "    <tr>\n",
       "      <th>0</th>\n",
       "      <td>35</td>\n",
       "      <td>120.0</td>\n",
       "      <td>245</td>\n",
       "      <td>2</td>\n",
       "      <td>0.0</td>\n",
       "      <td>0</td>\n",
       "      <td>1.0</td>\n",
       "      <td>0.0</td>\n",
       "      <td>1.0</td>\n",
       "      <td>0.0</td>\n",
       "      <td>0.0</td>\n",
       "      <td>0.0</td>\n",
       "      <td>1.0</td>\n",
       "      <td>0.0</td>\n",
       "      <td>0.0</td>\n",
       "      <td>1.0</td>\n",
       "      <td>0.0</td>\n",
       "      <td>0.0</td>\n",
       "      <td>1.0</td>\n",
       "      <td>no</td>\n",
       "    </tr>\n",
       "    <tr>\n",
       "      <th>1</th>\n",
       "      <td>54</td>\n",
       "      <td>0.0</td>\n",
       "      <td>986</td>\n",
       "      <td>1</td>\n",
       "      <td>94.0</td>\n",
       "      <td>8</td>\n",
       "      <td>1.0</td>\n",
       "      <td>0.0</td>\n",
       "      <td>1.0</td>\n",
       "      <td>0.0</td>\n",
       "      <td>0.0</td>\n",
       "      <td>0.0</td>\n",
       "      <td>0.0</td>\n",
       "      <td>0.0</td>\n",
       "      <td>1.0</td>\n",
       "      <td>0.0</td>\n",
       "      <td>0.0</td>\n",
       "      <td>0.0</td>\n",
       "      <td>0.0</td>\n",
       "      <td>no</td>\n",
       "    </tr>\n",
       "    <tr>\n",
       "      <th>2</th>\n",
       "      <td>29</td>\n",
       "      <td>15.0</td>\n",
       "      <td>136</td>\n",
       "      <td>1</td>\n",
       "      <td>0.0</td>\n",
       "      <td>0</td>\n",
       "      <td>1.0</td>\n",
       "      <td>0.0</td>\n",
       "      <td>1.0</td>\n",
       "      <td>0.0</td>\n",
       "      <td>0.0</td>\n",
       "      <td>0.0</td>\n",
       "      <td>0.0</td>\n",
       "      <td>0.0</td>\n",
       "      <td>0.0</td>\n",
       "      <td>0.0</td>\n",
       "      <td>0.0</td>\n",
       "      <td>0.0</td>\n",
       "      <td>1.0</td>\n",
       "      <td>no</td>\n",
       "    </tr>\n",
       "    <tr>\n",
       "      <th>3</th>\n",
       "      <td>41</td>\n",
       "      <td>6596.0</td>\n",
       "      <td>88</td>\n",
       "      <td>1</td>\n",
       "      <td>0.0</td>\n",
       "      <td>0</td>\n",
       "      <td>1.0</td>\n",
       "      <td>0.0</td>\n",
       "      <td>0.0</td>\n",
       "      <td>0.0</td>\n",
       "      <td>0.0</td>\n",
       "      <td>0.0</td>\n",
       "      <td>1.0</td>\n",
       "      <td>0.0</td>\n",
       "      <td>0.0</td>\n",
       "      <td>0.0</td>\n",
       "      <td>0.0</td>\n",
       "      <td>0.0</td>\n",
       "      <td>1.0</td>\n",
       "      <td>no</td>\n",
       "    </tr>\n",
       "    <tr>\n",
       "      <th>4</th>\n",
       "      <td>30</td>\n",
       "      <td>747.0</td>\n",
       "      <td>435</td>\n",
       "      <td>1</td>\n",
       "      <td>0.0</td>\n",
       "      <td>0</td>\n",
       "      <td>1.0</td>\n",
       "      <td>0.0</td>\n",
       "      <td>1.0</td>\n",
       "      <td>0.0</td>\n",
       "      <td>0.0</td>\n",
       "      <td>0.0</td>\n",
       "      <td>1.0</td>\n",
       "      <td>1.0</td>\n",
       "      <td>0.0</td>\n",
       "      <td>0.0</td>\n",
       "      <td>0.0</td>\n",
       "      <td>0.0</td>\n",
       "      <td>1.0</td>\n",
       "      <td>yes</td>\n",
       "    </tr>\n",
       "  </tbody>\n",
       "</table>\n",
       "</div>"
      ],
      "text/plain": [
       "   age  balance  duration  campaign  pdays  previous  marital_married  \\\n",
       "0   35    120.0       245         2    0.0         0              1.0   \n",
       "1   54      0.0       986         1   94.0         8              1.0   \n",
       "2   29     15.0       136         1    0.0         0              1.0   \n",
       "3   41   6596.0        88         1    0.0         0              1.0   \n",
       "4   30    747.0       435         1    0.0         0              1.0   \n",
       "\n",
       "   marital_single  education_secondary  education_tertiary  education_unknown  \\\n",
       "0             0.0                  1.0                 0.0                0.0   \n",
       "1             0.0                  1.0                 0.0                0.0   \n",
       "2             0.0                  1.0                 0.0                0.0   \n",
       "3             0.0                  0.0                 0.0                0.0   \n",
       "4             0.0                  1.0                 0.0                0.0   \n",
       "\n",
       "   default_yes  housing_yes  loan_yes  contact_telephone  contact_unknown  \\\n",
       "0          0.0          1.0       0.0                0.0              1.0   \n",
       "1          0.0          0.0       0.0                1.0              0.0   \n",
       "2          0.0          0.0       0.0                0.0              0.0   \n",
       "3          0.0          1.0       0.0                0.0              0.0   \n",
       "4          0.0          1.0       1.0                0.0              0.0   \n",
       "\n",
       "   poutcome_other  poutcome_success  poutcome_unknown deposit  \n",
       "0             0.0               0.0               1.0      no  \n",
       "1             0.0               0.0               0.0      no  \n",
       "2             0.0               0.0               1.0      no  \n",
       "3             0.0               0.0               1.0      no  \n",
       "4             0.0               0.0               1.0     yes  "
      ]
     },
     "execution_count": 41,
     "metadata": {},
     "output_type": "execute_result"
    }
   ],
   "source": [
    "valid_set_fin.head()"
   ]
  },
  {
   "cell_type": "markdown",
   "id": "efb2506b",
   "metadata": {},
   "source": [
    "## Test Set"
   ]
  },
  {
   "cell_type": "code",
   "execution_count": 42,
   "id": "8eb0a703",
   "metadata": {
    "ExecuteTime": {
     "end_time": "2023-04-09T06:18:56.707524Z",
     "start_time": "2023-04-09T06:18:56.679517Z"
    }
   },
   "outputs": [
    {
     "data": {
      "text/plain": [
       "((2233, 14), (2233, 20))"
      ]
     },
     "execution_count": 42,
     "metadata": {},
     "output_type": "execute_result"
    }
   ],
   "source": [
    "_, test_set_fin = encoding_cat_feature(data = test_set,\n",
    "                                       encoder = encoder)\n",
    "\n",
    "test_set.shape, test_set_fin.shape"
   ]
  },
  {
   "cell_type": "code",
   "execution_count": 43,
   "id": "67632fe2",
   "metadata": {
    "ExecuteTime": {
     "end_time": "2023-04-09T06:19:25.760909Z",
     "start_time": "2023-04-09T06:19:25.681707Z"
    }
   },
   "outputs": [
    {
     "data": {
      "text/html": [
       "<div>\n",
       "<style scoped>\n",
       "    .dataframe tbody tr th:only-of-type {\n",
       "        vertical-align: middle;\n",
       "    }\n",
       "\n",
       "    .dataframe tbody tr th {\n",
       "        vertical-align: top;\n",
       "    }\n",
       "\n",
       "    .dataframe thead th {\n",
       "        text-align: right;\n",
       "    }\n",
       "</style>\n",
       "<table border=\"1\" class=\"dataframe\">\n",
       "  <thead>\n",
       "    <tr style=\"text-align: right;\">\n",
       "      <th></th>\n",
       "      <th>age</th>\n",
       "      <th>balance</th>\n",
       "      <th>duration</th>\n",
       "      <th>campaign</th>\n",
       "      <th>pdays</th>\n",
       "      <th>previous</th>\n",
       "      <th>marital_married</th>\n",
       "      <th>marital_single</th>\n",
       "      <th>education_secondary</th>\n",
       "      <th>education_tertiary</th>\n",
       "      <th>education_unknown</th>\n",
       "      <th>default_yes</th>\n",
       "      <th>housing_yes</th>\n",
       "      <th>loan_yes</th>\n",
       "      <th>contact_telephone</th>\n",
       "      <th>contact_unknown</th>\n",
       "      <th>poutcome_other</th>\n",
       "      <th>poutcome_success</th>\n",
       "      <th>poutcome_unknown</th>\n",
       "      <th>deposit</th>\n",
       "    </tr>\n",
       "  </thead>\n",
       "  <tbody>\n",
       "    <tr>\n",
       "      <th>0</th>\n",
       "      <td>49</td>\n",
       "      <td>2061.0</td>\n",
       "      <td>137</td>\n",
       "      <td>3</td>\n",
       "      <td>0.0</td>\n",
       "      <td>0</td>\n",
       "      <td>1.0</td>\n",
       "      <td>0.0</td>\n",
       "      <td>1.0</td>\n",
       "      <td>0.0</td>\n",
       "      <td>0.0</td>\n",
       "      <td>0.0</td>\n",
       "      <td>1.0</td>\n",
       "      <td>1.0</td>\n",
       "      <td>0.0</td>\n",
       "      <td>1.0</td>\n",
       "      <td>0.0</td>\n",
       "      <td>0.0</td>\n",
       "      <td>1.0</td>\n",
       "      <td>no</td>\n",
       "    </tr>\n",
       "    <tr>\n",
       "      <th>1</th>\n",
       "      <td>26</td>\n",
       "      <td>77.0</td>\n",
       "      <td>175</td>\n",
       "      <td>1</td>\n",
       "      <td>0.0</td>\n",
       "      <td>0</td>\n",
       "      <td>0.0</td>\n",
       "      <td>1.0</td>\n",
       "      <td>0.0</td>\n",
       "      <td>1.0</td>\n",
       "      <td>0.0</td>\n",
       "      <td>0.0</td>\n",
       "      <td>0.0</td>\n",
       "      <td>0.0</td>\n",
       "      <td>0.0</td>\n",
       "      <td>0.0</td>\n",
       "      <td>0.0</td>\n",
       "      <td>0.0</td>\n",
       "      <td>1.0</td>\n",
       "      <td>yes</td>\n",
       "    </tr>\n",
       "    <tr>\n",
       "      <th>2</th>\n",
       "      <td>27</td>\n",
       "      <td>246.0</td>\n",
       "      <td>453</td>\n",
       "      <td>2</td>\n",
       "      <td>0.0</td>\n",
       "      <td>0</td>\n",
       "      <td>0.0</td>\n",
       "      <td>1.0</td>\n",
       "      <td>1.0</td>\n",
       "      <td>0.0</td>\n",
       "      <td>0.0</td>\n",
       "      <td>0.0</td>\n",
       "      <td>0.0</td>\n",
       "      <td>0.0</td>\n",
       "      <td>0.0</td>\n",
       "      <td>0.0</td>\n",
       "      <td>0.0</td>\n",
       "      <td>0.0</td>\n",
       "      <td>1.0</td>\n",
       "      <td>yes</td>\n",
       "    </tr>\n",
       "    <tr>\n",
       "      <th>3</th>\n",
       "      <td>25</td>\n",
       "      <td>1231.0</td>\n",
       "      <td>412</td>\n",
       "      <td>5</td>\n",
       "      <td>0.0</td>\n",
       "      <td>0</td>\n",
       "      <td>0.0</td>\n",
       "      <td>1.0</td>\n",
       "      <td>1.0</td>\n",
       "      <td>0.0</td>\n",
       "      <td>0.0</td>\n",
       "      <td>0.0</td>\n",
       "      <td>1.0</td>\n",
       "      <td>0.0</td>\n",
       "      <td>0.0</td>\n",
       "      <td>0.0</td>\n",
       "      <td>0.0</td>\n",
       "      <td>0.0</td>\n",
       "      <td>1.0</td>\n",
       "      <td>yes</td>\n",
       "    </tr>\n",
       "    <tr>\n",
       "      <th>4</th>\n",
       "      <td>49</td>\n",
       "      <td>85.0</td>\n",
       "      <td>590</td>\n",
       "      <td>5</td>\n",
       "      <td>359.0</td>\n",
       "      <td>1</td>\n",
       "      <td>1.0</td>\n",
       "      <td>0.0</td>\n",
       "      <td>0.0</td>\n",
       "      <td>1.0</td>\n",
       "      <td>0.0</td>\n",
       "      <td>0.0</td>\n",
       "      <td>1.0</td>\n",
       "      <td>0.0</td>\n",
       "      <td>0.0</td>\n",
       "      <td>0.0</td>\n",
       "      <td>1.0</td>\n",
       "      <td>0.0</td>\n",
       "      <td>0.0</td>\n",
       "      <td>yes</td>\n",
       "    </tr>\n",
       "  </tbody>\n",
       "</table>\n",
       "</div>"
      ],
      "text/plain": [
       "   age  balance  duration  campaign  pdays  previous  marital_married  \\\n",
       "0   49   2061.0       137         3    0.0         0              1.0   \n",
       "1   26     77.0       175         1    0.0         0              0.0   \n",
       "2   27    246.0       453         2    0.0         0              0.0   \n",
       "3   25   1231.0       412         5    0.0         0              0.0   \n",
       "4   49     85.0       590         5  359.0         1              1.0   \n",
       "\n",
       "   marital_single  education_secondary  education_tertiary  education_unknown  \\\n",
       "0             0.0                  1.0                 0.0                0.0   \n",
       "1             1.0                  0.0                 1.0                0.0   \n",
       "2             1.0                  1.0                 0.0                0.0   \n",
       "3             1.0                  1.0                 0.0                0.0   \n",
       "4             0.0                  0.0                 1.0                0.0   \n",
       "\n",
       "   default_yes  housing_yes  loan_yes  contact_telephone  contact_unknown  \\\n",
       "0          0.0          1.0       1.0                0.0              1.0   \n",
       "1          0.0          0.0       0.0                0.0              0.0   \n",
       "2          0.0          0.0       0.0                0.0              0.0   \n",
       "3          0.0          1.0       0.0                0.0              0.0   \n",
       "4          0.0          1.0       0.0                0.0              0.0   \n",
       "\n",
       "   poutcome_other  poutcome_success  poutcome_unknown deposit  \n",
       "0             0.0               0.0               1.0      no  \n",
       "1             0.0               0.0               1.0     yes  \n",
       "2             0.0               0.0               1.0     yes  \n",
       "3             0.0               0.0               1.0     yes  \n",
       "4             1.0               0.0               0.0     yes  "
      ]
     },
     "execution_count": 43,
     "metadata": {},
     "output_type": "execute_result"
    }
   ],
   "source": [
    "test_set_fin.head()"
   ]
  },
  {
   "cell_type": "markdown",
   "id": "399ec38e",
   "metadata": {},
   "source": [
    "# Balancing Label"
   ]
  },
  {
   "cell_type": "code",
   "execution_count": 44,
   "id": "0549d73c",
   "metadata": {
    "ExecuteTime": {
     "end_time": "2023-04-09T06:19:28.343340Z",
     "start_time": "2023-04-09T06:19:27.993798Z"
    }
   },
   "outputs": [
    {
     "data": {
      "text/plain": [
       "<AxesSubplot:xlabel='deposit', ylabel='Count'>"
      ]
     },
     "execution_count": 44,
     "metadata": {},
     "output_type": "execute_result"
    },
    {
     "data": {
      "image/png": "[encoded data removed]",
      "text/plain": [
       "<Figure size 432x288 with 1 Axes>"
      ]
     },
     "metadata": {
      "needs_background": "light"
     },
     "output_type": "display_data"
    }
   ],
   "source": [
    "sns.histplot(data = dataset, x = \"deposit\", hue = \"deposit\")"
   ]
  },
  {
   "cell_type": "code",
   "execution_count": 45,
   "id": "d00856a9",
   "metadata": {
    "ExecuteTime": {
     "end_time": "2023-04-09T06:19:30.182618Z",
     "start_time": "2023-04-09T06:19:30.176501Z"
    }
   },
   "outputs": [],
   "source": [
    "rus = RandomUnderSampler(random_state = 26)\n",
    "ros = RandomOverSampler(random_state = 11)\n",
    "sm = SMOTE(random_state = 112)"
   ]
  },
  {
   "cell_type": "code",
   "execution_count": 46,
   "id": "7d83c5ee",
   "metadata": {
    "ExecuteTime": {
     "end_time": "2023-04-09T06:19:30.560868Z",
     "start_time": "2023-04-09T06:19:30.548946Z"
    }
   },
   "outputs": [],
   "source": [
    "def resampling(dataset, method):\n",
    "    # resample\n",
    "    x_resample, y_resample = method.fit_resample(dataset.drop(\"deposit\", axis = 1), dataset.deposit)\n",
    "    \n",
    "    # concate\n",
    "    dataset_resample = pd.concat([x_resample, y_resample], axis = 1)\n",
    "    \n",
    "    return dataset_resample, x_resample, y_resample"
   ]
  },
  {
   "cell_type": "code",
   "execution_count": 47,
   "id": "c1871239",
   "metadata": {
    "ExecuteTime": {
     "end_time": "2023-04-09T06:19:31.845975Z",
     "start_time": "2023-04-09T06:19:31.841668Z"
    }
   },
   "outputs": [],
   "source": [
    "def plot_resampled(data, col):\n",
    "    return sns.histplot(data, x = col, hue = col)"
   ]
  },
  {
   "cell_type": "markdown",
   "id": "566f5c05",
   "metadata": {},
   "source": [
    "## Random Under Sampling"
   ]
  },
  {
   "cell_type": "code",
   "execution_count": 48,
   "id": "9e46bb70",
   "metadata": {
    "ExecuteTime": {
     "end_time": "2023-04-09T06:19:33.661277Z",
     "start_time": "2023-04-09T06:19:33.603547Z"
    }
   },
   "outputs": [],
   "source": [
    "dataset_rus, x_rus, y_rus = resampling(dataset = dataset_fin,\n",
    "                                       method = rus)"
   ]
  },
  {
   "cell_type": "code",
   "execution_count": 49,
   "id": "6e18692b",
   "metadata": {
    "ExecuteTime": {
     "end_time": "2023-04-09T06:19:34.098823Z",
     "start_time": "2023-04-09T06:19:33.788468Z"
    }
   },
   "outputs": [
    {
     "data": {
      "text/plain": [
       "<AxesSubplot:xlabel='deposit', ylabel='Count'>"
      ]
     },
     "execution_count": 49,
     "metadata": {},
     "output_type": "execute_result"
    },
    {
     "data": {
      "image/png": "[encoded data removed]",
      "text/plain": [
       "<Figure size 432x288 with 1 Axes>"
      ]
     },
     "metadata": {
      "needs_background": "light"
     },
     "output_type": "display_data"
    }
   ],
   "source": [
    "plot_resampled(dataset_rus, 'deposit')"
   ]
  },
  {
   "cell_type": "markdown",
   "id": "3ae5232e",
   "metadata": {},
   "source": [
    "## Random Over Sampling"
   ]
  },
  {
   "cell_type": "code",
   "execution_count": 50,
   "id": "4ef6855a",
   "metadata": {
    "ExecuteTime": {
     "end_time": "2023-04-09T06:19:35.689214Z",
     "start_time": "2023-04-09T06:19:35.635484Z"
    }
   },
   "outputs": [],
   "source": [
    "dataset_ros, x_ros, y_ros = resampling(dataset = dataset_fin,\n",
    "                                       method = ros)"
   ]
  },
  {
   "cell_type": "code",
   "execution_count": 51,
   "id": "08052eed",
   "metadata": {
    "ExecuteTime": {
     "end_time": "2023-04-09T06:19:36.201627Z",
     "start_time": "2023-04-09T06:19:35.889083Z"
    }
   },
   "outputs": [
    {
     "data": {
      "text/plain": [
       "<AxesSubplot:xlabel='deposit', ylabel='Count'>"
      ]
     },
     "execution_count": 51,
     "metadata": {},
     "output_type": "execute_result"
    },
    {
     "data": {
      "image/png": "[encoded data removed]",
      "text/plain": [
       "<Figure size 432x288 with 1 Axes>"
      ]
     },
     "metadata": {
      "needs_background": "light"
     },
     "output_type": "display_data"
    }
   ],
   "source": [
    "plot_resampled(dataset_ros, 'deposit')"
   ]
  },
  {
   "cell_type": "markdown",
   "id": "4edd9cd1",
   "metadata": {},
   "source": [
    "## SMOTE"
   ]
  },
  {
   "cell_type": "code",
   "execution_count": 52,
   "id": "50cd96f6",
   "metadata": {
    "ExecuteTime": {
     "end_time": "2023-04-09T06:19:38.092932Z",
     "start_time": "2023-04-09T06:19:37.928606Z"
    }
   },
   "outputs": [],
   "source": [
    "dataset_sm, x_sm, y_sm = resampling(dataset = dataset_fin,\n",
    "                                     method = sm)"
   ]
  },
  {
   "cell_type": "code",
   "execution_count": 53,
   "id": "f214c420",
   "metadata": {
    "ExecuteTime": {
     "end_time": "2023-04-09T06:19:38.549077Z",
     "start_time": "2023-04-09T06:19:38.193868Z"
    }
   },
   "outputs": [
    {
     "data": {
      "text/plain": [
       "<AxesSubplot:xlabel='deposit', ylabel='Count'>"
      ]
     },
     "execution_count": 53,
     "metadata": {},
     "output_type": "execute_result"
    },
    {
     "data": {
      "image/png": "[encoded data removed]",
      "text/plain": [
       "<Figure size 432x288 with 1 Axes>"
      ]
     },
     "metadata": {
      "needs_background": "light"
     },
     "output_type": "display_data"
    }
   ],
   "source": [
    "plot_resampled(dataset_sm, 'deposit')"
   ]
  },
  {
   "cell_type": "markdown",
   "id": "398b3a9f",
   "metadata": {},
   "source": [
    "# Label Encoding"
   ]
  },
  {
   "cell_type": "code",
   "execution_count": 60,
   "id": "737589d9",
   "metadata": {
    "ExecuteTime": {
     "end_time": "2023-04-09T06:19:56.868635Z",
     "start_time": "2023-04-09T06:19:56.863487Z"
    }
   },
   "outputs": [],
   "source": [
    "le_deposit = LabelEncoder()"
   ]
  },
  {
   "cell_type": "code",
   "execution_count": 61,
   "id": "d9e436f2",
   "metadata": {
    "ExecuteTime": {
     "end_time": "2023-04-09T06:19:57.377224Z",
     "start_time": "2023-04-09T06:19:57.362449Z"
    }
   },
   "outputs": [
    {
     "data": {
      "text/html": [
       "<style>#sk-container-id-1 {color: black;background-color: white;}#sk-container-id-1 pre{padding: 0;}#sk-container-id-1 div.sk-toggleable {background-color: white;}#sk-container-id-1 label.sk-toggleable__label {cursor: pointer;display: block;width: 100%;margin-bottom: 0;padding: 0.3em;box-sizing: border-box;text-align: center;}#sk-container-id-1 label.sk-toggleable__label-arrow:before {content: \"▸\";float: left;margin-right: 0.25em;color: #696969;}#sk-container-id-1 label.sk-toggleable__label-arrow:hover:before {color: black;}#sk-container-id-1 div.sk-estimator:hover label.sk-toggleable__label-arrow:before {color: black;}#sk-container-id-1 div.sk-toggleable__content {max-height: 0;max-width: 0;overflow: hidden;text-align: left;background-color: #f0f8ff;}#sk-container-id-1 div.sk-toggleable__content pre {margin: 0.2em;color: black;border-radius: 0.25em;background-color: #f0f8ff;}#sk-container-id-1 input.sk-toggleable__control:checked~div.sk-toggleable__content {max-height: 200px;max-width: 100%;overflow: auto;}#sk-container-id-1 input.sk-toggleable__control:checked~label.sk-toggleable__label-arrow:before {content: \"▾\";}#sk-container-id-1 div.sk-estimator input.sk-toggleable__control:checked~label.sk-toggleable__label {background-color: #d4ebff;}#sk-container-id-1 div.sk-label input.sk-toggleable__control:checked~label.sk-toggleable__label {background-color: #d4ebff;}#sk-container-id-1 input.sk-hidden--visually {border: 0;clip: rect(1px 1px 1px 1px);clip: rect(1px, 1px, 1px, 1px);height: 1px;margin: -1px;overflow: hidden;padding: 0;position: absolute;width: 1px;}#sk-container-id-1 div.sk-estimator {font-family: monospace;background-color: #f0f8ff;border: 1px dotted black;border-radius: 0.25em;box-sizing: border-box;margin-bottom: 0.5em;}#sk-container-id-1 div.sk-estimator:hover {background-color: #d4ebff;}#sk-container-id-1 div.sk-parallel-item::after {content: \"\";width: 100%;border-bottom: 1px solid gray;flex-grow: 1;}#sk-container-id-1 div.sk-label:hover label.sk-toggleable__label {background-color: #d4ebff;}#sk-container-id-1 div.sk-serial::before {content: \"\";position: absolute;border-left: 1px solid gray;box-sizing: border-box;top: 0;bottom: 0;left: 50%;z-index: 0;}#sk-container-id-1 div.sk-serial {display: flex;flex-direction: column;align-items: center;background-color: white;padding-right: 0.2em;padding-left: 0.2em;position: relative;}#sk-container-id-1 div.sk-item {position: relative;z-index: 1;}#sk-container-id-1 div.sk-parallel {display: flex;align-items: stretch;justify-content: center;background-color: white;position: relative;}#sk-container-id-1 div.sk-item::before, #sk-container-id-1 div.sk-parallel-item::before {content: \"\";position: absolute;border-left: 1px solid gray;box-sizing: border-box;top: 0;bottom: 0;left: 50%;z-index: -1;}#sk-container-id-1 div.sk-parallel-item {display: flex;flex-direction: column;z-index: 1;position: relative;background-color: white;}#sk-container-id-1 div.sk-parallel-item:first-child::after {align-self: flex-end;width: 50%;}#sk-container-id-1 div.sk-parallel-item:last-child::after {align-self: flex-start;width: 50%;}#sk-container-id-1 div.sk-parallel-item:only-child::after {width: 0;}#sk-container-id-1 div.sk-dashed-wrapped {border: 1px dashed gray;margin: 0 0.4em 0.5em 0.4em;box-sizing: border-box;padding-bottom: 0.4em;background-color: white;}#sk-container-id-1 div.sk-label label {font-family: monospace;font-weight: bold;display: inline-block;line-height: 1.2em;}#sk-container-id-1 div.sk-label-container {text-align: center;}#sk-container-id-1 div.sk-container {/* jupyter's `normalize.less` sets `[hidden] { display: none; }` but bootstrap.min.css set `[hidden] { display: none !important; }` so we also need the `!important` here to be able to override the default hidden behavior on the sphinx rendered scikit-learn.org. See: https://github.com/scikit-learn/scikit-learn/issues/21755 */display: inline-block !important;position: relative;}#sk-container-id-1 div.sk-text-repr-fallback {display: none;}</style><div id=\"sk-container-id-1\" class=\"sk-top-container\"><div class=\"sk-text-repr-fallback\"><pre>LabelEncoder()</pre><b>In a Jupyter environment, please rerun this cell to show the HTML representation or trust the notebook. <br />On GitHub, the HTML representation is unable to render, please try loading this page with nbviewer.org.</b></div><div class=\"sk-container\" hidden><div class=\"sk-item\"><div class=\"sk-estimator sk-toggleable\"><input class=\"sk-toggleable__control sk-hidden--visually\" id=\"sk-estimator-id-1\" type=\"checkbox\" checked><label for=\"sk-estimator-id-1\" class=\"sk-toggleable__label sk-toggleable__label-arrow\">LabelEncoder</label><div class=\"sk-toggleable__content\"><pre>LabelEncoder()</pre></div></div></div></div></div>"
      ],
      "text/plain": [
       "LabelEncoder()"
      ]
     },
     "execution_count": 61,
     "metadata": {},
     "output_type": "execute_result"
    }
   ],
   "source": [
    "le_deposit.fit(params[\"label_deposit_new\"])"
   ]
  },
  {
   "cell_type": "code",
   "execution_count": 62,
   "id": "53f0a685",
   "metadata": {
    "ExecuteTime": {
     "end_time": "2023-04-09T06:19:58.313393Z",
     "start_time": "2023-04-09T06:19:58.303037Z"
    }
   },
   "outputs": [
    {
     "data": {
      "text/plain": [
       "['model/le_deposit.pkl']"
      ]
     },
     "execution_count": 62,
     "metadata": {},
     "output_type": "execute_result"
    }
   ],
   "source": [
    "#joblib.dump(le_deposit, \"model/le_deposit.pkl\")"
   ]
  },
  {
   "cell_type": "code",
   "execution_count": 63,
   "id": "51f09a62",
   "metadata": {
    "ExecuteTime": {
     "end_time": "2023-04-09T06:19:58.986050Z",
     "start_time": "2023-04-09T06:19:58.979104Z"
    }
   },
   "outputs": [
    {
     "data": {
      "text/plain": [
       "['no', 'yes']"
      ]
     },
     "execution_count": 63,
     "metadata": {},
     "output_type": "execute_result"
    }
   ],
   "source": [
    "params[\"label_deposit_new\"]"
   ]
  },
  {
   "cell_type": "markdown",
   "id": "d6f8e58f",
   "metadata": {},
   "source": [
    "# Set"
   ]
  },
  {
   "cell_type": "markdown",
   "id": "710c81eb",
   "metadata": {},
   "source": [
    "## Undersampling Set"
   ]
  },
  {
   "cell_type": "code",
   "execution_count": 64,
   "id": "0f485236",
   "metadata": {
    "ExecuteTime": {
     "end_time": "2023-04-09T06:20:00.934581Z",
     "start_time": "2023-04-09T06:20:00.925196Z"
    }
   },
   "outputs": [
    {
     "data": {
      "text/plain": [
       "True"
      ]
     },
     "execution_count": 64,
     "metadata": {},
     "output_type": "execute_result"
    }
   ],
   "source": [
    "list(y_rus.unique()) == params[\"label_deposit_new\"]"
   ]
  },
  {
   "cell_type": "code",
   "execution_count": 65,
   "id": "ca1ac7fc",
   "metadata": {
    "ExecuteTime": {
     "end_time": "2023-04-09T06:20:01.119423Z",
     "start_time": "2023-04-09T06:20:01.111217Z"
    }
   },
   "outputs": [],
   "source": [
    "y_rus = le_deposit.transform(y_rus)"
   ]
  },
  {
   "cell_type": "markdown",
   "id": "8c63b97d",
   "metadata": {},
   "source": [
    "## Oversampling Set"
   ]
  },
  {
   "cell_type": "code",
   "execution_count": 66,
   "id": "cc9be299",
   "metadata": {
    "ExecuteTime": {
     "end_time": "2023-04-09T06:20:01.508856Z",
     "start_time": "2023-04-09T06:20:01.499682Z"
    }
   },
   "outputs": [
    {
     "data": {
      "text/plain": [
       "True"
      ]
     },
     "execution_count": 66,
     "metadata": {},
     "output_type": "execute_result"
    }
   ],
   "source": [
    "list(y_ros.unique()) == params[\"label_deposit_new\"]"
   ]
  },
  {
   "cell_type": "code",
   "execution_count": 67,
   "id": "c758d6ae",
   "metadata": {
    "ExecuteTime": {
     "end_time": "2023-04-09T06:20:01.737187Z",
     "start_time": "2023-04-09T06:20:01.731730Z"
    }
   },
   "outputs": [],
   "source": [
    "y_ros = le_deposit.transform(y_ros)"
   ]
  },
  {
   "cell_type": "markdown",
   "id": "49ed1080",
   "metadata": {},
   "source": [
    "## SMOTE Set"
   ]
  },
  {
   "cell_type": "code",
   "execution_count": 68,
   "id": "1a2bbca8",
   "metadata": {
    "ExecuteTime": {
     "end_time": "2023-04-09T06:20:02.121016Z",
     "start_time": "2023-04-09T06:20:02.109050Z"
    }
   },
   "outputs": [
    {
     "data": {
      "text/plain": [
       "True"
      ]
     },
     "execution_count": 68,
     "metadata": {},
     "output_type": "execute_result"
    }
   ],
   "source": [
    "list(y_sm.unique()) == params[\"label_deposit_new\"]"
   ]
  },
  {
   "cell_type": "code",
   "execution_count": 69,
   "id": "1ee2ad1e",
   "metadata": {
    "ExecuteTime": {
     "end_time": "2023-04-09T06:20:02.286226Z",
     "start_time": "2023-04-09T06:20:02.277889Z"
    }
   },
   "outputs": [],
   "source": [
    "y_sm = le_deposit.transform(y_sm)"
   ]
  },
  {
   "cell_type": "markdown",
   "id": "d3262e95",
   "metadata": {},
   "source": [
    "## Validation Set"
   ]
  },
  {
   "cell_type": "code",
   "execution_count": 70,
   "id": "2d7dced0",
   "metadata": {
    "ExecuteTime": {
     "end_time": "2023-04-09T06:20:02.638667Z",
     "start_time": "2023-04-09T06:20:02.631310Z"
    }
   },
   "outputs": [
    {
     "data": {
      "text/plain": [
       "array(['no', 'yes'], dtype=object)"
      ]
     },
     "execution_count": 70,
     "metadata": {},
     "output_type": "execute_result"
    }
   ],
   "source": [
    "valid_set_fin.deposit.unique()"
   ]
  },
  {
   "cell_type": "code",
   "execution_count": 71,
   "id": "5572d04c",
   "metadata": {
    "ExecuteTime": {
     "end_time": "2023-04-09T06:20:02.819905Z",
     "start_time": "2023-04-09T06:20:02.812255Z"
    }
   },
   "outputs": [
    {
     "data": {
      "text/plain": [
       "['no', 'yes']"
      ]
     },
     "execution_count": 71,
     "metadata": {},
     "output_type": "execute_result"
    }
   ],
   "source": [
    "params[\"label_deposit_new\"]"
   ]
  },
  {
   "cell_type": "code",
   "execution_count": 72,
   "id": "8afc1bcd",
   "metadata": {
    "ExecuteTime": {
     "end_time": "2023-04-09T06:20:02.988060Z",
     "start_time": "2023-04-09T06:20:02.976592Z"
    }
   },
   "outputs": [
    {
     "data": {
      "text/plain": [
       "True"
      ]
     },
     "execution_count": 72,
     "metadata": {},
     "output_type": "execute_result"
    }
   ],
   "source": [
    "len(set(valid_set.deposit.unique()) - set(params[\"label_deposit_new\"])) == 0"
   ]
  },
  {
   "cell_type": "code",
   "execution_count": 73,
   "id": "1abc5dff",
   "metadata": {
    "ExecuteTime": {
     "end_time": "2023-04-09T06:20:03.155343Z",
     "start_time": "2023-04-09T06:20:03.141755Z"
    }
   },
   "outputs": [],
   "source": [
    "valid_set_fin.deposit = le_deposit.transform(valid_set_fin.deposit)"
   ]
  },
  {
   "cell_type": "markdown",
   "id": "e62dc58a",
   "metadata": {},
   "source": [
    "## Test Set"
   ]
  },
  {
   "cell_type": "code",
   "execution_count": 74,
   "id": "7d825f02",
   "metadata": {
    "ExecuteTime": {
     "end_time": "2023-04-09T06:20:03.470964Z",
     "start_time": "2023-04-09T06:20:03.458314Z"
    }
   },
   "outputs": [
    {
     "data": {
      "text/plain": [
       "True"
      ]
     },
     "execution_count": 74,
     "metadata": {},
     "output_type": "execute_result"
    }
   ],
   "source": [
    "len(set(test_set_fin.deposit.unique()) - set(params[\"label_deposit_new\"])) == 0"
   ]
  },
  {
   "cell_type": "code",
   "execution_count": 75,
   "id": "b0a8a614",
   "metadata": {
    "ExecuteTime": {
     "end_time": "2023-04-09T06:20:03.621148Z",
     "start_time": "2023-04-09T06:20:03.614636Z"
    }
   },
   "outputs": [],
   "source": [
    "test_set_fin.deposit = le_deposit.transform(test_set_fin.deposit)"
   ]
  },
  {
   "cell_type": "markdown",
   "id": "1d35d268",
   "metadata": {},
   "source": [
    "# Dump Data"
   ]
  },
  {
   "cell_type": "code",
   "execution_count": 77,
   "id": "c5fb1beb",
   "metadata": {
    "ExecuteTime": {
     "end_time": "2023-04-09T06:21:41.696633Z",
     "start_time": "2023-04-09T06:21:41.635565Z"
    }
   },
   "outputs": [
    {
     "data": {
      "text/plain": [
       "['model/le_deposit.pkl']"
      ]
     },
     "execution_count": 77,
     "metadata": {},
     "output_type": "execute_result"
    }
   ],
   "source": [
    "joblib.dump(x_rus, \"data/processed/x_rus.pkl\")\n",
    "joblib.dump(y_rus, \"data/processed/y_rus.pkl\")\n",
    "\n",
    "joblib.dump(x_ros, \"data/processed/x_ros.pkl\")\n",
    "joblib.dump(y_ros, \"data/processed/y_ros.pkl\")\n",
    "\n",
    "joblib.dump(x_sm, \"data/processed/x_sm.pkl\")\n",
    "joblib.dump(y_sm, \"data/processed/y_sm.pkl\")\n",
    "\n",
    "joblib.dump(valid_set_fin.drop(columns = \"deposit\"), \"data/processed/x_valid_feng.pkl\")\n",
    "joblib.dump(valid_set_fin.deposit, \"data/processed/y_valid_feng.pkl\")\n",
    "\n",
    "joblib.dump(test_set_fin.drop(columns = \"deposit\"), \"data/processed/x_test_feng.pkl\")\n",
    "joblib.dump(test_set_fin.deposit, \"data/processed/y_test_feng.pkl\")\n",
    "\n",
    "joblib.dump(encoder, \"model/ohe_encoder.pkl\")\n",
    "joblib.dump(le_deposit, \"model/le_deposit.pkl\")"
   ]
  }
 ],
 "metadata": {
  "kernelspec": {
   "display_name": "Python 3 (ipykernel)",
   "language": "python",
   "name": "python3"
  },
  "language_info": {
   "codemirror_mode": {
    "name": "ipython",
    "version": 3
   },
   "file_extension": ".py",
   "mimetype": "text/x-python",
   "name": "python",
   "nbconvert_exporter": "python",
   "pygments_lexer": "ipython3",
   "version": "3.9.7"
  },
  "toc": {
   "base_numbering": 1,
   "nav_menu": {},
   "number_sections": true,
   "sideBar": true,
   "skip_h1_title": false,
   "title_cell": "Table of Contents",
   "title_sidebar": "Contents",
   "toc_cell": false,
   "toc_position": {},
   "toc_section_display": true,
   "toc_window_display": true
  }
 },
 "nbformat": 4,
 "nbformat_minor": 5
}
