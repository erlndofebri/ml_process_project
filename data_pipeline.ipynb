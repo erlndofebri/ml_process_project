{
 "cells": [
  {
   "cell_type": "code",
   "execution_count": 1,
   "id": "1acef629",
   "metadata": {
    "ExecuteTime": {
     "end_time": "2023-04-06T02:15:01.195713Z",
     "start_time": "2023-04-06T02:14:54.682609Z"
    }
   },
   "outputs": [],
   "source": [
    "import pandas as pd\n",
    "import seaborn as sns\n",
    "import matplotlib.pyplot as plt\n",
    "import numpy as np\n",
    "import tqdm\n",
    "from sklearn.model_selection import train_test_split\n",
    "# data dumb store\n",
    "import joblib\n",
    "# to locate yaml file\n",
    "import yaml\n",
    "# to locate directore\n",
    "import os"
   ]
  },
  {
   "cell_type": "code",
   "execution_count": 2,
   "id": "23c4c0d8",
   "metadata": {
    "ExecuteTime": {
     "end_time": "2023-04-06T02:15:01.256125Z",
     "start_time": "2023-04-06T02:15:01.221318Z"
    }
   },
   "outputs": [],
   "source": [
    "params_dir = \"config/params.yaml\""
   ]
  },
  {
   "cell_type": "code",
   "execution_count": 91,
   "id": "9a797007",
   "metadata": {
    "ExecuteTime": {
     "end_time": "2023-04-06T02:50:26.571734Z",
     "start_time": "2023-04-06T02:50:26.560242Z"
    }
   },
   "outputs": [],
   "source": [
    "def load_params(param_dir):\n",
    "    with open(param_dir, 'r') as file:\n",
    "        params = yaml.safe_load(file)\n",
    "        \n",
    "    return params"
   ]
  },
  {
   "cell_type": "code",
   "execution_count": 104,
   "id": "ecd52a10",
   "metadata": {
    "ExecuteTime": {
     "end_time": "2023-04-06T02:53:32.237114Z",
     "start_time": "2023-04-06T02:53:32.214387Z"
    }
   },
   "outputs": [],
   "source": [
    "params = load_params(params_dir)"
   ]
  },
  {
   "cell_type": "code",
   "execution_count": 85,
   "id": "db35157b",
   "metadata": {
    "ExecuteTime": {
     "end_time": "2023-04-06T02:49:39.089020Z",
     "start_time": "2023-04-06T02:49:39.078006Z"
    }
   },
   "outputs": [
    {
     "data": {
      "text/plain": [
       "{'dataset_dir': 'data/awal/',\n",
       " 'int32_columns': ['age', 'day', 'duration', 'campaign', 'previous'],\n",
       " 'float64_columns': ['balance', 'pdays'],\n",
       " 'label': 'deposit',\n",
       " 'label_deposit': ['no', 'yes'],\n",
       " 'label_deposit_new': ['no', 'yes'],\n",
       " 'missing_value_pdays': 0,\n",
       " 'missing_value_balance': 630,\n",
       " 'object_columns': ['job',\n",
       "  'marital',\n",
       "  'education',\n",
       "  'default',\n",
       "  'housing',\n",
       "  'loan',\n",
       "  'contact',\n",
       "  'month',\n",
       "  'poutcome',\n",
       "  'deposit'],\n",
       " 'predictors': ['age',\n",
       "  'job',\n",
       "  'marital',\n",
       "  'education',\n",
       "  'default',\n",
       "  'balance',\n",
       "  'housing',\n",
       "  'loan',\n",
       "  'contact',\n",
       "  'day',\n",
       "  'month',\n",
       "  'duration',\n",
       "  'campaign',\n",
       "  'pdays',\n",
       "  'previous',\n",
       "  'poutcome'],\n",
       " 'range_age': [18, 94],\n",
       " 'range_balance': [0, 81204],\n",
       " 'range_day': [1, 31],\n",
       " 'range_duration': [2, 3284],\n",
       " 'range_campaign': [1, 63],\n",
       " 'range_pdays': [1, 842],\n",
       " 'range_previous': [0, 55],\n",
       " 'range_job': ['admin.',\n",
       "  'technician',\n",
       "  'services',\n",
       "  'management',\n",
       "  'retired',\n",
       "  'blue-collar',\n",
       "  'unemployed',\n",
       "  'entrepreneur',\n",
       "  'housemaid',\n",
       "  'unknown',\n",
       "  'self-employed',\n",
       "  'student'],\n",
       " 'range_marital': ['married', 'single', 'divorced'],\n",
       " 'range_education': ['secondary', 'tertiary', 'primary', 'unknown'],\n",
       " 'range_default': ['no', 'yes'],\n",
       " 'range_housing': ['no', 'yes'],\n",
       " 'range_loan': ['no', 'yes'],\n",
       " 'range_contact': ['unknown', 'cellular', 'telephone'],\n",
       " 'range_month': ['jan',\n",
       "  'feb',\n",
       "  'mar',\n",
       "  'apr',\n",
       "  'may',\n",
       "  'jun',\n",
       "  'jul',\n",
       "  'aug',\n",
       "  'sep',\n",
       "  'oct',\n",
       "  'nov',\n",
       "  'dec'],\n",
       " 'range_poutcome': ['unknown', 'other', 'failure', 'success'],\n",
       " 'range_deposit': ['yes', 'no']}"
      ]
     },
     "execution_count": 85,
     "metadata": {},
     "output_type": "execute_result"
    }
   ],
   "source": [
    "params"
   ]
  },
  {
   "cell_type": "markdown",
   "id": "8e8dc3b3",
   "metadata": {},
   "source": [
    "# Case"
   ]
  },
  {
   "cell_type": "markdown",
   "id": "a4d9a98b",
   "metadata": {},
   "source": [
    "- Objective: Bank wants to increase the number of deposite by optimizing data-driven marketing strategy\n",
    "- Concern: Short term revenue growth --> ML performance"
   ]
  },
  {
   "cell_type": "markdown",
   "id": "e5519588",
   "metadata": {},
   "source": [
    "# Data Collection"
   ]
  },
  {
   "cell_type": "code",
   "execution_count": 8,
   "id": "a075de86",
   "metadata": {
    "ExecuteTime": {
     "end_time": "2023-04-06T02:28:50.806083Z",
     "start_time": "2023-04-06T02:28:50.769749Z"
    }
   },
   "outputs": [],
   "source": [
    "# fungsi read data csv\n",
    "def read_data(path):\n",
    "    data = pd.read_csv(path)\n",
    "    return data"
   ]
  },
  {
   "cell_type": "code",
   "execution_count": 116,
   "id": "d65a042b",
   "metadata": {
    "ExecuteTime": {
     "end_time": "2023-04-06T02:57:13.542055Z",
     "start_time": "2023-04-06T02:57:13.450134Z"
    }
   },
   "outputs": [
    {
     "data": {
      "text/html": [
       "<div>\n",
       "<style scoped>\n",
       "    .dataframe tbody tr th:only-of-type {\n",
       "        vertical-align: middle;\n",
       "    }\n",
       "\n",
       "    .dataframe tbody tr th {\n",
       "        vertical-align: top;\n",
       "    }\n",
       "\n",
       "    .dataframe thead th {\n",
       "        text-align: right;\n",
       "    }\n",
       "</style>\n",
       "<table border=\"1\" class=\"dataframe\">\n",
       "  <thead>\n",
       "    <tr style=\"text-align: right;\">\n",
       "      <th></th>\n",
       "      <th>age</th>\n",
       "      <th>job</th>\n",
       "      <th>marital</th>\n",
       "      <th>education</th>\n",
       "      <th>default</th>\n",
       "      <th>balance</th>\n",
       "      <th>housing</th>\n",
       "      <th>loan</th>\n",
       "      <th>contact</th>\n",
       "      <th>day</th>\n",
       "      <th>month</th>\n",
       "      <th>duration</th>\n",
       "      <th>campaign</th>\n",
       "      <th>pdays</th>\n",
       "      <th>previous</th>\n",
       "      <th>poutcome</th>\n",
       "      <th>deposit</th>\n",
       "    </tr>\n",
       "  </thead>\n",
       "  <tbody>\n",
       "    <tr>\n",
       "      <th>0</th>\n",
       "      <td>59</td>\n",
       "      <td>admin.</td>\n",
       "      <td>married</td>\n",
       "      <td>secondary</td>\n",
       "      <td>no</td>\n",
       "      <td>2343</td>\n",
       "      <td>yes</td>\n",
       "      <td>no</td>\n",
       "      <td>unknown</td>\n",
       "      <td>5</td>\n",
       "      <td>may</td>\n",
       "      <td>1042</td>\n",
       "      <td>1</td>\n",
       "      <td>-1</td>\n",
       "      <td>0</td>\n",
       "      <td>unknown</td>\n",
       "      <td>yes</td>\n",
       "    </tr>\n",
       "    <tr>\n",
       "      <th>1</th>\n",
       "      <td>56</td>\n",
       "      <td>admin.</td>\n",
       "      <td>married</td>\n",
       "      <td>secondary</td>\n",
       "      <td>no</td>\n",
       "      <td>45</td>\n",
       "      <td>no</td>\n",
       "      <td>no</td>\n",
       "      <td>unknown</td>\n",
       "      <td>5</td>\n",
       "      <td>may</td>\n",
       "      <td>1467</td>\n",
       "      <td>1</td>\n",
       "      <td>-1</td>\n",
       "      <td>0</td>\n",
       "      <td>unknown</td>\n",
       "      <td>yes</td>\n",
       "    </tr>\n",
       "    <tr>\n",
       "      <th>2</th>\n",
       "      <td>41</td>\n",
       "      <td>technician</td>\n",
       "      <td>married</td>\n",
       "      <td>secondary</td>\n",
       "      <td>no</td>\n",
       "      <td>1270</td>\n",
       "      <td>yes</td>\n",
       "      <td>no</td>\n",
       "      <td>unknown</td>\n",
       "      <td>5</td>\n",
       "      <td>may</td>\n",
       "      <td>1389</td>\n",
       "      <td>1</td>\n",
       "      <td>-1</td>\n",
       "      <td>0</td>\n",
       "      <td>unknown</td>\n",
       "      <td>yes</td>\n",
       "    </tr>\n",
       "    <tr>\n",
       "      <th>3</th>\n",
       "      <td>55</td>\n",
       "      <td>services</td>\n",
       "      <td>married</td>\n",
       "      <td>secondary</td>\n",
       "      <td>no</td>\n",
       "      <td>2476</td>\n",
       "      <td>yes</td>\n",
       "      <td>no</td>\n",
       "      <td>unknown</td>\n",
       "      <td>5</td>\n",
       "      <td>may</td>\n",
       "      <td>579</td>\n",
       "      <td>1</td>\n",
       "      <td>-1</td>\n",
       "      <td>0</td>\n",
       "      <td>unknown</td>\n",
       "      <td>yes</td>\n",
       "    </tr>\n",
       "    <tr>\n",
       "      <th>4</th>\n",
       "      <td>54</td>\n",
       "      <td>admin.</td>\n",
       "      <td>married</td>\n",
       "      <td>tertiary</td>\n",
       "      <td>no</td>\n",
       "      <td>184</td>\n",
       "      <td>no</td>\n",
       "      <td>no</td>\n",
       "      <td>unknown</td>\n",
       "      <td>5</td>\n",
       "      <td>may</td>\n",
       "      <td>673</td>\n",
       "      <td>2</td>\n",
       "      <td>-1</td>\n",
       "      <td>0</td>\n",
       "      <td>unknown</td>\n",
       "      <td>yes</td>\n",
       "    </tr>\n",
       "    <tr>\n",
       "      <th>...</th>\n",
       "      <td>...</td>\n",
       "      <td>...</td>\n",
       "      <td>...</td>\n",
       "      <td>...</td>\n",
       "      <td>...</td>\n",
       "      <td>...</td>\n",
       "      <td>...</td>\n",
       "      <td>...</td>\n",
       "      <td>...</td>\n",
       "      <td>...</td>\n",
       "      <td>...</td>\n",
       "      <td>...</td>\n",
       "      <td>...</td>\n",
       "      <td>...</td>\n",
       "      <td>...</td>\n",
       "      <td>...</td>\n",
       "      <td>...</td>\n",
       "    </tr>\n",
       "    <tr>\n",
       "      <th>11157</th>\n",
       "      <td>33</td>\n",
       "      <td>blue-collar</td>\n",
       "      <td>single</td>\n",
       "      <td>primary</td>\n",
       "      <td>no</td>\n",
       "      <td>1</td>\n",
       "      <td>yes</td>\n",
       "      <td>no</td>\n",
       "      <td>cellular</td>\n",
       "      <td>20</td>\n",
       "      <td>apr</td>\n",
       "      <td>257</td>\n",
       "      <td>1</td>\n",
       "      <td>-1</td>\n",
       "      <td>0</td>\n",
       "      <td>unknown</td>\n",
       "      <td>no</td>\n",
       "    </tr>\n",
       "    <tr>\n",
       "      <th>11158</th>\n",
       "      <td>39</td>\n",
       "      <td>services</td>\n",
       "      <td>married</td>\n",
       "      <td>secondary</td>\n",
       "      <td>no</td>\n",
       "      <td>733</td>\n",
       "      <td>no</td>\n",
       "      <td>no</td>\n",
       "      <td>unknown</td>\n",
       "      <td>16</td>\n",
       "      <td>jun</td>\n",
       "      <td>83</td>\n",
       "      <td>4</td>\n",
       "      <td>-1</td>\n",
       "      <td>0</td>\n",
       "      <td>unknown</td>\n",
       "      <td>no</td>\n",
       "    </tr>\n",
       "    <tr>\n",
       "      <th>11159</th>\n",
       "      <td>32</td>\n",
       "      <td>technician</td>\n",
       "      <td>single</td>\n",
       "      <td>secondary</td>\n",
       "      <td>no</td>\n",
       "      <td>29</td>\n",
       "      <td>no</td>\n",
       "      <td>no</td>\n",
       "      <td>cellular</td>\n",
       "      <td>19</td>\n",
       "      <td>aug</td>\n",
       "      <td>156</td>\n",
       "      <td>2</td>\n",
       "      <td>-1</td>\n",
       "      <td>0</td>\n",
       "      <td>unknown</td>\n",
       "      <td>no</td>\n",
       "    </tr>\n",
       "    <tr>\n",
       "      <th>11160</th>\n",
       "      <td>43</td>\n",
       "      <td>technician</td>\n",
       "      <td>married</td>\n",
       "      <td>secondary</td>\n",
       "      <td>no</td>\n",
       "      <td>0</td>\n",
       "      <td>no</td>\n",
       "      <td>yes</td>\n",
       "      <td>cellular</td>\n",
       "      <td>8</td>\n",
       "      <td>may</td>\n",
       "      <td>9</td>\n",
       "      <td>2</td>\n",
       "      <td>172</td>\n",
       "      <td>5</td>\n",
       "      <td>failure</td>\n",
       "      <td>no</td>\n",
       "    </tr>\n",
       "    <tr>\n",
       "      <th>11161</th>\n",
       "      <td>34</td>\n",
       "      <td>technician</td>\n",
       "      <td>married</td>\n",
       "      <td>secondary</td>\n",
       "      <td>no</td>\n",
       "      <td>0</td>\n",
       "      <td>no</td>\n",
       "      <td>no</td>\n",
       "      <td>cellular</td>\n",
       "      <td>9</td>\n",
       "      <td>jul</td>\n",
       "      <td>628</td>\n",
       "      <td>1</td>\n",
       "      <td>-1</td>\n",
       "      <td>0</td>\n",
       "      <td>unknown</td>\n",
       "      <td>no</td>\n",
       "    </tr>\n",
       "  </tbody>\n",
       "</table>\n",
       "<p>11162 rows × 17 columns</p>\n",
       "</div>"
      ],
      "text/plain": [
       "       age          job  marital  education default  balance housing loan  \\\n",
       "0       59       admin.  married  secondary      no     2343     yes   no   \n",
       "1       56       admin.  married  secondary      no       45      no   no   \n",
       "2       41   technician  married  secondary      no     1270     yes   no   \n",
       "3       55     services  married  secondary      no     2476     yes   no   \n",
       "4       54       admin.  married   tertiary      no      184      no   no   \n",
       "...    ...          ...      ...        ...     ...      ...     ...  ...   \n",
       "11157   33  blue-collar   single    primary      no        1     yes   no   \n",
       "11158   39     services  married  secondary      no      733      no   no   \n",
       "11159   32   technician   single  secondary      no       29      no   no   \n",
       "11160   43   technician  married  secondary      no        0      no  yes   \n",
       "11161   34   technician  married  secondary      no        0      no   no   \n",
       "\n",
       "        contact  day month  duration  campaign  pdays  previous poutcome  \\\n",
       "0       unknown    5   may      1042         1     -1         0  unknown   \n",
       "1       unknown    5   may      1467         1     -1         0  unknown   \n",
       "2       unknown    5   may      1389         1     -1         0  unknown   \n",
       "3       unknown    5   may       579         1     -1         0  unknown   \n",
       "4       unknown    5   may       673         2     -1         0  unknown   \n",
       "...         ...  ...   ...       ...       ...    ...       ...      ...   \n",
       "11157  cellular   20   apr       257         1     -1         0  unknown   \n",
       "11158   unknown   16   jun        83         4     -1         0  unknown   \n",
       "11159  cellular   19   aug       156         2     -1         0  unknown   \n",
       "11160  cellular    8   may         9         2    172         5  failure   \n",
       "11161  cellular    9   jul       628         1     -1         0  unknown   \n",
       "\n",
       "      deposit  \n",
       "0         yes  \n",
       "1         yes  \n",
       "2         yes  \n",
       "3         yes  \n",
       "4         yes  \n",
       "...       ...  \n",
       "11157      no  \n",
       "11158      no  \n",
       "11159      no  \n",
       "11160      no  \n",
       "11161      no  \n",
       "\n",
       "[11162 rows x 17 columns]"
      ]
     },
     "execution_count": 116,
     "metadata": {},
     "output_type": "execute_result"
    }
   ],
   "source": [
    "path = 'data/awal/bank.csv'\n",
    "\n",
    "data = read_data(path)\n",
    "data"
   ]
  },
  {
   "cell_type": "code",
   "execution_count": 163,
   "id": "a9dac337",
   "metadata": {
    "ExecuteTime": {
     "end_time": "2023-04-06T08:36:25.337361Z",
     "start_time": "2023-04-06T08:36:25.319168Z"
    }
   },
   "outputs": [
    {
     "data": {
      "text/plain": [
       "68.70296842503309"
      ]
     },
     "execution_count": 163,
     "metadata": {},
     "output_type": "execute_result"
    }
   ],
   "source": [
    "data['pdays'][data['deposit']==\"yes\"].mean()"
   ]
  },
  {
   "cell_type": "code",
   "execution_count": 162,
   "id": "10b19f25",
   "metadata": {
    "ExecuteTime": {
     "end_time": "2023-04-06T08:36:23.976583Z",
     "start_time": "2023-04-06T08:36:23.958323Z"
    }
   },
   "outputs": [
    {
     "data": {
      "text/plain": [
       "35.68533969010727"
      ]
     },
     "execution_count": 162,
     "metadata": {},
     "output_type": "execute_result"
    }
   ],
   "source": [
    "data['pdays'][data['deposit']==\"no\"].mean()"
   ]
  },
  {
   "cell_type": "markdown",
   "id": "970e6f17",
   "metadata": {},
   "source": [
    "# Data Definition"
   ]
  },
  {
   "cell_type": "markdown",
   "id": "aaf94e72",
   "metadata": {},
   "source": [
    "- Variable: Definition\n",
    "- ID: Unique client ID\n",
    "- age: Age of the client\n",
    "- job: Type of job\n",
    "- marital: Marital status of the client\n",
    "- eucation: Education level\n",
    "- default: Credit in default.\n",
    "- housing: Housing loan\n",
    "- loan: Personal loan\n",
    "- contact: Type of communication\n",
    "- month: Contact month\n",
    "- day_of_week: Day of week of contact\n",
    "- duration: Contact duration\n",
    "- campaign: number of contacts performed during this campaign to the client\n",
    "- pdays: number of days that passed by after the client was last contacted\n",
    "- previous: number of contacts performed before this campaign\n",
    "- poutcome: outcome of the previous marketing campaign\n"
   ]
  },
  {
   "cell_type": "markdown",
   "id": "b27fc461",
   "metadata": {},
   "source": [
    "# Data Validation"
   ]
  },
  {
   "cell_type": "markdown",
   "id": "649dd268",
   "metadata": {},
   "source": [
    "## Data Type"
   ]
  },
  {
   "cell_type": "code",
   "execution_count": 58,
   "id": "0f9ccf5b",
   "metadata": {
    "ExecuteTime": {
     "end_time": "2023-04-05T06:37:19.841873Z",
     "start_time": "2023-04-05T06:37:19.832148Z"
    }
   },
   "outputs": [],
   "source": [
    "# Create Data Description\n",
    "\n",
    "def data_desc(df):\n",
    "    \n",
    "    list_item = []\n",
    "    for col in df.columns:\n",
    "        list_item.append([col, df[col].dtype, \n",
    "                          df[col].isna().sum(),\n",
    "                          100*df[col].isna().sum()/len(df[col]),\n",
    "                          df[col].nunique(),\n",
    "                          df[col].unique()[:4]])\n",
    "        \n",
    "    desc_df = pd.DataFrame(data=list_item, columns='feature data_type null_num null_pct unique_num unique_sample'.split())\n",
    "    \n",
    "    return desc_df"
   ]
  },
  {
   "cell_type": "code",
   "execution_count": 59,
   "id": "578a578c",
   "metadata": {
    "ExecuteTime": {
     "end_time": "2023-04-05T06:37:20.326604Z",
     "start_time": "2023-04-05T06:37:20.203688Z"
    }
   },
   "outputs": [
    {
     "data": {
      "text/html": [
       "<div>\n",
       "<style scoped>\n",
       "    .dataframe tbody tr th:only-of-type {\n",
       "        vertical-align: middle;\n",
       "    }\n",
       "\n",
       "    .dataframe tbody tr th {\n",
       "        vertical-align: top;\n",
       "    }\n",
       "\n",
       "    .dataframe thead th {\n",
       "        text-align: right;\n",
       "    }\n",
       "</style>\n",
       "<table border=\"1\" class=\"dataframe\">\n",
       "  <thead>\n",
       "    <tr style=\"text-align: right;\">\n",
       "      <th></th>\n",
       "      <th>feature</th>\n",
       "      <th>data_type</th>\n",
       "      <th>null_num</th>\n",
       "      <th>null_pct</th>\n",
       "      <th>unique_num</th>\n",
       "      <th>unique_sample</th>\n",
       "    </tr>\n",
       "  </thead>\n",
       "  <tbody>\n",
       "    <tr>\n",
       "      <th>0</th>\n",
       "      <td>age</td>\n",
       "      <td>int64</td>\n",
       "      <td>0</td>\n",
       "      <td>0.0</td>\n",
       "      <td>76</td>\n",
       "      <td>[59, 56, 41, 55]</td>\n",
       "    </tr>\n",
       "    <tr>\n",
       "      <th>1</th>\n",
       "      <td>job</td>\n",
       "      <td>object</td>\n",
       "      <td>0</td>\n",
       "      <td>0.0</td>\n",
       "      <td>12</td>\n",
       "      <td>[admin., technician, services, management]</td>\n",
       "    </tr>\n",
       "    <tr>\n",
       "      <th>2</th>\n",
       "      <td>marital</td>\n",
       "      <td>object</td>\n",
       "      <td>0</td>\n",
       "      <td>0.0</td>\n",
       "      <td>3</td>\n",
       "      <td>[married, single, divorced]</td>\n",
       "    </tr>\n",
       "    <tr>\n",
       "      <th>3</th>\n",
       "      <td>education</td>\n",
       "      <td>object</td>\n",
       "      <td>0</td>\n",
       "      <td>0.0</td>\n",
       "      <td>4</td>\n",
       "      <td>[secondary, tertiary, primary, unknown]</td>\n",
       "    </tr>\n",
       "    <tr>\n",
       "      <th>4</th>\n",
       "      <td>default</td>\n",
       "      <td>object</td>\n",
       "      <td>0</td>\n",
       "      <td>0.0</td>\n",
       "      <td>2</td>\n",
       "      <td>[no, yes]</td>\n",
       "    </tr>\n",
       "    <tr>\n",
       "      <th>5</th>\n",
       "      <td>balance</td>\n",
       "      <td>int64</td>\n",
       "      <td>0</td>\n",
       "      <td>0.0</td>\n",
       "      <td>3805</td>\n",
       "      <td>[2343, 45, 1270, 2476]</td>\n",
       "    </tr>\n",
       "    <tr>\n",
       "      <th>6</th>\n",
       "      <td>housing</td>\n",
       "      <td>object</td>\n",
       "      <td>0</td>\n",
       "      <td>0.0</td>\n",
       "      <td>2</td>\n",
       "      <td>[yes, no]</td>\n",
       "    </tr>\n",
       "    <tr>\n",
       "      <th>7</th>\n",
       "      <td>loan</td>\n",
       "      <td>object</td>\n",
       "      <td>0</td>\n",
       "      <td>0.0</td>\n",
       "      <td>2</td>\n",
       "      <td>[no, yes]</td>\n",
       "    </tr>\n",
       "    <tr>\n",
       "      <th>8</th>\n",
       "      <td>contact</td>\n",
       "      <td>object</td>\n",
       "      <td>0</td>\n",
       "      <td>0.0</td>\n",
       "      <td>3</td>\n",
       "      <td>[unknown, cellular, telephone]</td>\n",
       "    </tr>\n",
       "    <tr>\n",
       "      <th>9</th>\n",
       "      <td>day</td>\n",
       "      <td>int64</td>\n",
       "      <td>0</td>\n",
       "      <td>0.0</td>\n",
       "      <td>31</td>\n",
       "      <td>[5, 6, 7, 8]</td>\n",
       "    </tr>\n",
       "    <tr>\n",
       "      <th>10</th>\n",
       "      <td>month</td>\n",
       "      <td>object</td>\n",
       "      <td>0</td>\n",
       "      <td>0.0</td>\n",
       "      <td>12</td>\n",
       "      <td>[may, jun, jul, aug]</td>\n",
       "    </tr>\n",
       "    <tr>\n",
       "      <th>11</th>\n",
       "      <td>duration</td>\n",
       "      <td>int64</td>\n",
       "      <td>0</td>\n",
       "      <td>0.0</td>\n",
       "      <td>1428</td>\n",
       "      <td>[1042, 1467, 1389, 579]</td>\n",
       "    </tr>\n",
       "    <tr>\n",
       "      <th>12</th>\n",
       "      <td>campaign</td>\n",
       "      <td>int64</td>\n",
       "      <td>0</td>\n",
       "      <td>0.0</td>\n",
       "      <td>36</td>\n",
       "      <td>[1, 2, 3, 4]</td>\n",
       "    </tr>\n",
       "    <tr>\n",
       "      <th>13</th>\n",
       "      <td>pdays</td>\n",
       "      <td>int64</td>\n",
       "      <td>0</td>\n",
       "      <td>0.0</td>\n",
       "      <td>472</td>\n",
       "      <td>[-1, 166, 91, 147]</td>\n",
       "    </tr>\n",
       "    <tr>\n",
       "      <th>14</th>\n",
       "      <td>previous</td>\n",
       "      <td>int64</td>\n",
       "      <td>0</td>\n",
       "      <td>0.0</td>\n",
       "      <td>34</td>\n",
       "      <td>[0, 1, 4, 2]</td>\n",
       "    </tr>\n",
       "    <tr>\n",
       "      <th>15</th>\n",
       "      <td>poutcome</td>\n",
       "      <td>object</td>\n",
       "      <td>0</td>\n",
       "      <td>0.0</td>\n",
       "      <td>4</td>\n",
       "      <td>[unknown, other, failure, success]</td>\n",
       "    </tr>\n",
       "    <tr>\n",
       "      <th>16</th>\n",
       "      <td>deposit</td>\n",
       "      <td>object</td>\n",
       "      <td>0</td>\n",
       "      <td>0.0</td>\n",
       "      <td>2</td>\n",
       "      <td>[yes, no]</td>\n",
       "    </tr>\n",
       "  </tbody>\n",
       "</table>\n",
       "</div>"
      ],
      "text/plain": [
       "      feature data_type  null_num  null_pct  unique_num  \\\n",
       "0         age     int64         0       0.0          76   \n",
       "1         job    object         0       0.0          12   \n",
       "2     marital    object         0       0.0           3   \n",
       "3   education    object         0       0.0           4   \n",
       "4     default    object         0       0.0           2   \n",
       "5     balance     int64         0       0.0        3805   \n",
       "6     housing    object         0       0.0           2   \n",
       "7        loan    object         0       0.0           2   \n",
       "8     contact    object         0       0.0           3   \n",
       "9         day     int64         0       0.0          31   \n",
       "10      month    object         0       0.0          12   \n",
       "11   duration     int64         0       0.0        1428   \n",
       "12   campaign     int64         0       0.0          36   \n",
       "13      pdays     int64         0       0.0         472   \n",
       "14   previous     int64         0       0.0          34   \n",
       "15   poutcome    object         0       0.0           4   \n",
       "16    deposit    object         0       0.0           2   \n",
       "\n",
       "                                 unique_sample  \n",
       "0                             [59, 56, 41, 55]  \n",
       "1   [admin., technician, services, management]  \n",
       "2                  [married, single, divorced]  \n",
       "3      [secondary, tertiary, primary, unknown]  \n",
       "4                                    [no, yes]  \n",
       "5                       [2343, 45, 1270, 2476]  \n",
       "6                                    [yes, no]  \n",
       "7                                    [no, yes]  \n",
       "8               [unknown, cellular, telephone]  \n",
       "9                                 [5, 6, 7, 8]  \n",
       "10                        [may, jun, jul, aug]  \n",
       "11                     [1042, 1467, 1389, 579]  \n",
       "12                                [1, 2, 3, 4]  \n",
       "13                          [-1, 166, 91, 147]  \n",
       "14                                [0, 1, 4, 2]  \n",
       "15          [unknown, other, failure, success]  \n",
       "16                                   [yes, no]  "
      ]
     },
     "execution_count": 59,
     "metadata": {},
     "output_type": "execute_result"
    }
   ],
   "source": [
    "# show general ata information\n",
    "desc_df = data_desc(data)\n",
    "desc_df"
   ]
  },
  {
   "cell_type": "markdown",
   "id": "dc9fc857",
   "metadata": {},
   "source": [
    "## Range"
   ]
  },
  {
   "cell_type": "code",
   "execution_count": 60,
   "id": "edf97f6c",
   "metadata": {
    "ExecuteTime": {
     "end_time": "2023-04-05T06:37:21.063704Z",
     "start_time": "2023-04-05T06:37:20.994679Z"
    }
   },
   "outputs": [
    {
     "data": {
      "text/html": [
       "<div>\n",
       "<style scoped>\n",
       "    .dataframe tbody tr th:only-of-type {\n",
       "        vertical-align: middle;\n",
       "    }\n",
       "\n",
       "    .dataframe tbody tr th {\n",
       "        vertical-align: top;\n",
       "    }\n",
       "\n",
       "    .dataframe thead th {\n",
       "        text-align: right;\n",
       "    }\n",
       "</style>\n",
       "<table border=\"1\" class=\"dataframe\">\n",
       "  <thead>\n",
       "    <tr style=\"text-align: right;\">\n",
       "      <th></th>\n",
       "      <th>age</th>\n",
       "      <th>balance</th>\n",
       "      <th>day</th>\n",
       "      <th>duration</th>\n",
       "      <th>campaign</th>\n",
       "      <th>pdays</th>\n",
       "      <th>previous</th>\n",
       "    </tr>\n",
       "  </thead>\n",
       "  <tbody>\n",
       "    <tr>\n",
       "      <th>count</th>\n",
       "      <td>11162.000000</td>\n",
       "      <td>11162.000000</td>\n",
       "      <td>11162.000000</td>\n",
       "      <td>11162.000000</td>\n",
       "      <td>11162.000000</td>\n",
       "      <td>11162.000000</td>\n",
       "      <td>11162.000000</td>\n",
       "    </tr>\n",
       "    <tr>\n",
       "      <th>mean</th>\n",
       "      <td>41.231948</td>\n",
       "      <td>1528.538524</td>\n",
       "      <td>15.658036</td>\n",
       "      <td>371.993818</td>\n",
       "      <td>2.508421</td>\n",
       "      <td>51.330407</td>\n",
       "      <td>0.832557</td>\n",
       "    </tr>\n",
       "    <tr>\n",
       "      <th>std</th>\n",
       "      <td>11.913369</td>\n",
       "      <td>3225.413326</td>\n",
       "      <td>8.420740</td>\n",
       "      <td>347.128386</td>\n",
       "      <td>2.722077</td>\n",
       "      <td>108.758282</td>\n",
       "      <td>2.292007</td>\n",
       "    </tr>\n",
       "    <tr>\n",
       "      <th>min</th>\n",
       "      <td>18.000000</td>\n",
       "      <td>-6847.000000</td>\n",
       "      <td>1.000000</td>\n",
       "      <td>2.000000</td>\n",
       "      <td>1.000000</td>\n",
       "      <td>-1.000000</td>\n",
       "      <td>0.000000</td>\n",
       "    </tr>\n",
       "    <tr>\n",
       "      <th>25%</th>\n",
       "      <td>32.000000</td>\n",
       "      <td>122.000000</td>\n",
       "      <td>8.000000</td>\n",
       "      <td>138.000000</td>\n",
       "      <td>1.000000</td>\n",
       "      <td>-1.000000</td>\n",
       "      <td>0.000000</td>\n",
       "    </tr>\n",
       "    <tr>\n",
       "      <th>50%</th>\n",
       "      <td>39.000000</td>\n",
       "      <td>550.000000</td>\n",
       "      <td>15.000000</td>\n",
       "      <td>255.000000</td>\n",
       "      <td>2.000000</td>\n",
       "      <td>-1.000000</td>\n",
       "      <td>0.000000</td>\n",
       "    </tr>\n",
       "    <tr>\n",
       "      <th>75%</th>\n",
       "      <td>49.000000</td>\n",
       "      <td>1708.000000</td>\n",
       "      <td>22.000000</td>\n",
       "      <td>496.000000</td>\n",
       "      <td>3.000000</td>\n",
       "      <td>20.750000</td>\n",
       "      <td>1.000000</td>\n",
       "    </tr>\n",
       "    <tr>\n",
       "      <th>max</th>\n",
       "      <td>95.000000</td>\n",
       "      <td>81204.000000</td>\n",
       "      <td>31.000000</td>\n",
       "      <td>3881.000000</td>\n",
       "      <td>63.000000</td>\n",
       "      <td>854.000000</td>\n",
       "      <td>58.000000</td>\n",
       "    </tr>\n",
       "  </tbody>\n",
       "</table>\n",
       "</div>"
      ],
      "text/plain": [
       "                age       balance           day      duration      campaign  \\\n",
       "count  11162.000000  11162.000000  11162.000000  11162.000000  11162.000000   \n",
       "mean      41.231948   1528.538524     15.658036    371.993818      2.508421   \n",
       "std       11.913369   3225.413326      8.420740    347.128386      2.722077   \n",
       "min       18.000000  -6847.000000      1.000000      2.000000      1.000000   \n",
       "25%       32.000000    122.000000      8.000000    138.000000      1.000000   \n",
       "50%       39.000000    550.000000     15.000000    255.000000      2.000000   \n",
       "75%       49.000000   1708.000000     22.000000    496.000000      3.000000   \n",
       "max       95.000000  81204.000000     31.000000   3881.000000     63.000000   \n",
       "\n",
       "              pdays      previous  \n",
       "count  11162.000000  11162.000000  \n",
       "mean      51.330407      0.832557  \n",
       "std      108.758282      2.292007  \n",
       "min       -1.000000      0.000000  \n",
       "25%       -1.000000      0.000000  \n",
       "50%       -1.000000      0.000000  \n",
       "75%       20.750000      1.000000  \n",
       "max      854.000000     58.000000  "
      ]
     },
     "execution_count": 60,
     "metadata": {},
     "output_type": "execute_result"
    }
   ],
   "source": [
    "data.describe()"
   ]
  },
  {
   "cell_type": "code",
   "execution_count": 61,
   "id": "d01c1e6b",
   "metadata": {
    "ExecuteTime": {
     "end_time": "2023-04-05T06:37:21.909490Z",
     "start_time": "2023-04-05T06:37:21.904233Z"
    }
   },
   "outputs": [],
   "source": [
    "# ada balance negative --> diganti Nan\n",
    "# ada pdays negative --> diganti Nan"
   ]
  },
  {
   "cell_type": "markdown",
   "id": "633912ce",
   "metadata": {},
   "source": [
    "## Data Dimenstion"
   ]
  },
  {
   "cell_type": "code",
   "execution_count": 62,
   "id": "6f38ddce",
   "metadata": {
    "ExecuteTime": {
     "end_time": "2023-04-05T06:37:22.537096Z",
     "start_time": "2023-04-05T06:37:22.527629Z"
    }
   },
   "outputs": [
    {
     "data": {
      "text/plain": [
       "(11162, 17)"
      ]
     },
     "execution_count": 62,
     "metadata": {},
     "output_type": "execute_result"
    }
   ],
   "source": [
    "data.shape"
   ]
  },
  {
   "cell_type": "markdown",
   "id": "620fd0f2",
   "metadata": {},
   "source": [
    "## Handling `pdays` column"
   ]
  },
  {
   "cell_type": "code",
   "execution_count": 117,
   "id": "8b6d3bc3",
   "metadata": {
    "ExecuteTime": {
     "end_time": "2023-04-06T02:57:22.387170Z",
     "start_time": "2023-04-06T02:57:22.376141Z"
    }
   },
   "outputs": [],
   "source": [
    "# handling pdays function\n",
    "def handling_negative(data, col):\n",
    "    data[col] = np.where(data[col] < 0, -1, data[col])\n",
    "    return data[col]"
   ]
  },
  {
   "cell_type": "code",
   "execution_count": 118,
   "id": "d4566843",
   "metadata": {
    "ExecuteTime": {
     "end_time": "2023-04-06T02:57:22.810153Z",
     "start_time": "2023-04-06T02:57:22.791393Z"
    }
   },
   "outputs": [],
   "source": [
    "data['pdays'] = handling_negative(data, 'pdays')"
   ]
  },
  {
   "cell_type": "markdown",
   "id": "e4e3656b",
   "metadata": {},
   "source": [
    "## Handling `balance` columns"
   ]
  },
  {
   "cell_type": "code",
   "execution_count": 119,
   "id": "ba8853bc",
   "metadata": {
    "ExecuteTime": {
     "end_time": "2023-04-06T02:57:23.718379Z",
     "start_time": "2023-04-06T02:57:23.710220Z"
    }
   },
   "outputs": [],
   "source": [
    "data['balance'] = handling_negative(data, 'balance')"
   ]
  },
  {
   "cell_type": "code",
   "execution_count": 120,
   "id": "ecad2e86",
   "metadata": {
    "ExecuteTime": {
     "end_time": "2023-04-06T02:57:25.439587Z",
     "start_time": "2023-04-06T02:57:25.383851Z"
    }
   },
   "outputs": [
    {
     "data": {
      "text/html": [
       "<div>\n",
       "<style scoped>\n",
       "    .dataframe tbody tr th:only-of-type {\n",
       "        vertical-align: middle;\n",
       "    }\n",
       "\n",
       "    .dataframe tbody tr th {\n",
       "        vertical-align: top;\n",
       "    }\n",
       "\n",
       "    .dataframe thead th {\n",
       "        text-align: right;\n",
       "    }\n",
       "</style>\n",
       "<table border=\"1\" class=\"dataframe\">\n",
       "  <thead>\n",
       "    <tr style=\"text-align: right;\">\n",
       "      <th></th>\n",
       "      <th>age</th>\n",
       "      <th>balance</th>\n",
       "      <th>day</th>\n",
       "      <th>duration</th>\n",
       "      <th>campaign</th>\n",
       "      <th>pdays</th>\n",
       "      <th>previous</th>\n",
       "    </tr>\n",
       "  </thead>\n",
       "  <tbody>\n",
       "    <tr>\n",
       "      <th>count</th>\n",
       "      <td>11162.000000</td>\n",
       "      <td>11162.000000</td>\n",
       "      <td>11162.000000</td>\n",
       "      <td>11162.000000</td>\n",
       "      <td>11162.000000</td>\n",
       "      <td>11162.000000</td>\n",
       "      <td>11162.000000</td>\n",
       "    </tr>\n",
       "    <tr>\n",
       "      <th>mean</th>\n",
       "      <td>41.231948</td>\n",
       "      <td>1548.435585</td>\n",
       "      <td>15.658036</td>\n",
       "      <td>371.993818</td>\n",
       "      <td>2.508421</td>\n",
       "      <td>51.330407</td>\n",
       "      <td>0.832557</td>\n",
       "    </tr>\n",
       "    <tr>\n",
       "      <th>std</th>\n",
       "      <td>11.913369</td>\n",
       "      <td>3213.229658</td>\n",
       "      <td>8.420740</td>\n",
       "      <td>347.128386</td>\n",
       "      <td>2.722077</td>\n",
       "      <td>108.758282</td>\n",
       "      <td>2.292007</td>\n",
       "    </tr>\n",
       "    <tr>\n",
       "      <th>min</th>\n",
       "      <td>18.000000</td>\n",
       "      <td>-1.000000</td>\n",
       "      <td>1.000000</td>\n",
       "      <td>2.000000</td>\n",
       "      <td>1.000000</td>\n",
       "      <td>-1.000000</td>\n",
       "      <td>0.000000</td>\n",
       "    </tr>\n",
       "    <tr>\n",
       "      <th>25%</th>\n",
       "      <td>32.000000</td>\n",
       "      <td>122.000000</td>\n",
       "      <td>8.000000</td>\n",
       "      <td>138.000000</td>\n",
       "      <td>1.000000</td>\n",
       "      <td>-1.000000</td>\n",
       "      <td>0.000000</td>\n",
       "    </tr>\n",
       "    <tr>\n",
       "      <th>50%</th>\n",
       "      <td>39.000000</td>\n",
       "      <td>550.000000</td>\n",
       "      <td>15.000000</td>\n",
       "      <td>255.000000</td>\n",
       "      <td>2.000000</td>\n",
       "      <td>-1.000000</td>\n",
       "      <td>0.000000</td>\n",
       "    </tr>\n",
       "    <tr>\n",
       "      <th>75%</th>\n",
       "      <td>49.000000</td>\n",
       "      <td>1708.000000</td>\n",
       "      <td>22.000000</td>\n",
       "      <td>496.000000</td>\n",
       "      <td>3.000000</td>\n",
       "      <td>20.750000</td>\n",
       "      <td>1.000000</td>\n",
       "    </tr>\n",
       "    <tr>\n",
       "      <th>max</th>\n",
       "      <td>95.000000</td>\n",
       "      <td>81204.000000</td>\n",
       "      <td>31.000000</td>\n",
       "      <td>3881.000000</td>\n",
       "      <td>63.000000</td>\n",
       "      <td>854.000000</td>\n",
       "      <td>58.000000</td>\n",
       "    </tr>\n",
       "  </tbody>\n",
       "</table>\n",
       "</div>"
      ],
      "text/plain": [
       "                age       balance           day      duration      campaign  \\\n",
       "count  11162.000000  11162.000000  11162.000000  11162.000000  11162.000000   \n",
       "mean      41.231948   1548.435585     15.658036    371.993818      2.508421   \n",
       "std       11.913369   3213.229658      8.420740    347.128386      2.722077   \n",
       "min       18.000000     -1.000000      1.000000      2.000000      1.000000   \n",
       "25%       32.000000    122.000000      8.000000    138.000000      1.000000   \n",
       "50%       39.000000    550.000000     15.000000    255.000000      2.000000   \n",
       "75%       49.000000   1708.000000     22.000000    496.000000      3.000000   \n",
       "max       95.000000  81204.000000     31.000000   3881.000000     63.000000   \n",
       "\n",
       "              pdays      previous  \n",
       "count  11162.000000  11162.000000  \n",
       "mean      51.330407      0.832557  \n",
       "std      108.758282      2.292007  \n",
       "min       -1.000000      0.000000  \n",
       "25%       -1.000000      0.000000  \n",
       "50%       -1.000000      0.000000  \n",
       "75%       20.750000      1.000000  \n",
       "max      854.000000     58.000000  "
      ]
     },
     "execution_count": 120,
     "metadata": {},
     "output_type": "execute_result"
    }
   ],
   "source": [
    "# describe data\n",
    "data.describe()"
   ]
  },
  {
   "cell_type": "markdown",
   "id": "70fe82af",
   "metadata": {},
   "source": [
    "# Data Defense"
   ]
  },
  {
   "cell_type": "code",
   "execution_count": 134,
   "id": "ffa6d492",
   "metadata": {
    "ExecuteTime": {
     "end_time": "2023-04-06T03:00:52.102136Z",
     "start_time": "2023-04-06T03:00:52.088273Z"
    }
   },
   "outputs": [],
   "source": [
    "def check_data(input_data, params):\n",
    "    # check data types\n",
    "    assert input_data.select_dtypes(\"object\").columns.to_list() == params[\"object_columns\"], \"an error occurs in object column(s).\"\n",
    "    assert input_data.select_dtypes(\"int\").columns.to_list() == params[\"int32_columns\"], \"an error occurs in int32 column(s).\"\n",
    "\n",
    "    # check range of data\n",
    "    assert set(input_data.job).issubset(set(params[\"range_job\"])), \"an error occurs in job range.\"\n",
    "    assert set(input_data.marital).issubset(set(params[\"range_marital\"])), \"an error occurs in marital range.\"\n",
    "    assert set(input_data.education).issubset(set(params[\"range_education\"])), \"an error occurs in education range.\"\n",
    "    assert set(input_data.default).issubset(set(params[\"range_default\"])), \"an error occurs in default range.\"\n",
    "    assert set(input_data.housing).issubset(set(params[\"range_housing\"])), \"an error occurs in housing range.\"\n",
    "    assert set(input_data.loan).issubset(set(params[\"range_loan\"])), \"an error occurs in loan range.\"\n",
    "    assert set(input_data.contact).issubset(set(params[\"range_contact\"])), \"an error occurs in contact range.\"\n",
    "    assert set(input_data.month).issubset(set(params[\"range_month\"])), \"an error occurs in month range.\"\n",
    "    assert set(input_data.poutcome).issubset(set(params[\"range_poutcome\"])), \"an error occurs in poutcome range.\"\n",
    "    assert input_data.age.between(params[\"range_age\"][0], params[\"range_age\"][1]).sum() == len(input_data), \"an error occurs in age range.\"\n",
    "    assert input_data.balance.between(params[\"range_balance\"][0], params[\"range_balance\"][1]).sum() == len(input_data), \"an error occurs in balance range.\"\n",
    "    assert input_data.day.between(params[\"range_day\"][0], params[\"range_day\"][1]).sum() == len(input_data), \"an error occurs in day range.\"\n",
    "    assert input_data.duration.between(params[\"range_duration\"][0], params[\"range_duration\"][1]).sum() == len(input_data), \"an error occurs in duration range.\"\n",
    "    assert input_data.campaign.between(params[\"range_campaign\"][0], params[\"range_campaign\"][1]).sum() == len(input_data), \"an error occurs in campaign range.\"\n",
    "    assert input_data.pdays.between(params[\"range_pdays\"][0], params[\"range_pdays\"][1]).sum() == len(input_data), \"an error occurs in pdays range.\"\n",
    "    assert input_data.previous.between(params[\"range_previous\"][0], params[\"range_previous\"][1]).sum() == len(input_data), \"an error occurs in previous range.\""
   ]
  },
  {
   "cell_type": "code",
   "execution_count": 141,
   "id": "bccedd55",
   "metadata": {
    "ExecuteTime": {
     "end_time": "2023-04-06T03:02:29.154720Z",
     "start_time": "2023-04-06T03:02:29.126027Z"
    }
   },
   "outputs": [],
   "source": [
    "check_data(data, params)"
   ]
  },
  {
   "cell_type": "code",
   "execution_count": 129,
   "id": "72437428",
   "metadata": {
    "ExecuteTime": {
     "end_time": "2023-04-06T03:00:27.249687Z",
     "start_time": "2023-04-06T03:00:27.241887Z"
    }
   },
   "outputs": [
    {
     "data": {
      "text/plain": [
       "['age', 'balance', 'day', 'duration', 'campaign', 'pdays', 'previous']"
      ]
     },
     "execution_count": 129,
     "metadata": {},
     "output_type": "execute_result"
    }
   ],
   "source": [
    "params[\"int32_columns\"]"
   ]
  },
  {
   "cell_type": "markdown",
   "id": "d0883667",
   "metadata": {},
   "source": [
    "# Data Spliting"
   ]
  },
  {
   "cell_type": "code",
   "execution_count": 142,
   "id": "5adc580f",
   "metadata": {
    "ExecuteTime": {
     "end_time": "2023-04-06T03:02:52.270710Z",
     "start_time": "2023-04-06T03:02:52.257822Z"
    }
   },
   "outputs": [],
   "source": [
    "X = data.drop('deposit', axis=1).copy()\n",
    "y = data['deposit'].copy()"
   ]
  },
  {
   "cell_type": "code",
   "execution_count": 143,
   "id": "e7a92944",
   "metadata": {
    "ExecuteTime": {
     "end_time": "2023-04-06T03:02:53.471750Z",
     "start_time": "2023-04-06T03:02:53.436757Z"
    }
   },
   "outputs": [],
   "source": [
    "x_train, x_test, y_train, y_test = train_test_split(X, y, test_size = 0.4, random_state = 42,  stratify = y)"
   ]
  },
  {
   "cell_type": "code",
   "execution_count": 144,
   "id": "6c002269",
   "metadata": {
    "ExecuteTime": {
     "end_time": "2023-04-06T03:02:54.964749Z",
     "start_time": "2023-04-06T03:02:54.948890Z"
    }
   },
   "outputs": [],
   "source": [
    "x_valid, x_test, y_valid, y_test = train_test_split(x_test, y_test, test_size = 0.5, random_state = 42, stratify = y_test)"
   ]
  },
  {
   "cell_type": "code",
   "execution_count": 145,
   "id": "e57e74a3",
   "metadata": {
    "ExecuteTime": {
     "end_time": "2023-04-06T03:02:55.381026Z",
     "start_time": "2023-04-06T03:02:55.374070Z"
    }
   },
   "outputs": [
    {
     "data": {
      "text/plain": [
       "((6697, 16), (2233, 16), (2232, 16), (6697,), (2233,), (2232,))"
      ]
     },
     "execution_count": 145,
     "metadata": {},
     "output_type": "execute_result"
    }
   ],
   "source": [
    "x_train.shape, x_test.shape, x_valid.shape, y_train.shape, y_test.shape, y_valid.shape"
   ]
  },
  {
   "cell_type": "code",
   "execution_count": 146,
   "id": "c0bdb292",
   "metadata": {
    "ExecuteTime": {
     "end_time": "2023-04-06T03:02:56.128361Z",
     "start_time": "2023-04-06T03:02:56.073003Z"
    }
   },
   "outputs": [
    {
     "data": {
      "text/plain": [
       "['data/raw/y_test.pkl']"
      ]
     },
     "execution_count": 146,
     "metadata": {},
     "output_type": "execute_result"
    }
   ],
   "source": [
    "joblib.dump(x_train, \"data/raw/x_train.pkl\")\n",
    "joblib.dump(y_train, \"data/raw/y_train.pkl\")\n",
    "joblib.dump(x_valid, \"data/raw/x_valid.pkl\")\n",
    "joblib.dump(y_valid, \"data/raw/y_valid.pkl\")\n",
    "joblib.dump(x_test, \"data/raw/x_test.pkl\")\n",
    "joblib.dump(y_test, \"data/raw/y_test.pkl\")"
   ]
  },
  {
   "cell_type": "code",
   "execution_count": null,
   "id": "40598377",
   "metadata": {},
   "outputs": [],
   "source": []
  }
 ],
 "metadata": {
  "kernelspec": {
   "display_name": "Python 3 (ipykernel)",
   "language": "python",
   "name": "python3"
  },
  "language_info": {
   "codemirror_mode": {
    "name": "ipython",
    "version": 3
   },
   "file_extension": ".py",
   "mimetype": "text/x-python",
   "name": "python",
   "nbconvert_exporter": "python",
   "pygments_lexer": "ipython3",
   "version": "3.9.7"
  },
  "toc": {
   "base_numbering": 1,
   "nav_menu": {},
   "number_sections": true,
   "sideBar": true,
   "skip_h1_title": false,
   "title_cell": "Table of Contents",
   "title_sidebar": "Contents",
   "toc_cell": false,
   "toc_position": {
    "height": "calc(100% - 180px)",
    "left": "10px",
    "top": "150px",
    "width": "288px"
   },
   "toc_section_display": true,
   "toc_window_display": true
  }
 },
 "nbformat": 4,
 "nbformat_minor": 5
}
