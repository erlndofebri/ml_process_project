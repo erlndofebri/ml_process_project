{
 "cells": [
  {
   "cell_type": "code",
   "execution_count": 69,
   "id": "a0d7344c",
   "metadata": {
    "ExecuteTime": {
     "end_time": "2023-04-09T06:31:28.162127Z",
     "start_time": "2023-04-09T06:31:28.150478Z"
    }
   },
   "outputs": [],
   "source": [
    "from sklearn.linear_model import LogisticRegression\n",
    "from sklearn.tree import DecisionTreeClassifier\n",
    "from sklearn.ensemble import RandomForestClassifier\n",
    "from sklearn.neighbors import KNeighborsClassifier\n",
    "from xgboost import XGBClassifier\n",
    "\n",
    "from sklearn.metrics import classification_report, ConfusionMatrixDisplay, roc_curve, roc_auc_score\n",
    "from sklearn.model_selection import RandomizedSearchCV, GridSearchCV\n",
    "from sklearn.dummy import DummyClassifier\n",
    "\n",
    "from datetime import datetime\n",
    "from tqdm import tqdm\n",
    "import yaml\n",
    "import joblib\n",
    "import json\n",
    "import pandas as pd\n",
    "import matplotlib.pyplot as plt\n",
    "import seaborn as sns\n",
    "import copy\n",
    "import hashlib"
   ]
  },
  {
   "cell_type": "markdown",
   "id": "76c52e6f",
   "metadata": {},
   "source": [
    "# Load Dataset"
   ]
  },
  {
   "cell_type": "code",
   "execution_count": 70,
   "id": "6fe94467",
   "metadata": {
    "ExecuteTime": {
     "end_time": "2023-04-09T06:31:28.273621Z",
     "start_time": "2023-04-09T06:31:28.168797Z"
    }
   },
   "outputs": [],
   "source": [
    "x_train = joblib.load(\"data/raw/x_train.pkl\")\n",
    "y_train = joblib.load(\"data/raw/y_train.pkl\")\n",
    "\n",
    "x_rus = joblib.load(\"data/processed/x_rus.pkl\")\n",
    "y_rus = joblib.load(\"data/processed/y_rus.pkl\")\n",
    "\n",
    "x_ros = joblib.load(\"data/processed/x_ros.pkl\")\n",
    "y_ros = joblib.load(\"data/processed/y_ros.pkl\")\n",
    "\n",
    "x_sm = joblib.load(\"data/processed/x_sm.pkl\")\n",
    "y_sm = joblib.load(\"data/processed/y_sm.pkl\")\n",
    "\n",
    "x_valid = joblib.load(\"data/processed/x_valid_feng.pkl\")\n",
    "y_valid = joblib.load(\"data/processed/y_valid_feng.pkl\")\n",
    "\n",
    "x_test = joblib.load(\"data/processed/x_test_feng.pkl\")\n",
    "y_test = joblib.load(\"data/processed/y_test_feng.pkl\")"
   ]
  },
  {
   "cell_type": "markdown",
   "id": "38de719a",
   "metadata": {},
   "source": [
    "# Log Template"
   ]
  },
  {
   "cell_type": "code",
   "execution_count": 71,
   "id": "f7fde6dc",
   "metadata": {
    "ExecuteTime": {
     "end_time": "2023-04-09T06:31:28.281328Z",
     "start_time": "2023-04-09T06:31:28.277541Z"
    }
   },
   "outputs": [],
   "source": [
    "def time_stamp():\n",
    "    return datetime.now()"
   ]
  },
  {
   "cell_type": "code",
   "execution_count": 72,
   "id": "46cc0622",
   "metadata": {
    "ExecuteTime": {
     "end_time": "2023-04-09T06:31:28.290430Z",
     "start_time": "2023-04-09T06:31:28.285433Z"
    }
   },
   "outputs": [],
   "source": [
    "def create_log_template():\n",
    "    logger = {\n",
    "        \"model_name\" : [],\n",
    "        \"model_uid\" : [],\n",
    "        \"training_time\" : [],\n",
    "        \"training_date\" : [],\n",
    "        \"performance\" : [],\n",
    "        \"f1_score_avg\" : [],\n",
    "        \"data_configurations\" : [],\n",
    "    }\n",
    "\n",
    "    return logger"
   ]
  },
  {
   "cell_type": "code",
   "execution_count": 73,
   "id": "8af08f66",
   "metadata": {
    "ExecuteTime": {
     "end_time": "2023-04-09T06:31:28.301758Z",
     "start_time": "2023-04-09T06:31:28.294275Z"
    }
   },
   "outputs": [],
   "source": [
    "def training_log_updater(current_log, log_path):\n",
    "    current_log = current_log.copy()\n",
    "\n",
    "    try:\n",
    "        with open(log_path, \"r\") as file: #read\n",
    "            last_log = json.load(file)\n",
    "        file.close()\n",
    "    except FileNotFoundError as ffe:\n",
    "        with open(log_path, \"w\") as file: #write\n",
    "            file.write(\"[]\")\n",
    "        file.close()\n",
    "        with open(log_path, \"r\") as file:\n",
    "            last_log = json.load(file)\n",
    "        file.close()\n",
    "    \n",
    "    last_log.append(current_log)\n",
    "\n",
    "    with open(log_path, \"w\") as file:\n",
    "        json.dump(last_log, file)\n",
    "        file.close()\n",
    "\n",
    "    return last_log"
   ]
  },
  {
   "cell_type": "markdown",
   "id": "d12a2e8c",
   "metadata": {},
   "source": [
    "## Baseline Model"
   ]
  },
  {
   "cell_type": "markdown",
   "id": "6c9f7057",
   "metadata": {},
   "source": [
    "### Label Encoding"
   ]
  },
  {
   "cell_type": "code",
   "execution_count": 74,
   "id": "7067aec9",
   "metadata": {
    "ExecuteTime": {
     "end_time": "2023-04-09T06:31:28.313180Z",
     "start_time": "2023-04-09T06:31:28.306582Z"
    }
   },
   "outputs": [],
   "source": [
    "le_deposit = joblib.load(\"model/le_deposit.pkl\")"
   ]
  },
  {
   "cell_type": "code",
   "execution_count": 75,
   "id": "d72320c6",
   "metadata": {
    "ExecuteTime": {
     "end_time": "2023-04-09T06:31:28.327224Z",
     "start_time": "2023-04-09T06:31:28.316223Z"
    }
   },
   "outputs": [
    {
     "data": {
      "text/plain": [
       "array([0, 0, 1, ..., 0, 0, 1])"
      ]
     },
     "execution_count": 75,
     "metadata": {},
     "output_type": "execute_result"
    }
   ],
   "source": [
    "y_train = le_deposit.transform(y_train)\n",
    "y_train"
   ]
  },
  {
   "cell_type": "code",
   "execution_count": 76,
   "id": "5f611c4b",
   "metadata": {
    "ExecuteTime": {
     "end_time": "2023-04-09T06:31:28.343793Z",
     "start_time": "2023-04-09T06:31:28.330918Z"
    }
   },
   "outputs": [
    {
     "data": {
      "text/plain": [
       "0.5261979399910435"
      ]
     },
     "execution_count": 76,
     "metadata": {},
     "output_type": "execute_result"
    }
   ],
   "source": [
    "# create dummy classifier\n",
    "dummy_clf = DummyClassifier(strategy='most_frequent', random_state=42)\n",
    "# train a model\n",
    "dummy_clf.fit(x_train, y_train)\n",
    "# get accuracy score\n",
    "baseline_score = dummy_clf.score(x_test, y_test)\n",
    "baseline_score"
   ]
  },
  {
   "cell_type": "markdown",
   "id": "026d2e37",
   "metadata": {},
   "source": [
    "# Training & Evaluation"
   ]
  },
  {
   "cell_type": "markdown",
   "id": "e36fcab1",
   "metadata": {},
   "source": [
    "## Create Model Object "
   ]
  },
  {
   "cell_type": "code",
   "execution_count": 77,
   "id": "e725e5a4",
   "metadata": {
    "ExecuteTime": {
     "end_time": "2023-04-09T06:31:28.361534Z",
     "start_time": "2023-04-09T06:31:28.352142Z"
    }
   },
   "outputs": [],
   "source": [
    "def training_log_updater(current_log, log_path):\n",
    "    current_log = current_log.copy()\n",
    "\n",
    "    try:\n",
    "        with open(log_path, \"r\") as file:\n",
    "            last_log = json.load(file)\n",
    "        file.close()\n",
    "    except FileNotFoundError as ffe:\n",
    "        with open(log_path, \"w\") as file:\n",
    "            file.write(\"[]\")\n",
    "        file.close()\n",
    "        with open(log_path, \"r\") as file:\n",
    "            last_log = json.load(file)\n",
    "        file.close()\n",
    "    \n",
    "    last_log.append(current_log)\n",
    "\n",
    "    with open(log_path, \"w\") as file:\n",
    "        json.dump(last_log, file)\n",
    "        file.close()\n",
    "\n",
    "    return last_log"
   ]
  },
  {
   "cell_type": "code",
   "execution_count": 78,
   "id": "1af69d9a",
   "metadata": {
    "ExecuteTime": {
     "end_time": "2023-04-09T06:31:28.377912Z",
     "start_time": "2023-04-09T06:31:28.368963Z"
    }
   },
   "outputs": [],
   "source": [
    "lgr_baseline = LogisticRegression()\n",
    "dct_baseline = DecisionTreeClassifier()\n",
    "rfc_baseline = RandomForestClassifier()\n",
    "knn_baseline = KNeighborsClassifier()\n",
    "xgb_baseline = XGBClassifier()"
   ]
  },
  {
   "cell_type": "code",
   "execution_count": 79,
   "id": "d4b06c13",
   "metadata": {
    "ExecuteTime": {
     "end_time": "2023-04-09T06:31:28.394667Z",
     "start_time": "2023-04-09T06:31:28.383269Z"
    }
   },
   "outputs": [],
   "source": [
    "list_of_model = {\n",
    "    \"undersampling\" : [\n",
    "        { \"model_name\": lgr_baseline.__class__.__name__, \"model_object\": lgr_baseline, \"model_uid\": \"\"},\n",
    "        { \"model_name\": dct_baseline.__class__.__name__, \"model_object\": dct_baseline, \"model_uid\": \"\"},\n",
    "        { \"model_name\": rfc_baseline.__class__.__name__, \"model_object\": rfc_baseline, \"model_uid\": \"\"},\n",
    "        { \"model_name\": knn_baseline.__class__.__name__, \"model_object\": knn_baseline, \"model_uid\": \"\"},\n",
    "        { \"model_name\": xgb_baseline.__class__.__name__, \"model_object\": xgb_baseline, \"model_uid\": \"\"}\n",
    "        ],\n",
    "    \"oversampling\" : [\n",
    "        { \"model_name\": lgr_baseline.__class__.__name__, \"model_object\": lgr_baseline, \"model_uid\": \"\"},\n",
    "        { \"model_name\": dct_baseline.__class__.__name__, \"model_object\": dct_baseline, \"model_uid\": \"\"},\n",
    "        { \"model_name\": rfc_baseline.__class__.__name__, \"model_object\": rfc_baseline, \"model_uid\": \"\"},\n",
    "        { \"model_name\": knn_baseline.__class__.__name__, \"model_object\": knn_baseline, \"model_uid\": \"\"},\n",
    "        { \"model_name\": xgb_baseline.__class__.__name__, \"model_object\": xgb_baseline, \"model_uid\": \"\"}\n",
    "        ],\n",
    "    \"smote\" : [\n",
    "        { \"model_name\": lgr_baseline.__class__.__name__, \"model_object\": lgr_baseline, \"model_uid\": \"\"},\n",
    "        { \"model_name\": dct_baseline.__class__.__name__, \"model_object\": dct_baseline, \"model_uid\": \"\"},\n",
    "        { \"model_name\": rfc_baseline.__class__.__name__, \"model_object\": rfc_baseline, \"model_uid\": \"\"},\n",
    "        { \"model_name\": knn_baseline.__class__.__name__, \"model_object\": knn_baseline, \"model_uid\": \"\"},\n",
    "        { \"model_name\": xgb_baseline.__class__.__name__, \"model_object\": xgb_baseline, \"model_uid\": \"\"}\n",
    "        ],\n",
    "    }"
   ]
  },
  {
   "cell_type": "markdown",
   "id": "d94ab3b1",
   "metadata": {},
   "source": [
    "## Training Model"
   ]
  },
  {
   "cell_type": "code",
   "execution_count": 80,
   "id": "df0c2dfd",
   "metadata": {
    "ExecuteTime": {
     "end_time": "2023-04-09T06:31:28.418676Z",
     "start_time": "2023-04-09T06:31:28.400555Z"
    }
   },
   "outputs": [],
   "source": [
    "def train_eval_model(list_of_model, prefix_model_name, x_train, y_train, data_configuration_name, x_valid, y_valid, log_path):\n",
    "\n",
    "    list_of_model = copy.deepcopy(list_of_model)\n",
    "    logger = create_log_template()\n",
    "\n",
    "    for model in tqdm(list_of_model):    \n",
    "        model_name = prefix_model_name + \"-\" + model[\"model_name\"]\n",
    "\n",
    "        #fit\n",
    "        start_time = time_stamp()\n",
    "        model[\"model_object\"].fit(x_train, y_train)\n",
    "        finished_time = time_stamp()\n",
    "\n",
    "        # convert ke second\n",
    "        elapsed_time = finished_time - start_time\n",
    "        elapsed_time = elapsed_time.total_seconds()\n",
    "        \n",
    "\n",
    "        # using predict x_valid (x_test masih disimpen)\n",
    "        y_pred = model[\"model_object\"].predict(x_valid)\n",
    "        performance = classification_report(y_valid, y_pred, output_dict = True)\n",
    "\n",
    "        # make uid (one way encryption)\n",
    "        plain_id = str(start_time) + str(finished_time)\n",
    "        chiper_id = hashlib.md5(plain_id.encode()).hexdigest()\n",
    "\n",
    "        model[\"model_uid\"] = chiper_id\n",
    "\n",
    "        # append\n",
    "        logger[\"model_name\"].append(model_name)\n",
    "        logger[\"model_uid\"].append(chiper_id)\n",
    "        logger[\"training_time\"].append(elapsed_time)\n",
    "        logger[\"training_date\"].append(str(start_time))\n",
    "        logger[\"performance\"].append(performance)\n",
    "        logger[\"f1_score_avg\"].append(performance[\"macro avg\"][\"f1-score\"]) # pake recall\n",
    "        logger[\"data_configurations\"].append(data_configuration_name)\n",
    "\n",
    "    training_log = training_log_updater(logger, log_path)\n",
    "\n",
    "    return training_log, list_of_model"
   ]
  },
  {
   "cell_type": "markdown",
   "id": "35295eb7",
   "metadata": {},
   "source": [
    "### Baseline Model Undersampling"
   ]
  },
  {
   "cell_type": "code",
   "execution_count": 81,
   "id": "39fc4e18",
   "metadata": {
    "ExecuteTime": {
     "end_time": "2023-04-09T06:31:30.937704Z",
     "start_time": "2023-04-09T06:31:28.427346Z"
    }
   },
   "outputs": [
    {
     "name": "stderr",
     "output_type": "stream",
     "text": [
      "  0%|                                                     | 0/5 [00:00<?, ?it/s]/opt/anaconda3/lib/python3.9/site-packages/sklearn/linear_model/_logistic.py:444: ConvergenceWarning: lbfgs failed to converge (status=1):\n",
      "STOP: TOTAL NO. of ITERATIONS REACHED LIMIT.\n",
      "\n",
      "Increase the number of iterations (max_iter) or scale the data as shown in:\n",
      "    https://scikit-learn.org/stable/modules/preprocessing.html\n",
      "Please also refer to the documentation for alternative solver options:\n",
      "    https://scikit-learn.org/stable/modules/linear_model.html#logistic-regression\n",
      "  n_iter_i = _check_optimize_result(\n",
      " 80%|████████████████████████████████████         | 4/5 [00:01<00:00,  2.88it/s]/opt/anaconda3/lib/python3.9/site-packages/xgboost/sklearn.py:1224: UserWarning: The use of label encoder in XGBClassifier is deprecated and will be removed in a future release. To remove this warning, do the following: 1) Pass option use_label_encoder=False when constructing XGBClassifier object; and 2) Encode your labels (y) as integers starting with 0, i.e. 0, 1, 2, ..., [num_class - 1].\n",
      "  warnings.warn(label_encoder_deprecation_msg, UserWarning)\n"
     ]
    },
    {
     "name": "stdout",
     "output_type": "stream",
     "text": [
      "[13:31:29] WARNING: /Users/runner/miniforge3/conda-bld/xgboost-split_1637426408905/work/src/learner.cc:1115: Starting in XGBoost 1.3.0, the default evaluation metric used with the objective 'binary:logistic' was changed from 'error' to 'logloss'. Explicitly set eval_metric if you'd like to restore the old behavior.\n"
     ]
    },
    {
     "name": "stderr",
     "output_type": "stream",
     "text": [
      "100%|█████████████████████████████████████████████| 5/5 [00:02<00:00,  2.02it/s]\n"
     ]
    }
   ],
   "source": [
    "training_log, list_of_model_rus = train_eval_model(\n",
    "    list_of_model[\"undersampling\"],\n",
    "    \"baseline_model\",\n",
    "    x_rus,\n",
    "    y_rus,\n",
    "    \"undersampling\",\n",
    "    x_valid,\n",
    "    y_valid,\n",
    "    \"log/training_log.json\"\n",
    ")"
   ]
  },
  {
   "cell_type": "code",
   "execution_count": 82,
   "id": "6460f3c2",
   "metadata": {
    "ExecuteTime": {
     "end_time": "2023-04-09T06:31:31.208296Z",
     "start_time": "2023-04-09T06:31:31.019488Z"
    }
   },
   "outputs": [],
   "source": [
    "list_of_model[\"undersampling\"] = copy.deepcopy(list_of_model_rus)"
   ]
  },
  {
   "cell_type": "markdown",
   "id": "a3cdfa06",
   "metadata": {},
   "source": [
    "### Baseline Model Oversampling"
   ]
  },
  {
   "cell_type": "code",
   "execution_count": 83,
   "id": "88fbe3ab",
   "metadata": {
    "ExecuteTime": {
     "end_time": "2023-04-09T06:31:34.204948Z",
     "start_time": "2023-04-09T06:31:31.212315Z"
    }
   },
   "outputs": [
    {
     "name": "stderr",
     "output_type": "stream",
     "text": [
      "  0%|                                                     | 0/5 [00:00<?, ?it/s]/opt/anaconda3/lib/python3.9/site-packages/sklearn/linear_model/_logistic.py:444: ConvergenceWarning: lbfgs failed to converge (status=1):\n",
      "STOP: TOTAL NO. of ITERATIONS REACHED LIMIT.\n",
      "\n",
      "Increase the number of iterations (max_iter) or scale the data as shown in:\n",
      "    https://scikit-learn.org/stable/modules/preprocessing.html\n",
      "Please also refer to the documentation for alternative solver options:\n",
      "    https://scikit-learn.org/stable/modules/linear_model.html#logistic-regression\n",
      "  n_iter_i = _check_optimize_result(\n",
      " 80%|████████████████████████████████████         | 4/5 [00:01<00:00,  2.16it/s]/opt/anaconda3/lib/python3.9/site-packages/xgboost/sklearn.py:1224: UserWarning: The use of label encoder in XGBClassifier is deprecated and will be removed in a future release. To remove this warning, do the following: 1) Pass option use_label_encoder=False when constructing XGBClassifier object; and 2) Encode your labels (y) as integers starting with 0, i.e. 0, 1, 2, ..., [num_class - 1].\n",
      "  warnings.warn(label_encoder_deprecation_msg, UserWarning)\n"
     ]
    },
    {
     "name": "stdout",
     "output_type": "stream",
     "text": [
      "[13:31:33] WARNING: /Users/runner/miniforge3/conda-bld/xgboost-split_1637426408905/work/src/learner.cc:1115: Starting in XGBoost 1.3.0, the default evaluation metric used with the objective 'binary:logistic' was changed from 'error' to 'logloss'. Explicitly set eval_metric if you'd like to restore the old behavior.\n"
     ]
    },
    {
     "name": "stderr",
     "output_type": "stream",
     "text": [
      "100%|█████████████████████████████████████████████| 5/5 [00:02<00:00,  1.70it/s]\n"
     ]
    }
   ],
   "source": [
    "training_log, list_of_model_ros = train_eval_model(\n",
    "    list_of_model[\"oversampling\"],\n",
    "    \"baseline_model\",\n",
    "    x_rus,\n",
    "    y_rus,\n",
    "    \"oversampling\",\n",
    "    x_valid,\n",
    "    y_valid,\n",
    "    \"log/training_log.json\"\n",
    ")"
   ]
  },
  {
   "cell_type": "code",
   "execution_count": 84,
   "id": "5013edee",
   "metadata": {
    "ExecuteTime": {
     "end_time": "2023-04-09T06:31:34.440080Z",
     "start_time": "2023-04-09T06:31:34.223740Z"
    }
   },
   "outputs": [],
   "source": [
    "list_of_model[\"oversampling\"] = copy.deepcopy(list_of_model_ros)"
   ]
  },
  {
   "cell_type": "markdown",
   "id": "6322bfcb",
   "metadata": {},
   "source": [
    "### Baseline Model SMOTE"
   ]
  },
  {
   "cell_type": "code",
   "execution_count": 85,
   "id": "32a9bf02",
   "metadata": {
    "ExecuteTime": {
     "end_time": "2023-04-09T06:31:36.687785Z",
     "start_time": "2023-04-09T06:31:34.443125Z"
    }
   },
   "outputs": [
    {
     "name": "stderr",
     "output_type": "stream",
     "text": [
      "  0%|                                                     | 0/5 [00:00<?, ?it/s]/opt/anaconda3/lib/python3.9/site-packages/sklearn/linear_model/_logistic.py:444: ConvergenceWarning: lbfgs failed to converge (status=1):\n",
      "STOP: TOTAL NO. of ITERATIONS REACHED LIMIT.\n",
      "\n",
      "Increase the number of iterations (max_iter) or scale the data as shown in:\n",
      "    https://scikit-learn.org/stable/modules/preprocessing.html\n",
      "Please also refer to the documentation for alternative solver options:\n",
      "    https://scikit-learn.org/stable/modules/linear_model.html#logistic-regression\n",
      "  n_iter_i = _check_optimize_result(\n",
      " 80%|████████████████████████████████████         | 4/5 [00:01<00:00,  3.04it/s]/opt/anaconda3/lib/python3.9/site-packages/xgboost/sklearn.py:1224: UserWarning: The use of label encoder in XGBClassifier is deprecated and will be removed in a future release. To remove this warning, do the following: 1) Pass option use_label_encoder=False when constructing XGBClassifier object; and 2) Encode your labels (y) as integers starting with 0, i.e. 0, 1, 2, ..., [num_class - 1].\n",
      "  warnings.warn(label_encoder_deprecation_msg, UserWarning)\n"
     ]
    },
    {
     "name": "stdout",
     "output_type": "stream",
     "text": [
      "[13:31:35] WARNING: /Users/runner/miniforge3/conda-bld/xgboost-split_1637426408905/work/src/learner.cc:1115: Starting in XGBoost 1.3.0, the default evaluation metric used with the objective 'binary:logistic' was changed from 'error' to 'logloss'. Explicitly set eval_metric if you'd like to restore the old behavior.\n"
     ]
    },
    {
     "name": "stderr",
     "output_type": "stream",
     "text": [
      "100%|█████████████████████████████████████████████| 5/5 [00:02<00:00,  2.26it/s]\n"
     ]
    }
   ],
   "source": [
    "training_log, list_of_model_sm = train_eval_model(\n",
    "    list_of_model[\"smote\"],\n",
    "    \"baseline_model\",\n",
    "    x_rus,\n",
    "    y_rus,\n",
    "    \"smote\",\n",
    "    x_valid,\n",
    "    y_valid,\n",
    "    \"log/training_log.json\"\n",
    ")"
   ]
  },
  {
   "cell_type": "code",
   "execution_count": 86,
   "id": "25e80eea",
   "metadata": {
    "ExecuteTime": {
     "end_time": "2023-04-09T06:31:36.908070Z",
     "start_time": "2023-04-09T06:31:36.750904Z"
    }
   },
   "outputs": [],
   "source": [
    "list_of_model[\"smote\"] = copy.deepcopy(list_of_model_sm)"
   ]
  },
  {
   "cell_type": "markdown",
   "id": "642f1e6c",
   "metadata": {},
   "source": [
    "## Best Performance"
   ]
  },
  {
   "cell_type": "code",
   "execution_count": 87,
   "id": "b96ccfc2",
   "metadata": {
    "ExecuteTime": {
     "end_time": "2023-04-09T06:31:36.924522Z",
     "start_time": "2023-04-09T06:31:36.910810Z"
    }
   },
   "outputs": [],
   "source": [
    "def training_log_to_df(training_log):\n",
    "    training_res = pd.DataFrame()\n",
    "\n",
    "    for log in tqdm(training_log):\n",
    "        training_res = pd.concat([training_res, pd.DataFrame(log)])\n",
    "    \n",
    "    training_res.sort_values([\"f1_score_avg\", \"training_time\"], ascending = [False, True], inplace = True)\n",
    "    training_res.reset_index(inplace = True, drop = True)\n",
    "    \n",
    "    return training_res"
   ]
  },
  {
   "cell_type": "code",
   "execution_count": 88,
   "id": "d1293bcf",
   "metadata": {
    "ExecuteTime": {
     "end_time": "2023-04-09T06:31:36.969879Z",
     "start_time": "2023-04-09T06:31:36.933809Z"
    }
   },
   "outputs": [
    {
     "name": "stderr",
     "output_type": "stream",
     "text": [
      "100%|████████████████████████████████████████████| 3/3 [00:00<00:00, 223.88it/s]\n"
     ]
    }
   ],
   "source": [
    "training_res = training_log_to_df(training_log)"
   ]
  },
  {
   "cell_type": "code",
   "execution_count": 89,
   "id": "caffbd8b",
   "metadata": {
    "ExecuteTime": {
     "end_time": "2023-04-09T06:31:37.051417Z",
     "start_time": "2023-04-09T06:31:36.973998Z"
    }
   },
   "outputs": [
    {
     "data": {
      "text/html": [
       "<div>\n",
       "<style scoped>\n",
       "    .dataframe tbody tr th:only-of-type {\n",
       "        vertical-align: middle;\n",
       "    }\n",
       "\n",
       "    .dataframe tbody tr th {\n",
       "        vertical-align: top;\n",
       "    }\n",
       "\n",
       "    .dataframe thead th {\n",
       "        text-align: right;\n",
       "    }\n",
       "</style>\n",
       "<table border=\"1\" class=\"dataframe\">\n",
       "  <thead>\n",
       "    <tr style=\"text-align: right;\">\n",
       "      <th></th>\n",
       "      <th>model_name</th>\n",
       "      <th>model_uid</th>\n",
       "      <th>training_time</th>\n",
       "      <th>training_date</th>\n",
       "      <th>performance</th>\n",
       "      <th>f1_score_avg</th>\n",
       "      <th>data_configurations</th>\n",
       "    </tr>\n",
       "  </thead>\n",
       "  <tbody>\n",
       "    <tr>\n",
       "      <th>0</th>\n",
       "      <td>baseline_model-RandomForestClassifier</td>\n",
       "      <td>5dbfa206a77061466bd9f994810ef967</td>\n",
       "      <td>1.030421</td>\n",
       "      <td>2023-04-09 13:31:31.690548</td>\n",
       "      <td>{'0': {'precision': 0.865158371040724, 'recall...</td>\n",
       "      <td>0.835501</td>\n",
       "      <td>oversampling</td>\n",
       "    </tr>\n",
       "    <tr>\n",
       "      <th>1</th>\n",
       "      <td>baseline_model-RandomForestClassifier</td>\n",
       "      <td>b19070484136de43e7b810ef043a0b47</td>\n",
       "      <td>0.787562</td>\n",
       "      <td>2023-04-09 13:31:34.643479</td>\n",
       "      <td>{'0': {'precision': 0.860909090909091, 'recall...</td>\n",
       "      <td>0.829689</td>\n",
       "      <td>smote</td>\n",
       "    </tr>\n",
       "    <tr>\n",
       "      <th>2</th>\n",
       "      <td>baseline_model-RandomForestClassifier</td>\n",
       "      <td>809bbc6b9ccc0fc3bb7d6aa26609b029</td>\n",
       "      <td>0.833991</td>\n",
       "      <td>2023-04-09 13:31:28.729670</td>\n",
       "      <td>{'0': {'precision': 0.8563685636856369, 'recal...</td>\n",
       "      <td>0.827426</td>\n",
       "      <td>undersampling</td>\n",
       "    </tr>\n",
       "    <tr>\n",
       "      <th>3</th>\n",
       "      <td>baseline_model-XGBClassifier</td>\n",
       "      <td>ca8c4e7cb1d47520fbc0cab822631daf</td>\n",
       "      <td>0.901862</td>\n",
       "      <td>2023-04-09 13:31:35.749003</td>\n",
       "      <td>{'0': {'precision': 0.8567518248175182, 'recal...</td>\n",
       "      <td>0.824322</td>\n",
       "      <td>smote</td>\n",
       "    </tr>\n",
       "    <tr>\n",
       "      <th>4</th>\n",
       "      <td>baseline_model-XGBClassifier</td>\n",
       "      <td>cf5186c9d28ec4e5092a983e36597d06</td>\n",
       "      <td>1.038832</td>\n",
       "      <td>2023-04-09 13:31:29.855856</td>\n",
       "      <td>{'0': {'precision': 0.8567518248175182, 'recal...</td>\n",
       "      <td>0.824322</td>\n",
       "      <td>undersampling</td>\n",
       "    </tr>\n",
       "    <tr>\n",
       "      <th>5</th>\n",
       "      <td>baseline_model-XGBClassifier</td>\n",
       "      <td>6d1d4aff85bc1fe3fe8e37e4caec767a</td>\n",
       "      <td>1.155388</td>\n",
       "      <td>2023-04-09 13:31:33.013269</td>\n",
       "      <td>{'0': {'precision': 0.8567518248175182, 'recal...</td>\n",
       "      <td>0.824322</td>\n",
       "      <td>oversampling</td>\n",
       "    </tr>\n",
       "    <tr>\n",
       "      <th>6</th>\n",
       "      <td>baseline_model-LogisticRegression</td>\n",
       "      <td>dc54f227392b5c8747a12a1fa7663fec</td>\n",
       "      <td>0.104610</td>\n",
       "      <td>2023-04-09 13:31:34.453203</td>\n",
       "      <td>{'0': {'precision': 0.8106255355612683, 'recal...</td>\n",
       "      <td>0.798354</td>\n",
       "      <td>smote</td>\n",
       "    </tr>\n",
       "    <tr>\n",
       "      <th>7</th>\n",
       "      <td>baseline_model-LogisticRegression</td>\n",
       "      <td>87103db946c09c881474b93d6221a5d3</td>\n",
       "      <td>0.199152</td>\n",
       "      <td>2023-04-09 13:31:28.440427</td>\n",
       "      <td>{'0': {'precision': 0.8106255355612683, 'recal...</td>\n",
       "      <td>0.798354</td>\n",
       "      <td>undersampling</td>\n",
       "    </tr>\n",
       "    <tr>\n",
       "      <th>8</th>\n",
       "      <td>baseline_model-LogisticRegression</td>\n",
       "      <td>6cc74c00bc9903c04bd8da02cf6d5691</td>\n",
       "      <td>0.212778</td>\n",
       "      <td>2023-04-09 13:31:31.242912</td>\n",
       "      <td>{'0': {'precision': 0.8106255355612683, 'recal...</td>\n",
       "      <td>0.798354</td>\n",
       "      <td>oversampling</td>\n",
       "    </tr>\n",
       "    <tr>\n",
       "      <th>9</th>\n",
       "      <td>baseline_model-DecisionTreeClassifier</td>\n",
       "      <td>fe6ace821d4173465c1c2f0a5cdde0ab</td>\n",
       "      <td>0.057961</td>\n",
       "      <td>2023-04-09 13:31:34.571221</td>\n",
       "      <td>{'0': {'precision': 0.7774822695035462, 'recal...</td>\n",
       "      <td>0.754239</td>\n",
       "      <td>smote</td>\n",
       "    </tr>\n",
       "    <tr>\n",
       "      <th>10</th>\n",
       "      <td>baseline_model-KNeighborsClassifier</td>\n",
       "      <td>5a5b17eb927d81e3b7eeeb1f99e8fe96</td>\n",
       "      <td>0.003713</td>\n",
       "      <td>2023-04-09 13:31:29.656770</td>\n",
       "      <td>{'0': {'precision': 0.7709251101321586, 'recal...</td>\n",
       "      <td>0.749254</td>\n",
       "      <td>undersampling</td>\n",
       "    </tr>\n",
       "    <tr>\n",
       "      <th>11</th>\n",
       "      <td>baseline_model-KNeighborsClassifier</td>\n",
       "      <td>c9ed2ecd780e81af0b0506fc782f14cd</td>\n",
       "      <td>0.004358</td>\n",
       "      <td>2023-04-09 13:31:35.521291</td>\n",
       "      <td>{'0': {'precision': 0.7709251101321586, 'recal...</td>\n",
       "      <td>0.749254</td>\n",
       "      <td>smote</td>\n",
       "    </tr>\n",
       "    <tr>\n",
       "      <th>12</th>\n",
       "      <td>baseline_model-KNeighborsClassifier</td>\n",
       "      <td>978c7fb892cb6d057e01d84152172fa4</td>\n",
       "      <td>0.004401</td>\n",
       "      <td>2023-04-09 13:31:32.790126</td>\n",
       "      <td>{'0': {'precision': 0.7709251101321586, 'recal...</td>\n",
       "      <td>0.749254</td>\n",
       "      <td>oversampling</td>\n",
       "    </tr>\n",
       "    <tr>\n",
       "      <th>13</th>\n",
       "      <td>baseline_model-DecisionTreeClassifier</td>\n",
       "      <td>35d8e2e4fd7e3f7855a40b195cd33b06</td>\n",
       "      <td>0.167950</td>\n",
       "      <td>2023-04-09 13:31:31.508555</td>\n",
       "      <td>{'0': {'precision': 0.7721631205673759, 'recal...</td>\n",
       "      <td>0.748857</td>\n",
       "      <td>oversampling</td>\n",
       "    </tr>\n",
       "    <tr>\n",
       "      <th>14</th>\n",
       "      <td>baseline_model-DecisionTreeClassifier</td>\n",
       "      <td>c11e3e575c36d30b489a6d95fead9697</td>\n",
       "      <td>0.051933</td>\n",
       "      <td>2023-04-09 13:31:28.660319</td>\n",
       "      <td>{'0': {'precision': 0.7721179624664879, 'recal...</td>\n",
       "      <td>0.746675</td>\n",
       "      <td>undersampling</td>\n",
       "    </tr>\n",
       "  </tbody>\n",
       "</table>\n",
       "</div>"
      ],
      "text/plain": [
       "                               model_name                         model_uid  \\\n",
       "0   baseline_model-RandomForestClassifier  5dbfa206a77061466bd9f994810ef967   \n",
       "1   baseline_model-RandomForestClassifier  b19070484136de43e7b810ef043a0b47   \n",
       "2   baseline_model-RandomForestClassifier  809bbc6b9ccc0fc3bb7d6aa26609b029   \n",
       "3            baseline_model-XGBClassifier  ca8c4e7cb1d47520fbc0cab822631daf   \n",
       "4            baseline_model-XGBClassifier  cf5186c9d28ec4e5092a983e36597d06   \n",
       "5            baseline_model-XGBClassifier  6d1d4aff85bc1fe3fe8e37e4caec767a   \n",
       "6       baseline_model-LogisticRegression  dc54f227392b5c8747a12a1fa7663fec   \n",
       "7       baseline_model-LogisticRegression  87103db946c09c881474b93d6221a5d3   \n",
       "8       baseline_model-LogisticRegression  6cc74c00bc9903c04bd8da02cf6d5691   \n",
       "9   baseline_model-DecisionTreeClassifier  fe6ace821d4173465c1c2f0a5cdde0ab   \n",
       "10    baseline_model-KNeighborsClassifier  5a5b17eb927d81e3b7eeeb1f99e8fe96   \n",
       "11    baseline_model-KNeighborsClassifier  c9ed2ecd780e81af0b0506fc782f14cd   \n",
       "12    baseline_model-KNeighborsClassifier  978c7fb892cb6d057e01d84152172fa4   \n",
       "13  baseline_model-DecisionTreeClassifier  35d8e2e4fd7e3f7855a40b195cd33b06   \n",
       "14  baseline_model-DecisionTreeClassifier  c11e3e575c36d30b489a6d95fead9697   \n",
       "\n",
       "    training_time               training_date  \\\n",
       "0        1.030421  2023-04-09 13:31:31.690548   \n",
       "1        0.787562  2023-04-09 13:31:34.643479   \n",
       "2        0.833991  2023-04-09 13:31:28.729670   \n",
       "3        0.901862  2023-04-09 13:31:35.749003   \n",
       "4        1.038832  2023-04-09 13:31:29.855856   \n",
       "5        1.155388  2023-04-09 13:31:33.013269   \n",
       "6        0.104610  2023-04-09 13:31:34.453203   \n",
       "7        0.199152  2023-04-09 13:31:28.440427   \n",
       "8        0.212778  2023-04-09 13:31:31.242912   \n",
       "9        0.057961  2023-04-09 13:31:34.571221   \n",
       "10       0.003713  2023-04-09 13:31:29.656770   \n",
       "11       0.004358  2023-04-09 13:31:35.521291   \n",
       "12       0.004401  2023-04-09 13:31:32.790126   \n",
       "13       0.167950  2023-04-09 13:31:31.508555   \n",
       "14       0.051933  2023-04-09 13:31:28.660319   \n",
       "\n",
       "                                          performance  f1_score_avg  \\\n",
       "0   {'0': {'precision': 0.865158371040724, 'recall...      0.835501   \n",
       "1   {'0': {'precision': 0.860909090909091, 'recall...      0.829689   \n",
       "2   {'0': {'precision': 0.8563685636856369, 'recal...      0.827426   \n",
       "3   {'0': {'precision': 0.8567518248175182, 'recal...      0.824322   \n",
       "4   {'0': {'precision': 0.8567518248175182, 'recal...      0.824322   \n",
       "5   {'0': {'precision': 0.8567518248175182, 'recal...      0.824322   \n",
       "6   {'0': {'precision': 0.8106255355612683, 'recal...      0.798354   \n",
       "7   {'0': {'precision': 0.8106255355612683, 'recal...      0.798354   \n",
       "8   {'0': {'precision': 0.8106255355612683, 'recal...      0.798354   \n",
       "9   {'0': {'precision': 0.7774822695035462, 'recal...      0.754239   \n",
       "10  {'0': {'precision': 0.7709251101321586, 'recal...      0.749254   \n",
       "11  {'0': {'precision': 0.7709251101321586, 'recal...      0.749254   \n",
       "12  {'0': {'precision': 0.7709251101321586, 'recal...      0.749254   \n",
       "13  {'0': {'precision': 0.7721631205673759, 'recal...      0.748857   \n",
       "14  {'0': {'precision': 0.7721179624664879, 'recal...      0.746675   \n",
       "\n",
       "   data_configurations  \n",
       "0         oversampling  \n",
       "1                smote  \n",
       "2        undersampling  \n",
       "3                smote  \n",
       "4        undersampling  \n",
       "5         oversampling  \n",
       "6                smote  \n",
       "7        undersampling  \n",
       "8         oversampling  \n",
       "9                smote  \n",
       "10       undersampling  \n",
       "11               smote  \n",
       "12        oversampling  \n",
       "13        oversampling  \n",
       "14       undersampling  "
      ]
     },
     "execution_count": 89,
     "metadata": {},
     "output_type": "execute_result"
    }
   ],
   "source": [
    "training_res"
   ]
  },
  {
   "cell_type": "code",
   "execution_count": 90,
   "id": "49e4ba65",
   "metadata": {
    "ExecuteTime": {
     "end_time": "2023-04-09T06:31:37.071415Z",
     "start_time": "2023-04-09T06:31:37.060435Z"
    }
   },
   "outputs": [],
   "source": [
    "def get_best_model(training_log_df, list_of_model):\n",
    "    model_object = None\n",
    "\n",
    "    # pick the highest one\n",
    "    best_model_info = training_log_df.sort_values([\"f1_score_avg\", \"training_time\"], ascending = [False, True]).iloc[0]\n",
    "    \n",
    "    for configuration_data in list_of_model:\n",
    "        for model_data in list_of_model[configuration_data]:\n",
    "            if model_data[\"model_uid\"] == best_model_info[\"model_uid\"]:\n",
    "                model_object = model_data[\"model_object\"]\n",
    "                break\n",
    "    \n",
    "    if model_object == None:\n",
    "        raise RuntimeError(\"The best model not found in your list of model.\")\n",
    "    \n",
    "    return model_object\n",
    "    "
   ]
  },
  {
   "cell_type": "code",
   "execution_count": 91,
   "id": "45a86615",
   "metadata": {
    "ExecuteTime": {
     "end_time": "2023-04-09T06:31:37.086299Z",
     "start_time": "2023-04-09T06:31:37.076117Z"
    }
   },
   "outputs": [],
   "source": [
    "model = get_best_model(training_res, list_of_model)"
   ]
  },
  {
   "cell_type": "code",
   "execution_count": 92,
   "id": "1f8ecba2",
   "metadata": {
    "ExecuteTime": {
     "end_time": "2023-04-09T06:31:37.126507Z",
     "start_time": "2023-04-09T06:31:37.096336Z"
    }
   },
   "outputs": [
    {
     "data": {
      "text/html": [
       "<style>#sk-container-id-1 {color: black;background-color: white;}#sk-container-id-1 pre{padding: 0;}#sk-container-id-1 div.sk-toggleable {background-color: white;}#sk-container-id-1 label.sk-toggleable__label {cursor: pointer;display: block;width: 100%;margin-bottom: 0;padding: 0.3em;box-sizing: border-box;text-align: center;}#sk-container-id-1 label.sk-toggleable__label-arrow:before {content: \"▸\";float: left;margin-right: 0.25em;color: #696969;}#sk-container-id-1 label.sk-toggleable__label-arrow:hover:before {color: black;}#sk-container-id-1 div.sk-estimator:hover label.sk-toggleable__label-arrow:before {color: black;}#sk-container-id-1 div.sk-toggleable__content {max-height: 0;max-width: 0;overflow: hidden;text-align: left;background-color: #f0f8ff;}#sk-container-id-1 div.sk-toggleable__content pre {margin: 0.2em;color: black;border-radius: 0.25em;background-color: #f0f8ff;}#sk-container-id-1 input.sk-toggleable__control:checked~div.sk-toggleable__content {max-height: 200px;max-width: 100%;overflow: auto;}#sk-container-id-1 input.sk-toggleable__control:checked~label.sk-toggleable__label-arrow:before {content: \"▾\";}#sk-container-id-1 div.sk-estimator input.sk-toggleable__control:checked~label.sk-toggleable__label {background-color: #d4ebff;}#sk-container-id-1 div.sk-label input.sk-toggleable__control:checked~label.sk-toggleable__label {background-color: #d4ebff;}#sk-container-id-1 input.sk-hidden--visually {border: 0;clip: rect(1px 1px 1px 1px);clip: rect(1px, 1px, 1px, 1px);height: 1px;margin: -1px;overflow: hidden;padding: 0;position: absolute;width: 1px;}#sk-container-id-1 div.sk-estimator {font-family: monospace;background-color: #f0f8ff;border: 1px dotted black;border-radius: 0.25em;box-sizing: border-box;margin-bottom: 0.5em;}#sk-container-id-1 div.sk-estimator:hover {background-color: #d4ebff;}#sk-container-id-1 div.sk-parallel-item::after {content: \"\";width: 100%;border-bottom: 1px solid gray;flex-grow: 1;}#sk-container-id-1 div.sk-label:hover label.sk-toggleable__label {background-color: #d4ebff;}#sk-container-id-1 div.sk-serial::before {content: \"\";position: absolute;border-left: 1px solid gray;box-sizing: border-box;top: 0;bottom: 0;left: 50%;z-index: 0;}#sk-container-id-1 div.sk-serial {display: flex;flex-direction: column;align-items: center;background-color: white;padding-right: 0.2em;padding-left: 0.2em;position: relative;}#sk-container-id-1 div.sk-item {position: relative;z-index: 1;}#sk-container-id-1 div.sk-parallel {display: flex;align-items: stretch;justify-content: center;background-color: white;position: relative;}#sk-container-id-1 div.sk-item::before, #sk-container-id-1 div.sk-parallel-item::before {content: \"\";position: absolute;border-left: 1px solid gray;box-sizing: border-box;top: 0;bottom: 0;left: 50%;z-index: -1;}#sk-container-id-1 div.sk-parallel-item {display: flex;flex-direction: column;z-index: 1;position: relative;background-color: white;}#sk-container-id-1 div.sk-parallel-item:first-child::after {align-self: flex-end;width: 50%;}#sk-container-id-1 div.sk-parallel-item:last-child::after {align-self: flex-start;width: 50%;}#sk-container-id-1 div.sk-parallel-item:only-child::after {width: 0;}#sk-container-id-1 div.sk-dashed-wrapped {border: 1px dashed gray;margin: 0 0.4em 0.5em 0.4em;box-sizing: border-box;padding-bottom: 0.4em;background-color: white;}#sk-container-id-1 div.sk-label label {font-family: monospace;font-weight: bold;display: inline-block;line-height: 1.2em;}#sk-container-id-1 div.sk-label-container {text-align: center;}#sk-container-id-1 div.sk-container {/* jupyter's `normalize.less` sets `[hidden] { display: none; }` but bootstrap.min.css set `[hidden] { display: none !important; }` so we also need the `!important` here to be able to override the default hidden behavior on the sphinx rendered scikit-learn.org. See: https://github.com/scikit-learn/scikit-learn/issues/21755 */display: inline-block !important;position: relative;}#sk-container-id-1 div.sk-text-repr-fallback {display: none;}</style><div id=\"sk-container-id-1\" class=\"sk-top-container\"><div class=\"sk-text-repr-fallback\"><pre>RandomForestClassifier()</pre><b>In a Jupyter environment, please rerun this cell to show the HTML representation or trust the notebook. <br />On GitHub, the HTML representation is unable to render, please try loading this page with nbviewer.org.</b></div><div class=\"sk-container\" hidden><div class=\"sk-item\"><div class=\"sk-estimator sk-toggleable\"><input class=\"sk-toggleable__control sk-hidden--visually\" id=\"sk-estimator-id-1\" type=\"checkbox\" checked><label for=\"sk-estimator-id-1\" class=\"sk-toggleable__label sk-toggleable__label-arrow\">RandomForestClassifier</label><div class=\"sk-toggleable__content\"><pre>RandomForestClassifier()</pre></div></div></div></div></div>"
      ],
      "text/plain": [
       "RandomForestClassifier()"
      ]
     },
     "execution_count": 92,
     "metadata": {},
     "output_type": "execute_result"
    }
   ],
   "source": [
    "model"
   ]
  },
  {
   "cell_type": "code",
   "execution_count": 93,
   "id": "5436e34d",
   "metadata": {
    "ExecuteTime": {
     "end_time": "2023-04-09T06:31:37.389124Z",
     "start_time": "2023-04-09T06:31:37.136180Z"
    }
   },
   "outputs": [
    {
     "data": {
      "text/plain": [
       "['model/model.pkl']"
      ]
     },
     "execution_count": 93,
     "metadata": {},
     "output_type": "execute_result"
    }
   ],
   "source": [
    "joblib.dump(model, \"model/model.pkl\")"
   ]
  },
  {
   "cell_type": "markdown",
   "id": "3a114414",
   "metadata": {},
   "source": [
    "### Hyperparameter Tuning"
   ]
  },
  {
   "cell_type": "code",
   "execution_count": 94,
   "id": "4075757c",
   "metadata": {
    "ExecuteTime": {
     "end_time": "2023-04-09T06:31:37.400798Z",
     "start_time": "2023-04-09T06:31:37.392589Z"
    }
   },
   "outputs": [],
   "source": [
    "params_rf = {\n",
    "    \"n_estimators\" : [5,7,12,21],\n",
    "    \"max_depth\" : [2,3,6,16,17,30],\n",
    "    \"min_samples_split\" : [4,6,22,29],\n",
    "    \"min_samples_leaf\" : [6,7,12,28,32]\n",
    "}"
   ]
  },
  {
   "cell_type": "code",
   "execution_count": 95,
   "id": "fb41ea5b",
   "metadata": {
    "ExecuteTime": {
     "end_time": "2023-04-09T06:31:37.415152Z",
     "start_time": "2023-04-09T06:31:37.407910Z"
    }
   },
   "outputs": [],
   "source": [
    "rf_param = GridSearchCV(RandomForestClassifier(),\n",
    "                        params_rf)"
   ]
  },
  {
   "cell_type": "code",
   "execution_count": 96,
   "id": "cc31e635",
   "metadata": {
    "ExecuteTime": {
     "end_time": "2023-04-09T06:31:37.436825Z",
     "start_time": "2023-04-09T06:31:37.419796Z"
    }
   },
   "outputs": [],
   "source": [
    "list_of_model[\"undersampling\"].append({\"model_name\": rf_param.__class__.__name__ + \"-\" + rf_param.estimator.__class__.__name__, \"model_object\": copy.deepcopy(rf_param), \"model_uid\": \"\"})\n",
    "list_of_model[\"oversampling\"].append({\"model_name\": rf_param.__class__.__name__ + \"-\" + rf_param.estimator.__class__.__name__, \"model_object\": copy.deepcopy(rf_param), \"model_uid\": \"\"})\n",
    "list_of_model[\"smote\"].append({\"model_name\": rf_param.__class__.__name__ + \"-\" + rf_param.estimator.__class__.__name__, \"model_object\": copy.deepcopy(rf_param), \"model_uid\": \"\"})"
   ]
  },
  {
   "cell_type": "code",
   "execution_count": 97,
   "id": "f4978f4c",
   "metadata": {
    "ExecuteTime": {
     "end_time": "2023-04-09T06:33:53.119862Z",
     "start_time": "2023-04-09T06:31:37.441602Z"
    },
    "scrolled": true
   },
   "outputs": [
    {
     "name": "stderr",
     "output_type": "stream",
     "text": [
      "100%|████████████████████████████████████████████| 1/1 [02:15<00:00, 135.66s/it]\n"
     ]
    }
   ],
   "source": [
    "training_log, list_of_model_sm_hyp = train_eval_model(\n",
    "    [list_of_model[\"smote\"][-1]], # newest\n",
    "    \"hyperparams\",\n",
    "    x_sm,\n",
    "    y_sm,\n",
    "    \"smote\",\n",
    "    x_valid,\n",
    "    y_valid,\n",
    "    \"log/training_log.json\"\n",
    ")"
   ]
  },
  {
   "cell_type": "code",
   "execution_count": 99,
   "id": "1a11088f",
   "metadata": {
    "ExecuteTime": {
     "end_time": "2023-04-09T06:34:28.378410Z",
     "start_time": "2023-04-09T06:34:28.362644Z"
    }
   },
   "outputs": [],
   "source": [
    "list_of_model[\"smote\"][-1] = copy.deepcopy(list_of_model_sm_hyp[0])"
   ]
  },
  {
   "cell_type": "code",
   "execution_count": 100,
   "id": "4976fdad",
   "metadata": {
    "ExecuteTime": {
     "end_time": "2023-04-09T06:34:30.196880Z",
     "start_time": "2023-04-09T06:34:30.184625Z"
    }
   },
   "outputs": [
    {
     "data": {
      "text/plain": [
       "{'model_name': 'GridSearchCV-RandomForestClassifier',\n",
       " 'model_object': GridSearchCV(estimator=RandomForestClassifier(),\n",
       "              param_grid={'max_depth': [2, 3, 6, 16, 17, 30],\n",
       "                          'min_samples_leaf': [6, 7, 12, 28, 32],\n",
       "                          'min_samples_split': [4, 6, 22, 29],\n",
       "                          'n_estimators': [5, 7, 12, 21]}),\n",
       " 'model_uid': '7c7faec9465ed52e563eea60c278aa8b'}"
      ]
     },
     "execution_count": 100,
     "metadata": {},
     "output_type": "execute_result"
    }
   ],
   "source": [
    "list_of_model[\"smote\"][-1]"
   ]
  },
  {
   "cell_type": "code",
   "execution_count": 101,
   "id": "b3120e0d",
   "metadata": {
    "ExecuteTime": {
     "end_time": "2023-04-09T06:34:31.053392Z",
     "start_time": "2023-04-09T06:34:30.955776Z"
    }
   },
   "outputs": [
    {
     "name": "stderr",
     "output_type": "stream",
     "text": [
      "100%|████████████████████████████████████████████| 4/4 [00:00<00:00, 346.83it/s]\n"
     ]
    },
    {
     "data": {
      "text/html": [
       "<div>\n",
       "<style scoped>\n",
       "    .dataframe tbody tr th:only-of-type {\n",
       "        vertical-align: middle;\n",
       "    }\n",
       "\n",
       "    .dataframe tbody tr th {\n",
       "        vertical-align: top;\n",
       "    }\n",
       "\n",
       "    .dataframe thead th {\n",
       "        text-align: right;\n",
       "    }\n",
       "</style>\n",
       "<table border=\"1\" class=\"dataframe\">\n",
       "  <thead>\n",
       "    <tr style=\"text-align: right;\">\n",
       "      <th></th>\n",
       "      <th>model_name</th>\n",
       "      <th>model_uid</th>\n",
       "      <th>training_time</th>\n",
       "      <th>training_date</th>\n",
       "      <th>performance</th>\n",
       "      <th>f1_score_avg</th>\n",
       "      <th>data_configurations</th>\n",
       "    </tr>\n",
       "  </thead>\n",
       "  <tbody>\n",
       "    <tr>\n",
       "      <th>0</th>\n",
       "      <td>baseline_model-RandomForestClassifier</td>\n",
       "      <td>5dbfa206a77061466bd9f994810ef967</td>\n",
       "      <td>1.030421</td>\n",
       "      <td>2023-04-09 13:31:31.690548</td>\n",
       "      <td>{'0': {'precision': 0.865158371040724, 'recall...</td>\n",
       "      <td>0.835501</td>\n",
       "      <td>oversampling</td>\n",
       "    </tr>\n",
       "    <tr>\n",
       "      <th>1</th>\n",
       "      <td>hyperparams-GridSearchCV-RandomForestClassifier</td>\n",
       "      <td>7c7faec9465ed52e563eea60c278aa8b</td>\n",
       "      <td>135.637004</td>\n",
       "      <td>2023-04-09 13:31:37.454950</td>\n",
       "      <td>{'0': {'precision': 0.8656307129798904, 'recal...</td>\n",
       "      <td>0.832394</td>\n",
       "      <td>smote</td>\n",
       "    </tr>\n",
       "    <tr>\n",
       "      <th>2</th>\n",
       "      <td>baseline_model-RandomForestClassifier</td>\n",
       "      <td>b19070484136de43e7b810ef043a0b47</td>\n",
       "      <td>0.787562</td>\n",
       "      <td>2023-04-09 13:31:34.643479</td>\n",
       "      <td>{'0': {'precision': 0.860909090909091, 'recall...</td>\n",
       "      <td>0.829689</td>\n",
       "      <td>smote</td>\n",
       "    </tr>\n",
       "    <tr>\n",
       "      <th>3</th>\n",
       "      <td>baseline_model-RandomForestClassifier</td>\n",
       "      <td>809bbc6b9ccc0fc3bb7d6aa26609b029</td>\n",
       "      <td>0.833991</td>\n",
       "      <td>2023-04-09 13:31:28.729670</td>\n",
       "      <td>{'0': {'precision': 0.8563685636856369, 'recal...</td>\n",
       "      <td>0.827426</td>\n",
       "      <td>undersampling</td>\n",
       "    </tr>\n",
       "    <tr>\n",
       "      <th>4</th>\n",
       "      <td>baseline_model-XGBClassifier</td>\n",
       "      <td>ca8c4e7cb1d47520fbc0cab822631daf</td>\n",
       "      <td>0.901862</td>\n",
       "      <td>2023-04-09 13:31:35.749003</td>\n",
       "      <td>{'0': {'precision': 0.8567518248175182, 'recal...</td>\n",
       "      <td>0.824322</td>\n",
       "      <td>smote</td>\n",
       "    </tr>\n",
       "    <tr>\n",
       "      <th>5</th>\n",
       "      <td>baseline_model-XGBClassifier</td>\n",
       "      <td>cf5186c9d28ec4e5092a983e36597d06</td>\n",
       "      <td>1.038832</td>\n",
       "      <td>2023-04-09 13:31:29.855856</td>\n",
       "      <td>{'0': {'precision': 0.8567518248175182, 'recal...</td>\n",
       "      <td>0.824322</td>\n",
       "      <td>undersampling</td>\n",
       "    </tr>\n",
       "    <tr>\n",
       "      <th>6</th>\n",
       "      <td>baseline_model-XGBClassifier</td>\n",
       "      <td>6d1d4aff85bc1fe3fe8e37e4caec767a</td>\n",
       "      <td>1.155388</td>\n",
       "      <td>2023-04-09 13:31:33.013269</td>\n",
       "      <td>{'0': {'precision': 0.8567518248175182, 'recal...</td>\n",
       "      <td>0.824322</td>\n",
       "      <td>oversampling</td>\n",
       "    </tr>\n",
       "    <tr>\n",
       "      <th>7</th>\n",
       "      <td>baseline_model-LogisticRegression</td>\n",
       "      <td>dc54f227392b5c8747a12a1fa7663fec</td>\n",
       "      <td>0.104610</td>\n",
       "      <td>2023-04-09 13:31:34.453203</td>\n",
       "      <td>{'0': {'precision': 0.8106255355612683, 'recal...</td>\n",
       "      <td>0.798354</td>\n",
       "      <td>smote</td>\n",
       "    </tr>\n",
       "    <tr>\n",
       "      <th>8</th>\n",
       "      <td>baseline_model-LogisticRegression</td>\n",
       "      <td>87103db946c09c881474b93d6221a5d3</td>\n",
       "      <td>0.199152</td>\n",
       "      <td>2023-04-09 13:31:28.440427</td>\n",
       "      <td>{'0': {'precision': 0.8106255355612683, 'recal...</td>\n",
       "      <td>0.798354</td>\n",
       "      <td>undersampling</td>\n",
       "    </tr>\n",
       "    <tr>\n",
       "      <th>9</th>\n",
       "      <td>baseline_model-LogisticRegression</td>\n",
       "      <td>6cc74c00bc9903c04bd8da02cf6d5691</td>\n",
       "      <td>0.212778</td>\n",
       "      <td>2023-04-09 13:31:31.242912</td>\n",
       "      <td>{'0': {'precision': 0.8106255355612683, 'recal...</td>\n",
       "      <td>0.798354</td>\n",
       "      <td>oversampling</td>\n",
       "    </tr>\n",
       "    <tr>\n",
       "      <th>10</th>\n",
       "      <td>baseline_model-DecisionTreeClassifier</td>\n",
       "      <td>fe6ace821d4173465c1c2f0a5cdde0ab</td>\n",
       "      <td>0.057961</td>\n",
       "      <td>2023-04-09 13:31:34.571221</td>\n",
       "      <td>{'0': {'precision': 0.7774822695035462, 'recal...</td>\n",
       "      <td>0.754239</td>\n",
       "      <td>smote</td>\n",
       "    </tr>\n",
       "    <tr>\n",
       "      <th>11</th>\n",
       "      <td>baseline_model-KNeighborsClassifier</td>\n",
       "      <td>5a5b17eb927d81e3b7eeeb1f99e8fe96</td>\n",
       "      <td>0.003713</td>\n",
       "      <td>2023-04-09 13:31:29.656770</td>\n",
       "      <td>{'0': {'precision': 0.7709251101321586, 'recal...</td>\n",
       "      <td>0.749254</td>\n",
       "      <td>undersampling</td>\n",
       "    </tr>\n",
       "    <tr>\n",
       "      <th>12</th>\n",
       "      <td>baseline_model-KNeighborsClassifier</td>\n",
       "      <td>c9ed2ecd780e81af0b0506fc782f14cd</td>\n",
       "      <td>0.004358</td>\n",
       "      <td>2023-04-09 13:31:35.521291</td>\n",
       "      <td>{'0': {'precision': 0.7709251101321586, 'recal...</td>\n",
       "      <td>0.749254</td>\n",
       "      <td>smote</td>\n",
       "    </tr>\n",
       "    <tr>\n",
       "      <th>13</th>\n",
       "      <td>baseline_model-KNeighborsClassifier</td>\n",
       "      <td>978c7fb892cb6d057e01d84152172fa4</td>\n",
       "      <td>0.004401</td>\n",
       "      <td>2023-04-09 13:31:32.790126</td>\n",
       "      <td>{'0': {'precision': 0.7709251101321586, 'recal...</td>\n",
       "      <td>0.749254</td>\n",
       "      <td>oversampling</td>\n",
       "    </tr>\n",
       "    <tr>\n",
       "      <th>14</th>\n",
       "      <td>baseline_model-DecisionTreeClassifier</td>\n",
       "      <td>35d8e2e4fd7e3f7855a40b195cd33b06</td>\n",
       "      <td>0.167950</td>\n",
       "      <td>2023-04-09 13:31:31.508555</td>\n",
       "      <td>{'0': {'precision': 0.7721631205673759, 'recal...</td>\n",
       "      <td>0.748857</td>\n",
       "      <td>oversampling</td>\n",
       "    </tr>\n",
       "    <tr>\n",
       "      <th>15</th>\n",
       "      <td>baseline_model-DecisionTreeClassifier</td>\n",
       "      <td>c11e3e575c36d30b489a6d95fead9697</td>\n",
       "      <td>0.051933</td>\n",
       "      <td>2023-04-09 13:31:28.660319</td>\n",
       "      <td>{'0': {'precision': 0.7721179624664879, 'recal...</td>\n",
       "      <td>0.746675</td>\n",
       "      <td>undersampling</td>\n",
       "    </tr>\n",
       "  </tbody>\n",
       "</table>\n",
       "</div>"
      ],
      "text/plain": [
       "                                         model_name  \\\n",
       "0             baseline_model-RandomForestClassifier   \n",
       "1   hyperparams-GridSearchCV-RandomForestClassifier   \n",
       "2             baseline_model-RandomForestClassifier   \n",
       "3             baseline_model-RandomForestClassifier   \n",
       "4                      baseline_model-XGBClassifier   \n",
       "5                      baseline_model-XGBClassifier   \n",
       "6                      baseline_model-XGBClassifier   \n",
       "7                 baseline_model-LogisticRegression   \n",
       "8                 baseline_model-LogisticRegression   \n",
       "9                 baseline_model-LogisticRegression   \n",
       "10            baseline_model-DecisionTreeClassifier   \n",
       "11              baseline_model-KNeighborsClassifier   \n",
       "12              baseline_model-KNeighborsClassifier   \n",
       "13              baseline_model-KNeighborsClassifier   \n",
       "14            baseline_model-DecisionTreeClassifier   \n",
       "15            baseline_model-DecisionTreeClassifier   \n",
       "\n",
       "                           model_uid  training_time  \\\n",
       "0   5dbfa206a77061466bd9f994810ef967       1.030421   \n",
       "1   7c7faec9465ed52e563eea60c278aa8b     135.637004   \n",
       "2   b19070484136de43e7b810ef043a0b47       0.787562   \n",
       "3   809bbc6b9ccc0fc3bb7d6aa26609b029       0.833991   \n",
       "4   ca8c4e7cb1d47520fbc0cab822631daf       0.901862   \n",
       "5   cf5186c9d28ec4e5092a983e36597d06       1.038832   \n",
       "6   6d1d4aff85bc1fe3fe8e37e4caec767a       1.155388   \n",
       "7   dc54f227392b5c8747a12a1fa7663fec       0.104610   \n",
       "8   87103db946c09c881474b93d6221a5d3       0.199152   \n",
       "9   6cc74c00bc9903c04bd8da02cf6d5691       0.212778   \n",
       "10  fe6ace821d4173465c1c2f0a5cdde0ab       0.057961   \n",
       "11  5a5b17eb927d81e3b7eeeb1f99e8fe96       0.003713   \n",
       "12  c9ed2ecd780e81af0b0506fc782f14cd       0.004358   \n",
       "13  978c7fb892cb6d057e01d84152172fa4       0.004401   \n",
       "14  35d8e2e4fd7e3f7855a40b195cd33b06       0.167950   \n",
       "15  c11e3e575c36d30b489a6d95fead9697       0.051933   \n",
       "\n",
       "                 training_date  \\\n",
       "0   2023-04-09 13:31:31.690548   \n",
       "1   2023-04-09 13:31:37.454950   \n",
       "2   2023-04-09 13:31:34.643479   \n",
       "3   2023-04-09 13:31:28.729670   \n",
       "4   2023-04-09 13:31:35.749003   \n",
       "5   2023-04-09 13:31:29.855856   \n",
       "6   2023-04-09 13:31:33.013269   \n",
       "7   2023-04-09 13:31:34.453203   \n",
       "8   2023-04-09 13:31:28.440427   \n",
       "9   2023-04-09 13:31:31.242912   \n",
       "10  2023-04-09 13:31:34.571221   \n",
       "11  2023-04-09 13:31:29.656770   \n",
       "12  2023-04-09 13:31:35.521291   \n",
       "13  2023-04-09 13:31:32.790126   \n",
       "14  2023-04-09 13:31:31.508555   \n",
       "15  2023-04-09 13:31:28.660319   \n",
       "\n",
       "                                          performance  f1_score_avg  \\\n",
       "0   {'0': {'precision': 0.865158371040724, 'recall...      0.835501   \n",
       "1   {'0': {'precision': 0.8656307129798904, 'recal...      0.832394   \n",
       "2   {'0': {'precision': 0.860909090909091, 'recall...      0.829689   \n",
       "3   {'0': {'precision': 0.8563685636856369, 'recal...      0.827426   \n",
       "4   {'0': {'precision': 0.8567518248175182, 'recal...      0.824322   \n",
       "5   {'0': {'precision': 0.8567518248175182, 'recal...      0.824322   \n",
       "6   {'0': {'precision': 0.8567518248175182, 'recal...      0.824322   \n",
       "7   {'0': {'precision': 0.8106255355612683, 'recal...      0.798354   \n",
       "8   {'0': {'precision': 0.8106255355612683, 'recal...      0.798354   \n",
       "9   {'0': {'precision': 0.8106255355612683, 'recal...      0.798354   \n",
       "10  {'0': {'precision': 0.7774822695035462, 'recal...      0.754239   \n",
       "11  {'0': {'precision': 0.7709251101321586, 'recal...      0.749254   \n",
       "12  {'0': {'precision': 0.7709251101321586, 'recal...      0.749254   \n",
       "13  {'0': {'precision': 0.7709251101321586, 'recal...      0.749254   \n",
       "14  {'0': {'precision': 0.7721631205673759, 'recal...      0.748857   \n",
       "15  {'0': {'precision': 0.7721179624664879, 'recal...      0.746675   \n",
       "\n",
       "   data_configurations  \n",
       "0         oversampling  \n",
       "1                smote  \n",
       "2                smote  \n",
       "3        undersampling  \n",
       "4                smote  \n",
       "5        undersampling  \n",
       "6         oversampling  \n",
       "7                smote  \n",
       "8        undersampling  \n",
       "9         oversampling  \n",
       "10               smote  \n",
       "11       undersampling  \n",
       "12               smote  \n",
       "13        oversampling  \n",
       "14        oversampling  \n",
       "15       undersampling  "
      ]
     },
     "execution_count": 101,
     "metadata": {},
     "output_type": "execute_result"
    }
   ],
   "source": [
    "training_log_to_df(training_log)"
   ]
  },
  {
   "cell_type": "markdown",
   "id": "2741e346",
   "metadata": {},
   "source": [
    "## Confusion Matrix"
   ]
  },
  {
   "cell_type": "code",
   "execution_count": 102,
   "id": "d523c22e",
   "metadata": {
    "ExecuteTime": {
     "end_time": "2023-04-09T06:34:35.313974Z",
     "start_time": "2023-04-09T06:34:35.218344Z"
    }
   },
   "outputs": [],
   "source": [
    "y_pred = model.predict(x_valid)"
   ]
  },
  {
   "cell_type": "code",
   "execution_count": 103,
   "id": "670d8d4e",
   "metadata": {
    "ExecuteTime": {
     "end_time": "2023-04-09T06:34:35.955126Z",
     "start_time": "2023-04-09T06:34:35.650147Z"
    }
   },
   "outputs": [
    {
     "data": {
      "text/plain": [
       "<sklearn.metrics._plot.confusion_matrix.ConfusionMatrixDisplay at 0x7f97ce152e50>"
      ]
     },
     "execution_count": 103,
     "metadata": {},
     "output_type": "execute_result"
    },
    {
     "data": {
      "image/png": "[encoded data removed]",
      "text/plain": [
       "<Figure size 432x288 with 2 Axes>"
      ]
     },
     "metadata": {
      "needs_background": "light"
     },
     "output_type": "display_data"
    }
   ],
   "source": [
    "ConfusionMatrixDisplay.from_predictions(y_valid, y_pred)"
   ]
  },
  {
   "cell_type": "markdown",
   "id": "5e079aa7",
   "metadata": {},
   "source": [
    "## Classification Report"
   ]
  },
  {
   "cell_type": "code",
   "execution_count": 104,
   "id": "22ffd3b3",
   "metadata": {
    "ExecuteTime": {
     "end_time": "2023-04-09T06:34:38.326961Z",
     "start_time": "2023-04-09T06:34:38.308744Z"
    }
   },
   "outputs": [
    {
     "name": "stdout",
     "output_type": "stream",
     "text": [
      "              precision    recall  f1-score   support\n",
      "\n",
      "           0       0.87      0.81      0.84      1174\n",
      "           1       0.81      0.86      0.83      1058\n",
      "\n",
      "    accuracy                           0.84      2232\n",
      "   macro avg       0.84      0.84      0.84      2232\n",
      "weighted avg       0.84      0.84      0.84      2232\n",
      "\n"
     ]
    }
   ],
   "source": [
    "print(classification_report(y_valid, y_pred))"
   ]
  },
  {
   "cell_type": "code",
   "execution_count": 105,
   "id": "7cd5297d",
   "metadata": {
    "ExecuteTime": {
     "end_time": "2023-04-09T06:34:38.700301Z",
     "start_time": "2023-04-09T06:34:38.690757Z"
    }
   },
   "outputs": [
    {
     "data": {
      "text/plain": [
       "0.5261979399910435"
      ]
     },
     "execution_count": 105,
     "metadata": {},
     "output_type": "execute_result"
    }
   ],
   "source": [
    "baseline_score"
   ]
  },
  {
   "cell_type": "markdown",
   "id": "7bfbc80d",
   "metadata": {},
   "source": [
    "## Evaluate with test data"
   ]
  },
  {
   "cell_type": "code",
   "execution_count": 106,
   "id": "848d18d6",
   "metadata": {
    "ExecuteTime": {
     "end_time": "2023-04-09T06:34:41.052179Z",
     "start_time": "2023-04-09T06:34:40.961825Z"
    }
   },
   "outputs": [],
   "source": [
    "y_pred2 = model.predict(x_test)"
   ]
  },
  {
   "cell_type": "code",
   "execution_count": 107,
   "id": "c578a601",
   "metadata": {
    "ExecuteTime": {
     "end_time": "2023-04-09T06:34:41.454377Z",
     "start_time": "2023-04-09T06:34:41.432502Z"
    }
   },
   "outputs": [
    {
     "name": "stdout",
     "output_type": "stream",
     "text": [
      "              precision    recall  f1-score   support\n",
      "\n",
      "           0       0.85      0.80      0.82      1175\n",
      "           1       0.79      0.85      0.82      1058\n",
      "\n",
      "    accuracy                           0.82      2233\n",
      "   macro avg       0.82      0.82      0.82      2233\n",
      "weighted avg       0.82      0.82      0.82      2233\n",
      "\n"
     ]
    }
   ],
   "source": [
    "print(classification_report(y_test, y_pred2))"
   ]
  },
  {
   "cell_type": "code",
   "execution_count": null,
   "id": "46255af6",
   "metadata": {},
   "outputs": [],
   "source": []
  }
 ],
 "metadata": {
  "kernelspec": {
   "display_name": "Python 3 (ipykernel)",
   "language": "python",
   "name": "python3"
  },
  "language_info": {
   "codemirror_mode": {
    "name": "ipython",
    "version": 3
   },
   "file_extension": ".py",
   "mimetype": "text/x-python",
   "name": "python",
   "nbconvert_exporter": "python",
   "pygments_lexer": "ipython3",
   "version": "3.9.7"
  },
  "toc": {
   "base_numbering": 1,
   "nav_menu": {},
   "number_sections": true,
   "sideBar": true,
   "skip_h1_title": false,
   "title_cell": "Table of Contents",
   "title_sidebar": "Contents",
   "toc_cell": false,
   "toc_position": {},
   "toc_section_display": true,
   "toc_window_display": true
  }
 },
 "nbformat": 4,
 "nbformat_minor": 5
}
